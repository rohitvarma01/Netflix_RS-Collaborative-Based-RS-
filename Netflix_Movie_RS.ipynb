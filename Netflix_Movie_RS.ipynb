{
 "cells": [
  {
   "cell_type": "markdown",
   "metadata": {
    "colab_type": "text",
    "id": "1kmagNKcxrjf"
   },
   "source": [
    "<h1> Netflix Movie RS   (Collaborative Based RS)</h1>\n",
    "<h3>~ by Rohit Varma"
   ]
  },
  {
   "cell_type": "markdown",
   "metadata": {
    "colab_type": "text",
    "id": "txuaAQapxrjk"
   },
   "source": [
    "<h2> Problem Statement </h2>"
   ]
  },
  {
   "cell_type": "markdown",
   "metadata": {
    "colab_type": "text",
    "id": "5v50M1Zbxrjl"
   },
   "source": [
    "<p>\n",
    "Netflix provided a lot of anonymous rating data, and a prediction accuracy bar that is 10% better than what Cinematch can do on the same training data set. (Accuracy is a measurement of how closely predicted ratings of movies match subsequent actual ratings.) \n",
    "</p>"
   ]
  },
  {
   "cell_type": "markdown",
   "metadata": {
    "colab_type": "text",
    "id": "Nueo95hZICDF"
   },
   "source": [
    "## Data Source"
   ]
  },
  {
   "cell_type": "markdown",
   "metadata": {
    "colab_type": "text",
    "id": "9FlrEeXhxrjo"
   },
   "source": [
    "<ul>\n",
    "<li> https://www.kaggle.com/netflix-inc/netflix-prize-data/data</li>\n"
   ]
  },
  {
   "cell_type": "markdown",
   "metadata": {},
   "source": [
    "### Referrence: \t\n",
    "     - https://www.kaggle.com/netflix-inc/netflix-prize-data\n",
    " \t- Netflix blog: https://medium.com/netflix-techblog/netflix-recommendations-beyond-the-5-stars-part-1-55838468f429\n",
    " \t- surprise library: http://surpriselib.com/\n",
    " \t- surprise library doc: http://surprise.readthedocs.io/en/stable/getting_started.html \n",
    " \t- Research paper: http://courses.ischool.berkeley.edu/i290-dm/s11/SECURE/a1-koren.pdf "
   ]
  },
  {
   "cell_type": "code",
   "execution_count": 2,
   "metadata": {
    "colab": {},
    "colab_type": "code",
    "id": "SOP8G-jbxrkF"
   },
   "outputs": [],
   "source": [
    "from datetime import datetime\n",
    "import pandas as pd\n",
    "import numpy as np\n",
    "import matplotlib\n",
    "matplotlib.use('nbagg')\n",
    "\n",
    "import matplotlib.pyplot as plt\n",
    "plt.rcParams.update({'figure.max_open_warning': 0})\n",
    "\n",
    "import seaborn as sns\n",
    "sns.set_style('whitegrid')\n",
    "import os\n",
    "from scipy import sparse\n",
    "from scipy.sparse import csr_matrix\n",
    "\n",
    "from sklearn.decomposition import TruncatedSVD\n",
    "from sklearn.metrics.pairwise import cosine_similarity\n",
    "import random\n",
    "import warnings\n",
    "\n",
    "warnings.filterwarnings('ignore')"
   ]
  },
  {
   "cell_type": "markdown",
   "metadata": {
    "colab_type": "text",
    "id": "lVyeqDMqxrkO"
   },
   "source": [
    "<h1> 3. Exploratory Data Analysis </h1>"
   ]
  },
  {
   "cell_type": "markdown",
   "metadata": {
    "colab_type": "text",
    "id": "hOBwSU1yxrkP"
   },
   "source": [
    "<h2> 3.1 Pre-preprocessing of data</h2> "
   ]
  },
  {
   "cell_type": "markdown",
   "metadata": {
    "colab_type": "text",
    "id": "e6rSOBxIxrkR"
   },
   "source": [
    "<h3>3.1.1 Converting / Merging whole data to required format: u_i, m_j, r_ij</h3>"
   ]
  },
  {
   "cell_type": "code",
   "execution_count": 3,
   "metadata": {
    "colab": {},
    "colab_type": "code",
    "id": "ijAmOSzsxrkS",
    "outputId": "70c17ed1-22c7-4938-ccec-26af46e51fa6"
   },
   "outputs": [
    {
     "name": "stdout",
     "output_type": "stream",
     "text": [
      "Time taken : 0:00:00.000500\n"
     ]
    }
   ],
   "source": [
    "start = datetime.now()\n",
    "if not os.path.isfile('data.csv'):\n",
    "    \n",
    "    data = open('data.csv', mode='w')\n",
    "    \n",
    "    row = list()\n",
    "    files=['data_folder/combined_data_1.txt','data_folder/combined_data_2.txt', \n",
    "           'data_folder/combined_data_3.txt', 'data_folder/combined_data_4.txt']\n",
    "    for file in files:\n",
    "        print(\"Reading ratings from {}...\".format(file))\n",
    "        with open(file) as f:\n",
    "            for line in f: \n",
    "                del row[:] \n",
    "                line = line.strip()\n",
    "                if line.endswith(':'):\n",
    "                    \n",
    "                    movie_id = line.replace(':', '')\n",
    "                else:\n",
    "                    row = [x for x in line.split(',')]\n",
    "                    row.insert(0, movie_id)\n",
    "                    data.write(','.join(row))\n",
    "                    data.write('\\n')\n",
    "        print(\"Done.\\n\")\n",
    "    data.close()\n",
    "print('Time taken :', datetime.now() - start)"
   ]
  },
  {
   "cell_type": "code",
   "execution_count": 4,
   "metadata": {
    "colab": {},
    "colab_type": "code",
    "id": "HecSc3oXxrkd",
    "outputId": "8a5b70c4-ba43-4ecf-bbb3-e711aa78855a"
   },
   "outputs": [
    {
     "name": "stdout",
     "output_type": "stream",
     "text": [
      "creating the dataframe from data.csv file..\n",
      "Done.\n",
      "\n",
      "Sorting the dataframe by date..\n",
      "Done..\n"
     ]
    }
   ],
   "source": [
    "print(\"creating the dataframe from data.csv file..\")\n",
    "df = pd.read_csv('data.csv', sep=',', \n",
    "                       names=['movie', 'user','rating','date'])\n",
    "df.date = pd.to_datetime(df.date)\n",
    "print('Done.\\n')\n",
    "\n",
    "print('Sorting the dataframe by date..')\n",
    "df.sort_values(by='date', inplace=True)\n",
    "print('Done..')"
   ]
  },
  {
   "cell_type": "code",
   "execution_count": 5,
   "metadata": {
    "colab": {},
    "colab_type": "code",
    "id": "GkhBmOCoxrkk",
    "outputId": "d4219b8c-ab61-4562-f521-8e7563295d2f"
   },
   "outputs": [
    {
     "data": {
      "text/html": [
       "<div>\n",
       "<style scoped>\n",
       "    .dataframe tbody tr th:only-of-type {\n",
       "        vertical-align: middle;\n",
       "    }\n",
       "\n",
       "    .dataframe tbody tr th {\n",
       "        vertical-align: top;\n",
       "    }\n",
       "\n",
       "    .dataframe thead th {\n",
       "        text-align: right;\n",
       "    }\n",
       "</style>\n",
       "<table border=\"1\" class=\"dataframe\">\n",
       "  <thead>\n",
       "    <tr style=\"text-align: right;\">\n",
       "      <th></th>\n",
       "      <th>movie</th>\n",
       "      <th>user</th>\n",
       "      <th>rating</th>\n",
       "      <th>date</th>\n",
       "    </tr>\n",
       "  </thead>\n",
       "  <tbody>\n",
       "    <tr>\n",
       "      <td>56431994</td>\n",
       "      <td>10341</td>\n",
       "      <td>510180</td>\n",
       "      <td>4</td>\n",
       "      <td>1999-11-11</td>\n",
       "    </tr>\n",
       "    <tr>\n",
       "      <td>9056171</td>\n",
       "      <td>1798</td>\n",
       "      <td>510180</td>\n",
       "      <td>5</td>\n",
       "      <td>1999-11-11</td>\n",
       "    </tr>\n",
       "    <tr>\n",
       "      <td>58698779</td>\n",
       "      <td>10774</td>\n",
       "      <td>510180</td>\n",
       "      <td>3</td>\n",
       "      <td>1999-11-11</td>\n",
       "    </tr>\n",
       "    <tr>\n",
       "      <td>48101611</td>\n",
       "      <td>8651</td>\n",
       "      <td>510180</td>\n",
       "      <td>2</td>\n",
       "      <td>1999-11-11</td>\n",
       "    </tr>\n",
       "    <tr>\n",
       "      <td>81893208</td>\n",
       "      <td>14660</td>\n",
       "      <td>510180</td>\n",
       "      <td>2</td>\n",
       "      <td>1999-11-11</td>\n",
       "    </tr>\n",
       "  </tbody>\n",
       "</table>\n",
       "</div>"
      ],
      "text/plain": [
       "          movie    user  rating       date\n",
       "56431994  10341  510180       4 1999-11-11\n",
       "9056171    1798  510180       5 1999-11-11\n",
       "58698779  10774  510180       3 1999-11-11\n",
       "48101611   8651  510180       2 1999-11-11\n",
       "81893208  14660  510180       2 1999-11-11"
      ]
     },
     "execution_count": 5,
     "metadata": {},
     "output_type": "execute_result"
    }
   ],
   "source": [
    "df.head()"
   ]
  },
  {
   "cell_type": "code",
   "execution_count": 6,
   "metadata": {
    "colab": {},
    "colab_type": "code",
    "id": "yc3bmsOKxrkr",
    "outputId": "0268fee8-1677-4e0f-c7cf-1c9753ce804c",
    "scrolled": true
   },
   "outputs": [
    {
     "data": {
      "text/plain": [
       "count    1.004805e+08\n",
       "mean     3.604290e+00\n",
       "std      1.085219e+00\n",
       "min      1.000000e+00\n",
       "25%      3.000000e+00\n",
       "50%      4.000000e+00\n",
       "75%      4.000000e+00\n",
       "max      5.000000e+00\n",
       "Name: rating, dtype: float64"
      ]
     },
     "execution_count": 6,
     "metadata": {},
     "output_type": "execute_result"
    }
   ],
   "source": [
    "df.describe()['rating']"
   ]
  },
  {
   "cell_type": "markdown",
   "metadata": {
    "colab_type": "text",
    "id": "O6Jh9hMUxrky"
   },
   "source": [
    "<h3>3.1.2 Checking for NaN values </h3>"
   ]
  },
  {
   "cell_type": "code",
   "execution_count": 7,
   "metadata": {
    "colab": {},
    "colab_type": "code",
    "id": "2RX0XUYGxrkz",
    "outputId": "cbf3cf18-3a40-447b-f212-946b5dac3178",
    "scrolled": false
   },
   "outputs": [
    {
     "name": "stdout",
     "output_type": "stream",
     "text": [
      "No of Nan values in our dataframe :  0\n"
     ]
    }
   ],
   "source": [
    "print(\"No of Nan values in our dataframe : \", sum(df.isnull().any()))"
   ]
  },
  {
   "cell_type": "markdown",
   "metadata": {
    "colab_type": "text",
    "id": "QofEYR63xrk9"
   },
   "source": [
    "<h3>3.1.3 Removing Duplicates </h3>"
   ]
  },
  {
   "cell_type": "code",
   "execution_count": 8,
   "metadata": {
    "colab": {},
    "colab_type": "code",
    "id": "wDHFQBfCxrlA",
    "outputId": "30c71def-12a3-4030-8106-4c4fe9f45216"
   },
   "outputs": [
    {
     "name": "stdout",
     "output_type": "stream",
     "text": [
      "There are 0 duplicate rating entries in the data..\n"
     ]
    }
   ],
   "source": [
    "dup_bool = df.duplicated(['movie','user','rating'])\n",
    "dups = sum(dup_bool) \n",
    "print(\"There are {} duplicate rating entries in the data..\".format(dups))"
   ]
  },
  {
   "cell_type": "markdown",
   "metadata": {
    "colab_type": "text",
    "id": "OhrBQacmxrlM"
   },
   "source": [
    " <h3>3.1.4 Basic Statistics (#Ratings, #Users, and #Movies)</h3>"
   ]
  },
  {
   "cell_type": "code",
   "execution_count": 9,
   "metadata": {
    "colab": {},
    "colab_type": "code",
    "id": "Gq66viptxrlP",
    "outputId": "44fa5c2d-16e1-47e2-afda-cf485ec44d74"
   },
   "outputs": [
    {
     "name": "stdout",
     "output_type": "stream",
     "text": [
      "Total data \n",
      "--------------------------------------------------\n",
      "\n",
      "Total no of ratings : 100480507\n",
      "Total No of Users   : 480189\n",
      "Total No of movies  : 17770\n"
     ]
    }
   ],
   "source": [
    "print(\"Total data \")\n",
    "print(\"-\"*50)\n",
    "print(\"\\nTotal no of ratings :\",df.shape[0])\n",
    "print(\"Total No of Users   :\", len(np.unique(df.user)))\n",
    "print(\"Total No of movies  :\", len(np.unique(df.movie)))"
   ]
  },
  {
   "cell_type": "markdown",
   "metadata": {
    "colab_type": "text",
    "id": "FIduSZiexrlW"
   },
   "source": [
    "<h2>3.2 Spliting data into Train and Test(80:20) </h2>"
   ]
  },
  {
   "cell_type": "code",
   "execution_count": 10,
   "metadata": {
    "colab": {},
    "colab_type": "code",
    "id": "jpT2WRQjxrlY"
   },
   "outputs": [],
   "source": [
    "if not os.path.isfile('train.csv'):\n",
    "    df.iloc[:int(df.shape[0]*0.80)].to_csv(\"train.csv\", index=False)\n",
    "\n",
    "if not os.path.isfile('test.csv'):\n",
    "    df.iloc[int(df.shape[0]*0.80):].to_csv(\"test.csv\", index=False)\n",
    "\n",
    "train_df = pd.read_csv(\"train.csv\", parse_dates=['date'])\n",
    "test_df = pd.read_csv(\"test.csv\")"
   ]
  },
  {
   "cell_type": "markdown",
   "metadata": {
    "colab_type": "text",
    "id": "SCT91Uw5xrld"
   },
   "source": [
    "<h3>3.2.1 Basic Statistics in Train data (#Ratings, #Users, and #Movies)</h3>"
   ]
  },
  {
   "cell_type": "code",
   "execution_count": 11,
   "metadata": {
    "colab": {},
    "colab_type": "code",
    "id": "Il1yfWfuxrle",
    "outputId": "5a333f53-f3b9-48da-ea4e-3b0e42d1cf4e"
   },
   "outputs": [
    {
     "name": "stdout",
     "output_type": "stream",
     "text": [
      "Training data \n",
      "--------------------------------------------------\n",
      "\n",
      "Total no of ratings : 80384405\n",
      "Total No of Users   : 405041\n",
      "Total No of movies  : 17424\n"
     ]
    }
   ],
   "source": [
    "print(\"Training data \")\n",
    "print(\"-\"*50)\n",
    "print(\"\\nTotal no of ratings :\",train_df.shape[0])\n",
    "print(\"Total No of Users   :\", len(np.unique(train_df.user)))\n",
    "print(\"Total No of movies  :\", len(np.unique(train_df.movie)))"
   ]
  },
  {
   "cell_type": "markdown",
   "metadata": {
    "colab_type": "text",
    "id": "eEVS0juVxrlk"
   },
   "source": [
    "<h3>3.2.2 Basic Statistics in Test data (#Ratings, #Users, and #Movies)</h3>"
   ]
  },
  {
   "cell_type": "code",
   "execution_count": 12,
   "metadata": {
    "colab": {},
    "colab_type": "code",
    "id": "V0SLQlbNxrll",
    "outputId": "43c45676-7abd-4514-ce87-3d3673b2906f"
   },
   "outputs": [
    {
     "name": "stdout",
     "output_type": "stream",
     "text": [
      "Test data \n",
      "--------------------------------------------------\n",
      "\n",
      "Total no of ratings : 20096102\n",
      "Total No of Users   : 349312\n",
      "Total No of movies  : 17757\n"
     ]
    }
   ],
   "source": [
    "print(\"Test data \")\n",
    "print(\"-\"*50)\n",
    "print(\"\\nTotal no of ratings :\",test_df.shape[0])\n",
    "print(\"Total No of Users   :\", len(np.unique(test_df.user)))\n",
    "print(\"Total No of movies  :\", len(np.unique(test_df.movie)))"
   ]
  },
  {
   "cell_type": "markdown",
   "metadata": {
    "colab_type": "text",
    "id": "a_tk9Btvxrlq"
   },
   "source": [
    " <h2> 3.3 Exploratory Data Analysis on Train data </h2>"
   ]
  },
  {
   "cell_type": "markdown",
   "metadata": {
    "colab_type": "text",
    "id": "5zI-MO7Lxrlu"
   },
   "source": [
    " "
   ]
  },
  {
   "cell_type": "code",
   "execution_count": 13,
   "metadata": {
    "colab": {},
    "colab_type": "code",
    "id": "tnjH03rkxrlx"
   },
   "outputs": [],
   "source": [
    "def human(num, units = 'M'):\n",
    "    units = units.lower()\n",
    "    num = float(num)\n",
    "    if units == 'k':\n",
    "        return str(num/10**3) + \" K\"\n",
    "    elif units == 'm':\n",
    "        return str(num/10**6) + \" M\"\n",
    "    elif units == 'b':\n",
    "        return str(num/10**9) +  \" B\""
   ]
  },
  {
   "cell_type": "markdown",
   "metadata": {
    "colab_type": "text",
    "id": "m3SE677Jxrl0"
   },
   "source": [
    "<h3> 3.3.1 Distribution of ratings </h3>"
   ]
  },
  {
   "cell_type": "code",
   "execution_count": 119,
   "metadata": {
    "colab": {},
    "colab_type": "code",
    "id": "NRmmEFIAxrl2",
    "outputId": "e4123071-a4a5-47c6-d59d-1c7444850a94",
    "scrolled": false
   },
   "outputs": [
    {
     "data": {
      "image/png": "[encoded data removed]",
      "text/plain": [
       "<Figure size 432x288 with 1 Axes>"
      ]
     },
     "metadata": {
      "needs_background": "light"
     },
     "output_type": "display_data"
    }
   ],
   "source": [
    "fig, ax = plt.subplots()\n",
    "plt.title('Distribution of ratings over Training dataset', fontsize=15)\n",
    "sns.countplot(train_df.rating)\n",
    "ax.set_yticklabels([human(item, 'M') for item in ax.get_yticks()])\n",
    "ax.set_ylabel('No. of Ratings(Millions)')\n",
    "\n",
    "plt.show()"
   ]
  },
  {
   "cell_type": "markdown",
   "metadata": {
    "colab_type": "text",
    "id": "iuHfNIS7xrl9"
   },
   "source": [
    "<p style=\"font-size:13px\"> <b>Add new column (week day) to the data set  for analysis.</b></p>"
   ]
  },
  {
   "cell_type": "code",
   "execution_count": 15,
   "metadata": {
    "colab": {},
    "colab_type": "code",
    "id": "IUeYMtbtxrl-",
    "outputId": "90de208b-33c4-48bd-9ee2-70796b2fc47a",
    "scrolled": true
   },
   "outputs": [
    {
     "data": {
      "text/html": [
       "<div>\n",
       "<style scoped>\n",
       "    .dataframe tbody tr th:only-of-type {\n",
       "        vertical-align: middle;\n",
       "    }\n",
       "\n",
       "    .dataframe tbody tr th {\n",
       "        vertical-align: top;\n",
       "    }\n",
       "\n",
       "    .dataframe thead th {\n",
       "        text-align: right;\n",
       "    }\n",
       "</style>\n",
       "<table border=\"1\" class=\"dataframe\">\n",
       "  <thead>\n",
       "    <tr style=\"text-align: right;\">\n",
       "      <th></th>\n",
       "      <th>movie</th>\n",
       "      <th>user</th>\n",
       "      <th>rating</th>\n",
       "      <th>date</th>\n",
       "      <th>day_of_week</th>\n",
       "    </tr>\n",
       "  </thead>\n",
       "  <tbody>\n",
       "    <tr>\n",
       "      <td>80384400</td>\n",
       "      <td>12074</td>\n",
       "      <td>2033618</td>\n",
       "      <td>4</td>\n",
       "      <td>2005-08-08</td>\n",
       "      <td>Monday</td>\n",
       "    </tr>\n",
       "    <tr>\n",
       "      <td>80384401</td>\n",
       "      <td>862</td>\n",
       "      <td>1797061</td>\n",
       "      <td>3</td>\n",
       "      <td>2005-08-08</td>\n",
       "      <td>Monday</td>\n",
       "    </tr>\n",
       "    <tr>\n",
       "      <td>80384402</td>\n",
       "      <td>10986</td>\n",
       "      <td>1498715</td>\n",
       "      <td>5</td>\n",
       "      <td>2005-08-08</td>\n",
       "      <td>Monday</td>\n",
       "    </tr>\n",
       "    <tr>\n",
       "      <td>80384403</td>\n",
       "      <td>14861</td>\n",
       "      <td>500016</td>\n",
       "      <td>4</td>\n",
       "      <td>2005-08-08</td>\n",
       "      <td>Monday</td>\n",
       "    </tr>\n",
       "    <tr>\n",
       "      <td>80384404</td>\n",
       "      <td>5926</td>\n",
       "      <td>1044015</td>\n",
       "      <td>5</td>\n",
       "      <td>2005-08-08</td>\n",
       "      <td>Monday</td>\n",
       "    </tr>\n",
       "  </tbody>\n",
       "</table>\n",
       "</div>"
      ],
      "text/plain": [
       "          movie     user  rating       date day_of_week\n",
       "80384400  12074  2033618       4 2005-08-08      Monday\n",
       "80384401    862  1797061       3 2005-08-08      Monday\n",
       "80384402  10986  1498715       5 2005-08-08      Monday\n",
       "80384403  14861   500016       4 2005-08-08      Monday\n",
       "80384404   5926  1044015       5 2005-08-08      Monday"
      ]
     },
     "execution_count": 15,
     "metadata": {},
     "output_type": "execute_result"
    }
   ],
   "source": [
    "pd.options.mode.chained_assignment = None \n",
    "\n",
    "train_df['day_of_week'] = train_df.date.dt.weekday_name\n",
    "\n",
    "train_df.tail()"
   ]
  },
  {
   "cell_type": "markdown",
   "metadata": {
    "colab_type": "text",
    "id": "uLqBOfOkxrmE"
   },
   "source": [
    "<h3> 3.3.2 Number of Ratings per a month </h3>"
   ]
  },
  {
   "cell_type": "code",
   "execution_count": 120,
   "metadata": {
    "colab": {},
    "colab_type": "code",
    "id": "4XoUFEM2xrmF",
    "outputId": "c344e4a0-4aa3-4631-b05f-e4e114ea86cd",
    "scrolled": false
   },
   "outputs": [
    {
     "data": {
      "image/png": "[encoded data removed]",
      "text/plain": [
       "<Figure size 432x288 with 1 Axes>"
      ]
     },
     "metadata": {
      "needs_background": "light"
     },
     "output_type": "display_data"
    }
   ],
   "source": [
    "ax = train_df.resample('m', on='date')['rating'].count().plot()\n",
    "ax.set_title('No of ratings per month (Training data)')\n",
    "plt.xlabel('Month')\n",
    "plt.ylabel('No of ratings(per month)')\n",
    "ax.set_yticklabels([human(item, 'M') for item in ax.get_yticks()])\n",
    "plt.show()"
   ]
  },
  {
   "cell_type": "markdown",
   "metadata": {
    "colab_type": "text",
    "id": "RvdwgaXUxrmL"
   },
   "source": [
    " "
   ]
  },
  {
   "cell_type": "markdown",
   "metadata": {
    "colab_type": "text",
    "id": "Rm4JZhKixrmN"
   },
   "source": [
    "<h3> 3.3.3 Analysis on the Ratings given by user </h3>"
   ]
  },
  {
   "cell_type": "code",
   "execution_count": 17,
   "metadata": {
    "colab": {},
    "colab_type": "code",
    "id": "MT495cdNxrmO",
    "outputId": "d98658da-825f-473a-fe4f-acb8a7f6a544",
    "scrolled": true
   },
   "outputs": [
    {
     "data": {
      "text/plain": [
       "user\n",
       "305344     17112\n",
       "2439493    15896\n",
       "387418     15402\n",
       "1639792     9767\n",
       "1461435     9447\n",
       "Name: rating, dtype: int64"
      ]
     },
     "execution_count": 17,
     "metadata": {},
     "output_type": "execute_result"
    }
   ],
   "source": [
    "no_of_rated_movies_per_user = train_df.groupby(by='user')['rating'].count().sort_values(ascending=False)\n",
    "\n",
    "no_of_rated_movies_per_user.head()"
   ]
  },
  {
   "cell_type": "code",
   "execution_count": 121,
   "metadata": {
    "colab": {},
    "colab_type": "code",
    "id": "j3TQq_DJxrmT",
    "outputId": "1babadf7-7111-40cb-b682-811dffbaac40"
   },
   "outputs": [
    {
     "data": {
      "image/png": "[encoded data removed]",
      "text/plain": [
       "<Figure size 576x288 with 2 Axes>"
      ]
     },
     "metadata": {
      "needs_background": "light"
     },
     "output_type": "display_data"
    }
   ],
   "source": [
    "fig = plt.figure(figsize=plt.figaspect(.5))\n",
    "\n",
    "ax1 = plt.subplot(121)\n",
    "sns.kdeplot(no_of_rated_movies_per_user, shade=True, ax=ax1)\n",
    "plt.xlabel('No of ratings by user')\n",
    "plt.title(\"PDF\")\n",
    "\n",
    "ax2 = plt.subplot(122)\n",
    "sns.kdeplot(no_of_rated_movies_per_user, shade=True, cumulative=True,ax=ax2)\n",
    "plt.xlabel('No of ratings by user')\n",
    "plt.title('CDF')\n",
    "\n",
    "plt.show()"
   ]
  },
  {
   "cell_type": "code",
   "execution_count": 19,
   "metadata": {
    "colab": {},
    "colab_type": "code",
    "id": "WPYD3A0ZxrmY",
    "outputId": "f3f6a9f3-d599-429f-afa6-1b4580b2affb",
    "scrolled": false
   },
   "outputs": [
    {
     "data": {
      "text/plain": [
       "count    405041.000000\n",
       "mean        198.459921\n",
       "std         290.793238\n",
       "min           1.000000\n",
       "25%          34.000000\n",
       "50%          89.000000\n",
       "75%         245.000000\n",
       "max       17112.000000\n",
       "Name: rating, dtype: float64"
      ]
     },
     "execution_count": 19,
     "metadata": {},
     "output_type": "execute_result"
    }
   ],
   "source": [
    "no_of_rated_movies_per_user.describe()"
   ]
  },
  {
   "cell_type": "markdown",
   "metadata": {
    "colab_type": "text",
    "id": "_HGU2IKuxrmd"
   },
   "source": [
    "<h3> There,  is something interesting going on with the quantiles.._"
   ]
  },
  {
   "cell_type": "code",
   "execution_count": 20,
   "metadata": {
    "colab": {},
    "colab_type": "code",
    "id": "1FJkU6DNxrmf"
   },
   "outputs": [],
   "source": [
    "quantiles = no_of_rated_movies_per_user.quantile(np.arange(0,1.01,0.01), interpolation='higher')"
   ]
  },
  {
   "cell_type": "code",
   "execution_count": 122,
   "metadata": {
    "colab": {},
    "colab_type": "code",
    "id": "moUrxKoVxrmj",
    "outputId": "6a7ef012-2612-40b9-8516-43637e338b1f",
    "scrolled": false
   },
   "outputs": [
    {
     "data": {
      "image/png": "[encoded data removed]",
      "text/plain": [
       "<Figure size 432x288 with 1 Axes>"
      ]
     },
     "metadata": {
      "needs_background": "light"
     },
     "output_type": "display_data"
    }
   ],
   "source": [
    "plt.title(\"Quantiles and their Values\")\n",
    "quantiles.plot()\n",
    "\n",
    "plt.scatter(x=quantiles.index[::5], y=quantiles.values[::5], c='orange', label=\"quantiles with 0.05 intervals\")\n",
    "\n",
    "plt.scatter(x=quantiles.index[::25], y=quantiles.values[::25], c='m', label = \"quantiles with 0.25 intervals\")\n",
    "\n",
    "plt.ylabel('No of ratings by user')\n",
    "plt.xlabel('Value at the quantile')\n",
    "plt.legend(loc='best')\n",
    "\n",
    "for x,y in zip(quantiles.index[::25], quantiles[::25]):\n",
    "    plt.annotate(s=\"({} , {})\".format(x,y), xy=(x,y), xytext=(x-0.05, y+500)\n",
    "                ,fontweight='bold')\n",
    "\n",
    "\n",
    "plt.show()"
   ]
  },
  {
   "cell_type": "code",
   "execution_count": 22,
   "metadata": {
    "colab": {},
    "colab_type": "code",
    "id": "YjWhUIoUxrmr",
    "outputId": "9fb24bb8-f60d-4361-c834-1e2ff0cfd469",
    "scrolled": false
   },
   "outputs": [
    {
     "data": {
      "text/plain": [
       "0.00        1\n",
       "0.05        7\n",
       "0.10       15\n",
       "0.15       21\n",
       "0.20       27\n",
       "0.25       34\n",
       "0.30       41\n",
       "0.35       50\n",
       "0.40       60\n",
       "0.45       73\n",
       "0.50       89\n",
       "0.55      109\n",
       "0.60      133\n",
       "0.65      163\n",
       "0.70      199\n",
       "0.75      245\n",
       "0.80      307\n",
       "0.85      392\n",
       "0.90      520\n",
       "0.95      749\n",
       "1.00    17112\n",
       "Name: rating, dtype: int64"
      ]
     },
     "execution_count": 22,
     "metadata": {},
     "output_type": "execute_result"
    }
   ],
   "source": [
    "quantiles[::5]"
   ]
  },
  {
   "cell_type": "markdown",
   "metadata": {
    "colab_type": "text",
    "id": "_evJBswjxrm2"
   },
   "source": [
    "__how many ratings at the last 5% of all ratings__??"
   ]
  },
  {
   "cell_type": "code",
   "execution_count": 23,
   "metadata": {
    "colab": {},
    "colab_type": "code",
    "id": "x6Ofcbc5xrm3",
    "outputId": "c7f1eab1-d5ad-4381-d9f2-0a0e11a38ab6"
   },
   "outputs": [
    {
     "name": "stdout",
     "output_type": "stream",
     "text": [
      "\n",
      " No of ratings at last 5 percentile : 20305\n",
      "\n"
     ]
    }
   ],
   "source": [
    "print('\\n No of ratings at last 5 percentile : {}\\n'.format(sum(no_of_rated_movies_per_user>= 749)) )"
   ]
  },
  {
   "cell_type": "markdown",
   "metadata": {
    "colab_type": "text",
    "id": "uhqHW352xrm9"
   },
   "source": [
    "<h3> 3.3.4 Analysis of ratings of a movie given by a user </h3>"
   ]
  },
  {
   "cell_type": "code",
   "execution_count": 123,
   "metadata": {
    "colab": {},
    "colab_type": "code",
    "id": "rfRBkAYUxrm_",
    "outputId": "f9e2f900-fc75-48a6-98c5-378f9711552e"
   },
   "outputs": [
    {
     "data": {
      "image/png": "[encoded data removed]",
      "text/plain": [
       "<Figure size 576x288 with 1 Axes>"
      ]
     },
     "metadata": {
      "needs_background": "light"
     },
     "output_type": "display_data"
    }
   ],
   "source": [
    "no_of_ratings_per_movie = train_df.groupby(by='movie')['rating'].count().sort_values(ascending=False)\n",
    "\n",
    "fig = plt.figure(figsize=plt.figaspect(.5))\n",
    "ax = plt.gca()\n",
    "plt.plot(no_of_ratings_per_movie.values)\n",
    "plt.title('# RATINGS per Movie')\n",
    "plt.xlabel('Movie')\n",
    "plt.ylabel('No of Users who rated a movie')\n",
    "ax.set_xticklabels([])\n",
    "\n",
    "plt.show()"
   ]
  },
  {
   "cell_type": "markdown",
   "metadata": {
    "colab_type": "text",
    "id": "Wpq4_qXOxrnF"
   },
   "source": [
    "- __It is very skewed.. just like nunmber of ratings given per user.__\n",
    "    \n",
    "    \n",
    "    - There are some movies (which are very popular) which are rated by huge number of users.\n",
    "    \n",
    "    - But most of the movies(like 90%) got some hundereds of ratings."
   ]
  },
  {
   "cell_type": "markdown",
   "metadata": {
    "colab_type": "text",
    "id": "F6ZrsYiIxrnH"
   },
   "source": [
    "<h3> 3.3.5 Number of ratings on each day of the week</h3>"
   ]
  },
  {
   "cell_type": "code",
   "execution_count": 124,
   "metadata": {
    "colab": {},
    "colab_type": "code",
    "id": "SGGpqq23xrnH",
    "outputId": "f2b2b524-96cb-4edc-ce04-006380c7cd3f",
    "scrolled": false
   },
   "outputs": [
    {
     "data": {
      "image/png": "[encoded data removed]",
      "text/plain": [
       "<Figure size 432x288 with 1 Axes>"
      ]
     },
     "metadata": {
      "needs_background": "light"
     },
     "output_type": "display_data"
    }
   ],
   "source": [
    "fig, ax = plt.subplots()\n",
    "sns.countplot(x='day_of_week', data=train_df, ax=ax)\n",
    "plt.title('No of ratings on each day...')\n",
    "plt.ylabel('Total no of ratings')\n",
    "plt.xlabel('')\n",
    "ax.set_yticklabels([human(item, 'M') for item in ax.get_yticks()])\n",
    "plt.show()"
   ]
  },
  {
   "cell_type": "code",
   "execution_count": 26,
   "metadata": {
    "colab": {},
    "colab_type": "code",
    "id": "nNhOQY9cxrnL",
    "outputId": "7038fd53-fe53-4eed-f34b-40f13a718bbf",
    "scrolled": false
   },
   "outputs": [
    {
     "name": "stdout",
     "output_type": "stream",
     "text": [
      "0:00:15.058349\n"
     ]
    }
   ],
   "source": [
    "start = datetime.now()\n",
    "fig = plt.figure(figsize=plt.figaspect(.45))\n",
    "sns.boxplot(y='rating', x='day_of_week', data=train_df)\n",
    "plt.show()\n",
    "print(datetime.now() - start)"
   ]
  },
  {
   "cell_type": "code",
   "execution_count": 27,
   "metadata": {
    "colab": {},
    "colab_type": "code",
    "id": "YU5UuCpHxrnR",
    "outputId": "e9bd9666-b045-41bf-d5c9-6fff7c8d7c9f",
    "scrolled": false
   },
   "outputs": [
    {
     "name": "stdout",
     "output_type": "stream",
     "text": [
      " AVerage ratings\n",
      "------------------------------\n",
      "day_of_week\n",
      "Friday       3.585274\n",
      "Monday       3.577250\n",
      "Saturday     3.591791\n",
      "Sunday       3.594144\n",
      "Thursday     3.582463\n",
      "Tuesday      3.574438\n",
      "Wednesday    3.583751\n",
      "Name: rating, dtype: float64\n",
      "\n",
      "\n"
     ]
    }
   ],
   "source": [
    "avg_week_df = train_df.groupby(by=['day_of_week'])['rating'].mean()\n",
    "print(\" AVerage ratings\")\n",
    "print(\"-\"*30)\n",
    "print(avg_week_df)\n",
    "print(\"\\n\")"
   ]
  },
  {
   "cell_type": "markdown",
   "metadata": {
    "colab_type": "text",
    "id": "qsOhDvfUxrnW"
   },
   "source": [
    " "
   ]
  },
  {
   "cell_type": "markdown",
   "metadata": {
    "colab_type": "text",
    "collapsed": true,
    "id": "Cd1Mv38GxrnX"
   },
   "source": [
    "<h3> 3.3.6 Creating sparse matrix from data frame </h3>"
   ]
  },
  {
   "cell_type": "markdown",
   "metadata": {
    "colab_type": "text",
    "id": "MxfhsyW5xrnY"
   },
   "source": [
    "<table>\n",
    "<tr>\n",
    "<td>\n",
    "<img src='images/data_c.jpg' width='250px' align=left/>\n",
    "</td>\n",
    "<td>\n",
    "<img src='images/arrow.jpg' width='60px' align=left/>\n",
    "</td>\n",
    "<td>\n",
    "<img src='images/data_sparse_c.jpg' width='400px' align=left/>\n",
    "</td>\n",
    "</tr>\n",
    "</table>"
   ]
  },
  {
   "cell_type": "markdown",
   "metadata": {
    "colab_type": "text",
    "id": "KJhTXsCVxrnZ"
   },
   "source": [
    "<h4> 3.3.6.1 Creating sparse matrix from train data frame </h4>"
   ]
  },
  {
   "cell_type": "code",
   "execution_count": 28,
   "metadata": {
    "colab": {},
    "colab_type": "code",
    "id": "tj6TVYrRxrna",
    "outputId": "56d8b6c0-0915-495f-c346-e3f8cb00a72c",
    "scrolled": true
   },
   "outputs": [
    {
     "name": "stdout",
     "output_type": "stream",
     "text": [
      "It is present in your pwd, getting it from disk....\n",
      "DONE..\n",
      "0:00:03.985259\n"
     ]
    }
   ],
   "source": [
    "start = datetime.now()\n",
    "if os.path.isfile('train_sparse_matrix.npz'):\n",
    "    print(\"It is present in your pwd, getting it from disk....\")\n",
    "    \n",
    "    train_sparse_matrix = sparse.load_npz('train_sparse_matrix.npz')\n",
    "    print(\"DONE..\")\n",
    "else: \n",
    "    print(\"We are creating sparse_matrix from the dataframe..\")\n",
    "    \n",
    "    train_sparse_matrix = sparse.csr_matrix((train_df.rating.values, (train_df.user.values,\n",
    "                                               train_df.movie.values)),)\n",
    "    \n",
    "    print('Done. It\\'s shape is : (user, movie) : ',train_sparse_matrix.shape)\n",
    "    print('Saving it into disk for furthur usage..')\n",
    "\n",
    "    sparse.save_npz(\"train_sparse_matrix.npz\", train_sparse_matrix)\n",
    "    print('Done..\\n')\n",
    "\n",
    "print(datetime.now() - start)"
   ]
  },
  {
   "cell_type": "markdown",
   "metadata": {
    "colab_type": "text",
    "id": "pC3exGbRxrne"
   },
   "source": [
    "<p><b>The Sparsity of Train Sparse Matrix</b></p>"
   ]
  },
  {
   "cell_type": "code",
   "execution_count": 29,
   "metadata": {
    "colab": {},
    "colab_type": "code",
    "id": "oXQkR5Xhxrng",
    "outputId": "03d9e4d1-ad92-4691-c526-52bd19bd3fae"
   },
   "outputs": [
    {
     "name": "stdout",
     "output_type": "stream",
     "text": [
      "Sparsity Of Train matrix : 99.8292709259195 % \n"
     ]
    }
   ],
   "source": [
    "us,mv = train_sparse_matrix.shape\n",
    "elem = train_sparse_matrix.count_nonzero()\n",
    "\n",
    "print(\"Sparsity Of Train matrix : {} % \".format(  (1-(elem/(us*mv))) * 100) )"
   ]
  },
  {
   "cell_type": "markdown",
   "metadata": {
    "colab_type": "text",
    "id": "SYOctHZ2xrnn"
   },
   "source": [
    "<h4> 3.3.6.2 Creating sparse matrix from test data frame </h4>"
   ]
  },
  {
   "cell_type": "code",
   "execution_count": 30,
   "metadata": {
    "colab": {},
    "colab_type": "code",
    "id": "WZl8EAedxrnq",
    "outputId": "7acb091e-98d5-4412-bed4-b77db5a359f1"
   },
   "outputs": [
    {
     "name": "stdout",
     "output_type": "stream",
     "text": [
      "It is present in your pwd, getting it from disk....\n",
      "DONE..\n",
      "0:00:01.036673\n"
     ]
    }
   ],
   "source": [
    "start = datetime.now()\n",
    "if os.path.isfile('test_sparse_matrix.npz'):\n",
    "    print(\"It is present in your pwd, getting it from disk....\")\n",
    "\n",
    "    test_sparse_matrix = sparse.load_npz('test_sparse_matrix.npz')\n",
    "    print(\"DONE..\")\n",
    "else: \n",
    "    print(\"We are creating sparse_matrix from the dataframe..\")\n",
    "    \n",
    "    test_sparse_matrix = sparse.csr_matrix((test_df.rating.values, (test_df.user.values,\n",
    "                                               test_df.movie.values)))\n",
    "    \n",
    "    print('Done. It\\'s shape is : (user, movie) : ',test_sparse_matrix.shape)\n",
    "    print('Saving it into disk for furthur usage..')\n",
    "\n",
    "    sparse.save_npz(\"test_sparse_matrix.npz\", test_sparse_matrix)\n",
    "    print('Done..\\n')\n",
    "    \n",
    "print(datetime.now() - start)"
   ]
  },
  {
   "cell_type": "markdown",
   "metadata": {
    "colab_type": "text",
    "id": "p9J75aRtxrnu"
   },
   "source": [
    "<p><b>The Sparsity of Test data Matrix</b></p>"
   ]
  },
  {
   "cell_type": "code",
   "execution_count": 31,
   "metadata": {
    "colab": {},
    "colab_type": "code",
    "id": "RzgJhjorxrnz",
    "outputId": "a9e067b5-cc41-4931-af2a-ba366cf857a2"
   },
   "outputs": [
    {
     "name": "stdout",
     "output_type": "stream",
     "text": [
      "Sparsity Of Test matrix : 99.95731772988694 % \n"
     ]
    }
   ],
   "source": [
    "us,mv = test_sparse_matrix.shape\n",
    "elem = test_sparse_matrix.count_nonzero()\n",
    "\n",
    "print(\"Sparsity Of Test matrix : {} % \".format(  (1-(elem/(us*mv))) * 100) )"
   ]
  },
  {
   "cell_type": "markdown",
   "metadata": {
    "colab_type": "text",
    "id": "uk90Yucuxrn3"
   },
   "source": [
    "<h3>3.3.7 Finding Global average of all movie ratings, Average rating per user, and Average rating per movie</h3>"
   ]
  },
  {
   "cell_type": "code",
   "execution_count": 32,
   "metadata": {
    "colab": {},
    "colab_type": "code",
    "id": "vJehxyKexrn7"
   },
   "outputs": [],
   "source": [
    "def get_average_ratings(sparse_matrix, of_users):\n",
    "    \n",
    "    ax = 1 if of_users else 0 \n",
    "\n",
    "   \n",
    "    sum_of_ratings = sparse_matrix.sum(axis=ax).A1\n",
    "    \n",
    "    is_rated = sparse_matrix!=0\n",
    "\n",
    "    no_of_ratings = is_rated.sum(axis=ax).A1\n",
    "    \n",
    "    u,m = sparse_matrix.shape\n",
    "\n",
    "    average_ratings = { i : sum_of_ratings[i]/no_of_ratings[i]\n",
    "                                 for i in range(u if of_users else m) \n",
    "                                    if no_of_ratings[i] !=0}\n",
    "\n",
    "    return average_ratings"
   ]
  },
  {
   "cell_type": "markdown",
   "metadata": {
    "colab_type": "text",
    "id": "BHO3sF5zxrn-"
   },
   "source": [
    "<h4> 3.3.7.1 finding global average of all movie ratings </h4>"
   ]
  },
  {
   "cell_type": "code",
   "execution_count": 33,
   "metadata": {
    "colab": {},
    "colab_type": "code",
    "id": "tVpUl-ZfxroB",
    "outputId": "258c3fa2-3cdc-428f-9864-a0a875ff8ed0",
    "scrolled": false
   },
   "outputs": [
    {
     "data": {
      "text/plain": [
       "{'global': 3.582890686321557}"
      ]
     },
     "execution_count": 33,
     "metadata": {},
     "output_type": "execute_result"
    }
   ],
   "source": [
    "train_averages = dict()\n",
    "\n",
    "train_global_average = train_sparse_matrix.sum()/train_sparse_matrix.count_nonzero()\n",
    "train_averages['global'] = train_global_average\n",
    "train_averages"
   ]
  },
  {
   "cell_type": "markdown",
   "metadata": {
    "colab_type": "text",
    "id": "NZICFv1fxroF"
   },
   "source": [
    "<h4> 3.3.7.2 finding average rating per user</h4>"
   ]
  },
  {
   "cell_type": "code",
   "execution_count": 34,
   "metadata": {
    "colab": {},
    "colab_type": "code",
    "id": "J1fOjIi4xroF",
    "outputId": "35a50f88-d956-46dd-9a85-054a290e0c60",
    "scrolled": true
   },
   "outputs": [
    {
     "name": "stdout",
     "output_type": "stream",
     "text": [
      "\n",
      "Average rating of user 10 : 3.3781094527363185\n"
     ]
    }
   ],
   "source": [
    "train_averages['user'] = get_average_ratings(train_sparse_matrix, of_users=True)\n",
    "print('\\nAverage rating of user 10 :',train_averages['user'][10])"
   ]
  },
  {
   "cell_type": "markdown",
   "metadata": {
    "colab_type": "text",
    "id": "6CAv2kHHxroJ"
   },
   "source": [
    "<h4> 3.3.7.3 finding average rating per movie</h4>"
   ]
  },
  {
   "cell_type": "code",
   "execution_count": 35,
   "metadata": {
    "colab": {},
    "colab_type": "code",
    "id": "Azt21nAGxroJ",
    "outputId": "b6927c32-9c7f-4080-d25f-bdb34f10775f",
    "scrolled": true
   },
   "outputs": [
    {
     "name": "stdout",
     "output_type": "stream",
     "text": [
      "\n",
      " AVerage rating of movie 15 : 3.3038461538461537\n"
     ]
    }
   ],
   "source": [
    "train_averages['movie'] =  get_average_ratings(train_sparse_matrix, of_users=False)\n",
    "print('\\n AVerage rating of movie 15 :',train_averages['movie'][15])"
   ]
  },
  {
   "cell_type": "markdown",
   "metadata": {
    "colab_type": "text",
    "id": "hZtFXddTxroP"
   },
   "source": [
    " "
   ]
  },
  {
   "cell_type": "markdown",
   "metadata": {
    "colab_type": "text",
    "id": "FKLbra7FxroQ"
   },
   "source": [
    "<h4> 3.3.7.4 PDF's & CDF's of Avg.Ratings of Users & Movies (In Train Data)</h4>"
   ]
  },
  {
   "cell_type": "code",
   "execution_count": 125,
   "metadata": {
    "colab": {},
    "colab_type": "code",
    "id": "6ZBOnhTVxroR",
    "outputId": "0062e436-1d88-4932-e32e-1e1131373404",
    "scrolled": false
   },
   "outputs": [
    {
     "data": {
      "image/png": "[encoded data removed]",
      "text/plain": [
       "<Figure size 576x288 with 2 Axes>"
      ]
     },
     "metadata": {
      "needs_background": "light"
     },
     "output_type": "display_data"
    },
    {
     "name": "stdout",
     "output_type": "stream",
     "text": [
      "0:00:31.209400\n"
     ]
    }
   ],
   "source": [
    "start = datetime.now()\n",
    "\n",
    "fig, (ax1, ax2) = plt.subplots(nrows=1, ncols=2, figsize=plt.figaspect(.5))\n",
    "fig.suptitle('Avg Ratings per User and per Movie', fontsize=15)\n",
    "\n",
    "ax1.set_title('Users-Avg-Ratings')\n",
    "\n",
    "user_averages = [rat for rat in train_averages['user'].values()]\n",
    "sns.distplot(user_averages, ax=ax1, hist=False, \n",
    "             kde_kws=dict(cumulative=True), label='Cdf')\n",
    "sns.distplot(user_averages, ax=ax1, hist=False,label='Pdf')\n",
    "\n",
    "ax2.set_title('Movies-Avg-Rating')\n",
    "\n",
    "movie_averages = [rat for rat in train_averages['movie'].values()]\n",
    "sns.distplot(movie_averages, ax=ax2, hist=False, \n",
    "             kde_kws=dict(cumulative=True), label='Cdf')\n",
    "sns.distplot(movie_averages, ax=ax2, hist=False, label='Pdf')\n",
    "\n",
    "plt.show()\n",
    "print(datetime.now() - start)"
   ]
  },
  {
   "cell_type": "markdown",
   "metadata": {
    "colab_type": "text",
    "id": "4GD_Wv3jxroX"
   },
   "source": [
    "<h3> 3.3.8 Cold Start problem </h3>"
   ]
  },
  {
   "cell_type": "markdown",
   "metadata": {
    "colab_type": "text",
    "id": "nZcVtFdFxroY"
   },
   "source": [
    "<h4> 3.3.8.1 Cold Start problem with Users</h4>"
   ]
  },
  {
   "cell_type": "code",
   "execution_count": 37,
   "metadata": {
    "colab": {},
    "colab_type": "code",
    "id": "RHuIbxaWxroZ",
    "outputId": "dfe1438c-6717-4cb3-bba3-dff0f65e0e49"
   },
   "outputs": [
    {
     "name": "stdout",
     "output_type": "stream",
     "text": [
      "\n",
      "Total number of Users  : 480189\n",
      "\n",
      "Number of Users in Train data : 405041\n",
      "\n",
      "No of Users that didn't appear in train data: 75148(15.65 %) \n",
      " \n"
     ]
    }
   ],
   "source": [
    "total_users = len(np.unique(df.user))\n",
    "users_train = len(train_averages['user'])\n",
    "new_users = total_users - users_train\n",
    "\n",
    "print('\\nTotal number of Users  :', total_users)\n",
    "print('\\nNumber of Users in Train data :', users_train)\n",
    "print(\"\\nNo of Users that didn't appear in train data: {}({} %) \\n \".format(new_users,\n",
    "                                                                        np.round((new_users/total_users)*100, 2)))"
   ]
  },
  {
   "cell_type": "markdown",
   "metadata": {
    "colab_type": "text",
    "id": "NcSQjhBhxroc"
   },
   "source": [
    "> We might have to handle __new users__ ( ___75148___ ) who didn't appear in train data."
   ]
  },
  {
   "cell_type": "markdown",
   "metadata": {
    "colab_type": "text",
    "id": "CXXLI7nKxrod"
   },
   "source": [
    "<h4> 3.3.8.2 Cold Start problem with Movies</h4>"
   ]
  },
  {
   "cell_type": "code",
   "execution_count": 38,
   "metadata": {
    "colab": {},
    "colab_type": "code",
    "id": "lXNwDgeSxroe",
    "outputId": "e7ec447d-f40a-4d62-d2c7-14f06806ad9e"
   },
   "outputs": [
    {
     "name": "stdout",
     "output_type": "stream",
     "text": [
      "\n",
      "Total number of Movies  : 17770\n",
      "\n",
      "Number of Users in Train data : 17424\n",
      "\n",
      "No of Movies that didn't appear in train data: 346(1.95 %) \n",
      " \n"
     ]
    }
   ],
   "source": [
    "total_movies = len(np.unique(df.movie))\n",
    "movies_train = len(train_averages['movie'])\n",
    "new_movies = total_movies - movies_train\n",
    "\n",
    "print('\\nTotal number of Movies  :', total_movies)\n",
    "print('\\nNumber of Users in Train data :', movies_train)\n",
    "print(\"\\nNo of Movies that didn't appear in train data: {}({} %) \\n \".format(new_movies,\n",
    "                                                                        np.round((new_movies/total_movies)*100, 2)))"
   ]
  },
  {
   "cell_type": "markdown",
   "metadata": {
    "colab_type": "text",
    "id": "CegdvJEKxrog"
   },
   "source": [
    "> We might have to handle __346 movies__ (small comparatively) in test data"
   ]
  },
  {
   "cell_type": "markdown",
   "metadata": {
    "colab_type": "text",
    "id": "jHybEKyrxroi"
   },
   "source": [
    " "
   ]
  },
  {
   "cell_type": "markdown",
   "metadata": {
    "colab_type": "text",
    "id": "PmM8S6yaxroi"
   },
   "source": [
    "<h2> 3.4 Computing Similarity matrices </h2>"
   ]
  },
  {
   "cell_type": "markdown",
   "metadata": {
    "colab_type": "text",
    "id": "ipdAdhb3xrok"
   },
   "source": [
    "<h3> 3.4.1 Computing User-User Similarity matrix </h3>"
   ]
  },
  {
   "cell_type": "markdown",
   "metadata": {
    "colab_type": "text",
    "collapsed": true,
    "id": "CzaXbFY2xrol"
   },
   "source": [
    "1. Calculating User User Similarity_Matrix is __not very easy__(_unless you have huge Computing Power and lots of time_) because of number of. usersbeing lare.\n",
    "\n",
    "    * You can try if you want to. Your system could crash or the program stops with **Memory Error**\n"
   ]
  },
  {
   "cell_type": "markdown",
   "metadata": {
    "colab_type": "text",
    "id": "o21mlVQ-xrom"
   },
   "source": [
    "<h4> 3.4.1.1 Trying with all dimensions (17k dimensions per user) </h4>"
   ]
  },
  {
   "cell_type": "code",
   "execution_count": 126,
   "metadata": {
    "colab": {},
    "colab_type": "code",
    "id": "tzc_pANsxron"
   },
   "outputs": [],
   "source": [
    "from sklearn.metrics.pairwise import cosine_similarity\n",
    "\n",
    "\n",
    "def compute_user_similarity(sparse_matrix, compute_for_few=False, top = 100, verbose=False, verb_for_n_rows = 20,\n",
    "                            draw_time_taken=True):\n",
    "    no_of_users, _ = sparse_matrix.shape\n",
    "\n",
    "    row_ind, col_ind = sparse_matrix.nonzero()\n",
    "    row_ind = sorted(set(row_ind)) \n",
    "    time_taken = list() \n",
    "    \n",
    "    rows, cols, data = list(), list(), list()\n",
    "    if verbose: print(\"Computing top\",top,\"similarities for each user..\")\n",
    "    \n",
    "    start = datetime.now()\n",
    "    temp = 0\n",
    "    \n",
    "    for row in row_ind[:top] if compute_for_few else row_ind:\n",
    "        temp = temp+1\n",
    "        prev = datetime.now()\n",
    "        \n",
    "        sim = cosine_similarity(sparse_matrix.getrow(row), sparse_matrix).ravel()\n",
    "\n",
    "        top_sim_ind = sim.argsort()[-top:]\n",
    "        top_sim_val = sim[top_sim_ind]\n",
    "        \n",
    "        rows.extend([row]*top)\n",
    "        cols.extend(top_sim_ind)\n",
    "        data.extend(top_sim_val)\n",
    "        time_taken.append(datetime.now().timestamp() - prev.timestamp())\n",
    "        if verbose:\n",
    "            if temp%verb_for_n_rows == 0:\n",
    "                print(\"computing done for {} users [  time elapsed : {}  ]\"\n",
    "                      .format(temp, datetime.now()-start))\n",
    "            \n",
    "        \n",
    "    if verbose: print('Creating Sparse matrix from the computed similarities')\n",
    "    \n",
    "    if draw_time_taken:\n",
    "        plt.plot(time_taken, label = 'time taken for each user')\n",
    "        plt.plot(np.cumsum(time_taken), label='Total time')\n",
    "        plt.legend(loc='best')\n",
    "        plt.xlabel('User')\n",
    "        plt.ylabel('Time (seconds)')\n",
    "        plt.show()\n",
    "        \n",
    "    return sparse.csr_matrix((data, (rows, cols)), shape=(no_of_users, no_of_users)), time_taken      "
   ]
  },
  {
   "cell_type": "code",
   "execution_count": 40,
   "metadata": {
    "colab": {},
    "colab_type": "code",
    "id": "CZgRmOS_xrop",
    "outputId": "ae9244a0-cda4-49f6-f14d-d0a9ee958d6e",
    "scrolled": false
   },
   "outputs": [
    {
     "name": "stdout",
     "output_type": "stream",
     "text": [
      "Computing top 100 similarities for each user..\n",
      "computing done for 20 users [  time elapsed : 0:01:50.675027  ]\n",
      "computing done for 40 users [  time elapsed : 0:03:43.394427  ]\n",
      "computing done for 60 users [  time elapsed : 0:05:34.178347  ]\n",
      "computing done for 80 users [  time elapsed : 0:07:23.849345  ]\n",
      "computing done for 100 users [  time elapsed : 0:09:14.861317  ]\n",
      "Creating Sparse matrix from the computed similarities\n",
      "----------------------------------------------------------------------------------------------------\n",
      "Time taken : 0:09:27.139102\n"
     ]
    }
   ],
   "source": [
    "start = datetime.now()\n",
    "u_u_sim_sparse, _ = compute_user_similarity(train_sparse_matrix, compute_for_few=True, top = 100,\n",
    "                                                     verbose=True)\n",
    "print(\"-\"*100)\n",
    "print(\"Time taken :\",datetime.now()-start)"
   ]
  },
  {
   "cell_type": "markdown",
   "metadata": {
    "colab_type": "text",
    "id": "BqzQHJkqxros"
   },
   "source": [
    "<h4> 3.4.1.2 Trying with reduced dimensions (Using TruncatedSVD for dimensionality reduction of user vector)</h4>"
   ]
  },
  {
   "cell_type": "markdown",
   "metadata": {
    "colab_type": "text",
    "id": "e6HscIstxrot"
   },
   "source": [
    " "
   ]
  },
  {
   "cell_type": "markdown",
   "metadata": {
    "colab_type": "text",
    "id": "slAk4ivQxrou"
   },
   "source": [
    "* We have  **405,041 users** in out training set and computing similarities between them..( **17K dimensional vector..**) is time consuming..\n",
    "\n",
    "\n",
    "- From above plot, It took roughly __8.88 sec__ for computing simlilar users for __one user__\n",
    "    \n",
    "    \n",
    "- We have __405,041 users__ with us in training set.\n",
    "\n",
    "\n",
    "- ${ 405041 \\times 8.88 = 3596764.08  \\sec } =  59946.068 \\min = 999.101133333 \\text{ hours}\n",
    "= 41.629213889 \\text{ days}...$\n",
    "\n",
    "    - Even if we run on 4 cores parallelly (a typical system now a days), It will still take almost __10 and 1/2__ days.\n",
    "    \n",
    " IDEA:  Instead, we will try to reduce the dimentsions using SVD, so that __it might__ speed up the process..."
   ]
  },
  {
   "cell_type": "code",
   "execution_count": 41,
   "metadata": {
    "colab": {},
    "colab_type": "code",
    "id": "4Vf4cD_Exrov",
    "outputId": "bf53b3a5-828f-457c-d354-4d52b6559767"
   },
   "outputs": [
    {
     "name": "stdout",
     "output_type": "stream",
     "text": [
      "0:18:55.954635\n"
     ]
    }
   ],
   "source": [
    "from datetime import datetime\n",
    "from sklearn.decomposition import TruncatedSVD\n",
    "\n",
    "start = datetime.now()\n",
    "\n",
    "netflix_svd = TruncatedSVD(n_components=500, algorithm='randomized', random_state=15)\n",
    "trunc_svd = netflix_svd.fit_transform(train_sparse_matrix)\n",
    "\n",
    "print(datetime.now()-start)"
   ]
  },
  {
   "cell_type": "markdown",
   "metadata": {
    "colab_type": "text",
    "id": "JVvrBnpmxroy"
   },
   "source": [
    "Here,\n",
    "\n",
    "\n",
    "- $\\sum \\longleftarrow$ (netflix\\_svd.**singular\\_values\\_** )\n",
    "\n",
    "\n",
    "- $\\bigvee^T \\longleftarrow$ (netflix\\_svd.**components_**)\n",
    "\n",
    "\n",
    "- $\\bigcup$ is not returned. instead **Projection_of_X** onto the new vectorspace is returned. \n",
    "\n",
    "\n",
    "- It uses **randomized svd** internally, which returns **All 3 of them saperately**. Use that instead.. "
   ]
  },
  {
   "cell_type": "code",
   "execution_count": 42,
   "metadata": {
    "colab": {},
    "colab_type": "code",
    "id": "-cJHgpAtxroy"
   },
   "outputs": [],
   "source": [
    "expl_var = np.cumsum(netflix_svd.explained_variance_ratio_)"
   ]
  },
  {
   "cell_type": "code",
   "execution_count": 127,
   "metadata": {
    "colab": {},
    "colab_type": "code",
    "id": "0YptAx89xro4",
    "outputId": "237de9aa-848a-47b8-ffcf-e7ebacce3905",
    "scrolled": false
   },
   "outputs": [
    {
     "data": {
      "image/png": "[encoded data removed]",
      "text/plain": [
       "<Figure size 576x288 with 2 Axes>"
      ]
     },
     "metadata": {
      "needs_background": "light"
     },
     "output_type": "display_data"
    }
   ],
   "source": [
    "fig, (ax1, ax2) = plt.subplots(nrows=1, ncols=2, figsize=plt.figaspect(.5))\n",
    "\n",
    "ax1.set_ylabel(\"Variance Explained\", fontsize=15)\n",
    "ax1.set_xlabel(\"# Latent Facors\", fontsize=15)\n",
    "ax1.plot(expl_var)\n",
    "\n",
    "ind = [1, 2,4,8,20, 60, 100, 200, 300, 400, 500]\n",
    "ax1.scatter(x = [i-1 for i in ind], y = expl_var[[i-1 for i in ind]], c='#ff3300')\n",
    "for i in ind:\n",
    "    ax1.annotate(s =\"({}, {})\".format(i,  np.round(expl_var[i-1], 2)), xy=(i-1, expl_var[i-1]),\n",
    "                xytext = ( i+20, expl_var[i-1] - 0.01), fontweight='bold')\n",
    "\n",
    "change_in_expl_var = [expl_var[i+1] - expl_var[i] for i in range(len(expl_var)-1)]\n",
    "ax2.plot(change_in_expl_var)\n",
    "\n",
    "\n",
    "\n",
    "ax2.set_ylabel(\"Gain in Var_Expl with One Additional LF\", fontsize=10)\n",
    "ax2.yaxis.set_label_position(\"right\")\n",
    "ax2.set_xlabel(\"# Latent Facors\", fontsize=20)\n",
    "\n",
    "plt.show()"
   ]
  },
  {
   "cell_type": "code",
   "execution_count": 44,
   "metadata": {
    "colab": {},
    "colab_type": "code",
    "id": "3kI-9jQ7xro9",
    "outputId": "2f18f097-5405-42ff-9a09-20b8ea1e559e",
    "scrolled": true
   },
   "outputs": [
    {
     "name": "stdout",
     "output_type": "stream",
     "text": [
      "(1, 0.23)\n",
      "(2, 0.26)\n",
      "(4, 0.3)\n",
      "(8, 0.34)\n",
      "(20, 0.38)\n",
      "(60, 0.44)\n",
      "(100, 0.47)\n",
      "(200, 0.53)\n",
      "(300, 0.57)\n",
      "(400, 0.61)\n",
      "(500, 0.64)\n"
     ]
    }
   ],
   "source": [
    "for i in ind:\n",
    "    print(\"({}, {})\".format(i, np.round(expl_var[i-1], 2)))"
   ]
  },
  {
   "cell_type": "markdown",
   "metadata": {
    "colab_type": "text",
    "id": "urHM6UzrxrpC"
   },
   "source": [
    " \n",
    "> I think 500 dimensions is good enough \n",
    "\n",
    "---------\n",
    "\n",
    "-  By just taking __(20 to 30)__ latent factors, explained variance that we could get is __20 %__. \n",
    "\n",
    "- To take it to __60%__, we have to take  __almost 400 latent factors__. It is not fare.\n",
    "\n",
    "\n",
    "\n",
    "- It basically is the __gain of variance explained__, if we ___add one additional latent factor to it.___\n",
    "\n",
    "\n",
    "- By adding one by one latent factore too it, the ___gain in expained variance__ with that addition is decreasing. (Obviously, because they are sorted that way).\n",
    "- ___LHS Graph___:\n",
    "    - __x__ --- ( No of latent factos ),\n",
    "    - __y__ --- ( The variance explained by taking x latent factors)\n",
    "\n",
    "\n",
    "\n",
    "- __More decrease in the line (RHS graph) __:\n",
    "    - We  are getting more expained variance than before.\n",
    "- __Less decrease in that line (RHS graph)__  :\n",
    "    - We are not getting benifitted from adding latent factor furthur. This is what is shown in the plots.\n",
    "\n",
    "\n",
    "- ___RHS Graph___:\n",
    "    - __x__ --- ( No of latent factors ),\n",
    "    - __y__ --- ( Gain n Expl_Var by taking one additional latent factor) "
   ]
  },
  {
   "cell_type": "code",
   "execution_count": 45,
   "metadata": {
    "colab": {},
    "colab_type": "code",
    "id": "1oeIcSxYxrpD",
    "outputId": "5f7de336-1593-41ee-8d5e-522ed4b6555d",
    "scrolled": true
   },
   "outputs": [
    {
     "name": "stdout",
     "output_type": "stream",
     "text": [
      "0:00:34.391838\n"
     ]
    }
   ],
   "source": [
    "start = datetime.now()\n",
    "trunc_matrix = train_sparse_matrix.dot(netflix_svd.components_.T)\n",
    "print(datetime.now()- start)"
   ]
  },
  {
   "cell_type": "code",
   "execution_count": 46,
   "metadata": {
    "colab": {},
    "colab_type": "code",
    "id": "MAwRD5AwxrpG",
    "outputId": "a5194761-c6da-4f25-a31e-89cc55033f45",
    "scrolled": true
   },
   "outputs": [
    {
     "data": {
      "text/plain": [
       "(numpy.ndarray, (2649430, 500))"
      ]
     },
     "execution_count": 46,
     "metadata": {},
     "output_type": "execute_result"
    }
   ],
   "source": [
    "type(trunc_matrix), trunc_matrix.shape"
   ]
  },
  {
   "cell_type": "markdown",
   "metadata": {
    "colab_type": "text",
    "id": "1J2zqArKxrpL"
   },
   "source": [
    "* Let's convert this to actual sparse matrix and store it for future purposes"
   ]
  },
  {
   "cell_type": "code",
   "execution_count": 47,
   "metadata": {
    "colab": {},
    "colab_type": "code",
    "id": "zikAa8pkxrpM"
   },
   "outputs": [],
   "source": [
    "if not os.path.isfile('trunc_sparse_matrix.npz'):\n",
    "\n",
    "    trunc_sparse_matrix = sparse.csr_matrix(trunc_matrix)\n",
    "\n",
    "    sparse.save_npz('trunc_sparse_matrix', trunc_sparse_matrix)\n",
    "else:\n",
    "    trunc_sparse_matrix = sparse.load_npz('trunc_sparse_matrix.npz')"
   ]
  },
  {
   "cell_type": "code",
   "execution_count": 48,
   "metadata": {
    "colab": {},
    "colab_type": "code",
    "id": "TR9TF1rVxrpP",
    "outputId": "39b44fd5-3fc5-43ca-c804-a93496356bce"
   },
   "outputs": [
    {
     "data": {
      "text/plain": [
       "(2649430, 500)"
      ]
     },
     "execution_count": 48,
     "metadata": {},
     "output_type": "execute_result"
    }
   ],
   "source": [
    "trunc_sparse_matrix.shape"
   ]
  },
  {
   "cell_type": "code",
   "execution_count": 49,
   "metadata": {
    "colab": {},
    "colab_type": "code",
    "id": "Nq6-WQa3xrpR",
    "outputId": "b3a387d8-3fb5-4a3d-e0de-9a5f02a7926f"
   },
   "outputs": [
    {
     "name": "stdout",
     "output_type": "stream",
     "text": [
      "Computing top 50 similarities for each user..\n",
      "computing done for 10 users [  time elapsed : 0:01:58.130760  ]\n",
      "computing done for 20 users [  time elapsed : 0:03:57.176656  ]\n",
      "computing done for 30 users [  time elapsed : 0:05:56.958880  ]\n",
      "computing done for 40 users [  time elapsed : 0:07:55.256075  ]\n",
      "computing done for 50 users [  time elapsed : 0:09:53.093239  ]\n",
      "Creating Sparse matrix from the computed similarities\n",
      "--------------------------------------------------\n",
      "time: 0:10:23.517256\n"
     ]
    }
   ],
   "source": [
    "start = datetime.now()\n",
    "trunc_u_u_sim_matrix, _ = compute_user_similarity(trunc_sparse_matrix, compute_for_few=True, top=50, verbose=True, \n",
    "                                                 verb_for_n_rows=10)\n",
    "print(\"-\"*50)\n",
    "print(\"time:\",datetime.now()-start)"
   ]
  },
  {
   "cell_type": "markdown",
   "metadata": {
    "colab_type": "text",
    "id": "xccLgInHxrpZ"
   },
   "source": [
    "**: This is taking more time for each user than Original one.**"
   ]
  },
  {
   "cell_type": "markdown",
   "metadata": {
    "colab_type": "text",
    "id": "vz0YrbXuxrpd"
   },
   "source": [
    "- from above plot, It took almost __12.18__ for computing simlilar users for __one user__\n",
    "    \n",
    "    \n",
    "- We have __405041 users__ with us in training set.\n",
    "\n",
    "\n",
    "- ${ 405041 \\times 12.18 ==== 4933399.38 \\sec } ====  82223.323 \\min ==== 1370.388716667 \\text{ hours}\n",
    "==== 57.099529861 \\text{ days}...$\n",
    "\n",
    "    - Even we run on 4 cores parallelly (a typical system now a days), It will still take almost __(14 - 15) __ days.\n"
   ]
  },
  {
   "cell_type": "markdown",
   "metadata": {
    "colab_type": "text",
    "id": "Sq-8XYXjxrpd"
   },
   "source": [
    "- __Why did this happen...??__\n",
    "\n",
    "\n",
    "    - Just think about it. It's not that difficult.\n",
    "\n",
    "---------------------------------_( sparse & dense..................get it ?? )_-----------------------------------"
   ]
  },
  {
   "cell_type": "markdown",
   "metadata": {
    "colab_type": "text",
    "id": "U4Zj4YuXxrpf"
   },
   "source": [
    "__Is there any other way to compute user user similarity..??__"
   ]
  },
  {
   "cell_type": "markdown",
   "metadata": {
    "colab_type": "text",
    "id": "QfiKDgY0xrpg"
   },
   "source": [
    "- ***Which datastructure to use:***\n",
    "        - One simple method is to maintain a \"Dictionary Of Dictionaries\".\n",
    "            - _key_    : _userid_ \n",
    "            - __value__: _Again a dictionary_\n",
    "                - __key__  : _Similar User_\n",
    "                - __value__: _Similarity Value_"
   ]
  },
  {
   "cell_type": "markdown",
   "metadata": {
    "colab_type": "text",
    "collapsed": true,
    "id": "kb9Yk2f5xrpg"
   },
   "source": [
    "<h3> 3.4.2 Computing Movie-Movie Similarity matrix </h3>"
   ]
  },
  {
   "cell_type": "code",
   "execution_count": 50,
   "metadata": {
    "colab": {},
    "colab_type": "code",
    "id": "xX24qLe3xrph",
    "outputId": "e6923c6a-ace5-44a2-f724-84c4b0e307a7"
   },
   "outputs": [
    {
     "name": "stdout",
     "output_type": "stream",
     "text": [
      "It is there, We will get it.\n",
      "Done ...\n",
      "It's a  (17771, 17771)  dimensional matrix\n",
      "0:00:27.015758\n"
     ]
    }
   ],
   "source": [
    "start = datetime.now()\n",
    "if not os.path.isfile('m_m_sim_sparse.npz'):\n",
    "    print(\"It seems you don't have that file. Computing movie_movie similarity...\")\n",
    "    start = datetime.now()\n",
    "    m_m_sim_sparse = cosine_similarity(X=train_sparse_matrix.T, dense_output=False)\n",
    "    print(\"Done..\")\n",
    "    print(\"Saving it to disk without the need of re-computing it again.. \")\n",
    "    sparse.save_npz(\"m_m_sim_sparse.npz\", m_m_sim_sparse)\n",
    "    print(\"Done..\")\n",
    "else:\n",
    "    print(\"It is there, We will get it.\")\n",
    "    m_m_sim_sparse = sparse.load_npz(\"m_m_sim_sparse.npz\")\n",
    "    print(\"Done ...\")\n",
    "\n",
    "print(\"It's a \",m_m_sim_sparse.shape,\" dimensional matrix\")\n",
    "\n",
    "print(datetime.now() - start)"
   ]
  },
  {
   "cell_type": "code",
   "execution_count": 51,
   "metadata": {
    "colab": {},
    "colab_type": "code",
    "id": "zwbIOuozxrpn",
    "outputId": "cd481df2-f6ea-4f01-d4d1-b500ab74f838"
   },
   "outputs": [
    {
     "data": {
      "text/plain": [
       "(17771, 17771)"
      ]
     },
     "execution_count": 51,
     "metadata": {},
     "output_type": "execute_result"
    }
   ],
   "source": [
    "m_m_sim_sparse.shape"
   ]
  },
  {
   "cell_type": "markdown",
   "metadata": {
    "colab_type": "text",
    "id": "wjGcfeyFxrpp"
   },
   "source": [
    "- Even though we have similarity measure of each movie, with all other movies, We generally don't care much about least similar movies.\n",
    "\n",
    "\n",
    "- Most of the times, only top_xxx similar items matters. It may be 10 or 100.\n",
    "\n",
    "\n",
    "- We take only those top similar movie ratings and store them  in a saperate dictionary."
   ]
  },
  {
   "cell_type": "code",
   "execution_count": 52,
   "metadata": {
    "colab": {},
    "colab_type": "code",
    "id": "zg3aFVclxrpp"
   },
   "outputs": [],
   "source": [
    "movie_ids = np.unique(m_m_sim_sparse.nonzero()[1])"
   ]
  },
  {
   "cell_type": "code",
   "execution_count": 53,
   "metadata": {
    "colab": {},
    "colab_type": "code",
    "id": "JB_LiDL5xrps",
    "outputId": "7e9d1c69-1ceb-4c26-e81f-83291f44aaa5"
   },
   "outputs": [
    {
     "name": "stdout",
     "output_type": "stream",
     "text": [
      "0:00:27.398154\n"
     ]
    },
    {
     "data": {
      "text/plain": [
       "array([ 8279,  8013, 16528,  5927, 13105, 12049,  4424, 10193, 17590,\n",
       "        4549,  3755,   590, 14059, 15144, 15054,  9584,  9071,  6349,\n",
       "       16402,  3973,  1720,  5370, 16309,  9376,  6116,  4706,  2818,\n",
       "         778, 15331,  1416, 12979, 17139, 17710,  5452,  2534,   164,\n",
       "       15188,  8323,  2450, 16331,  9566, 15301, 13213, 14308, 15984,\n",
       "       10597,  6426,  5500,  7068,  7328,  5720,  9802,   376, 13013,\n",
       "        8003, 10199,  3338, 15390,  9688, 16455, 11730,  4513,   598,\n",
       "       12762,  2187,   509,  5865,  9166, 17115, 16334,  1942,  7282,\n",
       "       17584,  4376,  8988,  8873,  5921,  2716, 14679, 11947, 11981,\n",
       "        4649,   565, 12954, 10788, 10220, 10963,  9427,  1690,  5107,\n",
       "        7859,  5969,  1510,  2429,   847,  7845,  6410, 13931,  9840,\n",
       "        3706])"
      ]
     },
     "execution_count": 53,
     "metadata": {},
     "output_type": "execute_result"
    }
   ],
   "source": [
    "start = datetime.now()\n",
    "similar_movies = dict()\n",
    "for movie in movie_ids:\n",
    "\n",
    "    sim_movies = m_m_sim_sparse[movie].toarray().ravel().argsort()[::-1][1:]\n",
    "    similar_movies[movie] = sim_movies[:100]\n",
    "print(datetime.now() - start)\n",
    "\n",
    "similar_movies[15]"
   ]
  },
  {
   "cell_type": "markdown",
   "metadata": {
    "colab_type": "text",
    "id": "NA1SHx6Oxrpv"
   },
   "source": [
    " "
   ]
  },
  {
   "cell_type": "markdown",
   "metadata": {
    "colab_type": "text",
    "id": "eJIAvNB9xrpv"
   },
   "source": [
    "<h3> 3.4.3 Finding most similar movies using similarity matrix </h3>"
   ]
  },
  {
   "cell_type": "markdown",
   "metadata": {
    "colab_type": "text",
    "id": "FPlIy7uTxrpw"
   },
   "source": [
    "__ Does Similarity really works as the way we expected...? __ <br>\n",
    "_Let's pick some random movie and check for its similar movies...._"
   ]
  },
  {
   "cell_type": "code",
   "execution_count": 54,
   "metadata": {
    "colab": {},
    "colab_type": "code",
    "id": "SM7gPvCSxrpx",
    "outputId": "2d737e9e-a444-4ec5-aba0-6ad6363aa24d"
   },
   "outputs": [
    {
     "name": "stdout",
     "output_type": "stream",
     "text": [
      "Tokenization took: 3.83 ms\n",
      "Type conversion took: 9.56 ms\n",
      "Parser memory cleanup took: 0.00 ms\n"
     ]
    },
    {
     "data": {
      "text/html": [
       "<div>\n",
       "<style scoped>\n",
       "    .dataframe tbody tr th:only-of-type {\n",
       "        vertical-align: middle;\n",
       "    }\n",
       "\n",
       "    .dataframe tbody tr th {\n",
       "        vertical-align: top;\n",
       "    }\n",
       "\n",
       "    .dataframe thead th {\n",
       "        text-align: right;\n",
       "    }\n",
       "</style>\n",
       "<table border=\"1\" class=\"dataframe\">\n",
       "  <thead>\n",
       "    <tr style=\"text-align: right;\">\n",
       "      <th></th>\n",
       "      <th>year_of_release</th>\n",
       "      <th>title</th>\n",
       "    </tr>\n",
       "    <tr>\n",
       "      <th>movie_id</th>\n",
       "      <th></th>\n",
       "      <th></th>\n",
       "    </tr>\n",
       "  </thead>\n",
       "  <tbody>\n",
       "    <tr>\n",
       "      <td>1</td>\n",
       "      <td>2003.0</td>\n",
       "      <td>Dinosaur Planet</td>\n",
       "    </tr>\n",
       "    <tr>\n",
       "      <td>2</td>\n",
       "      <td>2004.0</td>\n",
       "      <td>Isle of Man TT 2004 Review</td>\n",
       "    </tr>\n",
       "    <tr>\n",
       "      <td>3</td>\n",
       "      <td>1997.0</td>\n",
       "      <td>Character</td>\n",
       "    </tr>\n",
       "    <tr>\n",
       "      <td>4</td>\n",
       "      <td>1994.0</td>\n",
       "      <td>Paula Abdul's Get Up &amp; Dance</td>\n",
       "    </tr>\n",
       "    <tr>\n",
       "      <td>5</td>\n",
       "      <td>2004.0</td>\n",
       "      <td>The Rise and Fall of ECW</td>\n",
       "    </tr>\n",
       "  </tbody>\n",
       "</table>\n",
       "</div>"
      ],
      "text/plain": [
       "          year_of_release                         title\n",
       "movie_id                                               \n",
       "1                  2003.0               Dinosaur Planet\n",
       "2                  2004.0    Isle of Man TT 2004 Review\n",
       "3                  1997.0                     Character\n",
       "4                  1994.0  Paula Abdul's Get Up & Dance\n",
       "5                  2004.0      The Rise and Fall of ECW"
      ]
     },
     "execution_count": 54,
     "metadata": {},
     "output_type": "execute_result"
    }
   ],
   "source": [
    "movie_titles = pd.read_csv(\"data_folder/movie_titles.csv\", sep=',', header = None,\n",
    "                           names=['movie_id', 'year_of_release', 'title'], verbose=True,\n",
    "                      index_col = 'movie_id', encoding = \"ISO-8859-1\")\n",
    "\n",
    "movie_titles.head()"
   ]
  },
  {
   "cell_type": "markdown",
   "metadata": {
    "colab_type": "text",
    "id": "sUT8MvZlxrpz"
   },
   "source": [
    "<p style='font-size:15px'><b>Similar Movies for 'Vampire Journals'</b></p>"
   ]
  },
  {
   "cell_type": "code",
   "execution_count": 55,
   "metadata": {
    "colab": {},
    "colab_type": "code",
    "id": "amTIWwyqxrpz",
    "outputId": "1665280e-124d-4e73-f508-808853ebba2d"
   },
   "outputs": [
    {
     "name": "stdout",
     "output_type": "stream",
     "text": [
      "\n",
      "Movie -----> Vampire Journals\n",
      "\n",
      "It has 270 Ratings from users.\n",
      "\n",
      "We have 17284 movies which are similarto this  and we will get only top most..\n"
     ]
    }
   ],
   "source": [
    "mv_id = 67\n",
    "\n",
    "print(\"\\nMovie ----->\",movie_titles.loc[mv_id].values[1])\n",
    "\n",
    "print(\"\\nIt has {} Ratings from users.\".format(train_sparse_matrix[:,mv_id].getnnz()))\n",
    "\n",
    "print(\"\\nWe have {} movies which are similarto this  and we will get only top most..\".format(m_m_sim_sparse[:,mv_id].getnnz()))"
   ]
  },
  {
   "cell_type": "code",
   "execution_count": 56,
   "metadata": {
    "colab": {},
    "colab_type": "code",
    "id": "qGKTUo41xrp1"
   },
   "outputs": [],
   "source": [
    "similarities = m_m_sim_sparse[mv_id].toarray().ravel()\n",
    "\n",
    "similar_indices = similarities.argsort()[::-1][1:]\n",
    "\n",
    "similarities[similar_indices]\n",
    "\n",
    "sim_indices = similarities.argsort()[::-1][1:] "
   ]
  },
  {
   "cell_type": "code",
   "execution_count": 128,
   "metadata": {
    "colab": {},
    "colab_type": "code",
    "id": "LkmEthwOxrp3",
    "outputId": "2e929724-0612-4d54-cab4-e8a4b6081b37"
   },
   "outputs": [
    {
     "data": {
      "image/png": "[encoded data removed]",
      "text/plain": [
       "<Figure size 432x288 with 1 Axes>"
      ]
     },
     "metadata": {
      "needs_background": "light"
     },
     "output_type": "display_data"
    }
   ],
   "source": [
    "plt.plot(similarities[sim_indices], label='All the ratings')\n",
    "plt.plot(similarities[sim_indices[:100]], label='top 100 similar movies')\n",
    "plt.title(\"Similar Movies of {}(movie_id)\".format(mv_id), fontsize=20)\n",
    "plt.xlabel(\"Movies (Not Movie_Ids)\", fontsize=15)\n",
    "plt.ylabel(\"Cosine Similarity\",fontsize=15)\n",
    "plt.legend()\n",
    "plt.show()"
   ]
  },
  {
   "cell_type": "markdown",
   "metadata": {
    "colab_type": "text",
    "id": "oO-wNdcAxrp7"
   },
   "source": [
    " "
   ]
  },
  {
   "cell_type": "markdown",
   "metadata": {
    "colab_type": "text",
    "id": "k7lxhEAgxrp7"
   },
   "source": [
    " "
   ]
  },
  {
   "cell_type": "markdown",
   "metadata": {
    "colab_type": "text",
    "id": "myQr_h7Lxrp8"
   },
   "source": [
    "__Top 10 similar movies__"
   ]
  },
  {
   "cell_type": "code",
   "execution_count": 58,
   "metadata": {
    "colab": {},
    "colab_type": "code",
    "id": "4PrIew0Pxrp8",
    "outputId": "eaebe922-cee7-4ef5-a41a-c7f6de5732d6",
    "scrolled": true
   },
   "outputs": [
    {
     "data": {
      "text/html": [
       "<div>\n",
       "<style scoped>\n",
       "    .dataframe tbody tr th:only-of-type {\n",
       "        vertical-align: middle;\n",
       "    }\n",
       "\n",
       "    .dataframe tbody tr th {\n",
       "        vertical-align: top;\n",
       "    }\n",
       "\n",
       "    .dataframe thead th {\n",
       "        text-align: right;\n",
       "    }\n",
       "</style>\n",
       "<table border=\"1\" class=\"dataframe\">\n",
       "  <thead>\n",
       "    <tr style=\"text-align: right;\">\n",
       "      <th></th>\n",
       "      <th>year_of_release</th>\n",
       "      <th>title</th>\n",
       "    </tr>\n",
       "    <tr>\n",
       "      <th>movie_id</th>\n",
       "      <th></th>\n",
       "      <th></th>\n",
       "    </tr>\n",
       "  </thead>\n",
       "  <tbody>\n",
       "    <tr>\n",
       "      <td>323</td>\n",
       "      <td>1999.0</td>\n",
       "      <td>Modern Vampires</td>\n",
       "    </tr>\n",
       "    <tr>\n",
       "      <td>4044</td>\n",
       "      <td>1998.0</td>\n",
       "      <td>Subspecies 4: Bloodstorm</td>\n",
       "    </tr>\n",
       "    <tr>\n",
       "      <td>1688</td>\n",
       "      <td>1993.0</td>\n",
       "      <td>To Sleep With a Vampire</td>\n",
       "    </tr>\n",
       "    <tr>\n",
       "      <td>13962</td>\n",
       "      <td>2001.0</td>\n",
       "      <td>Dracula: The Dark Prince</td>\n",
       "    </tr>\n",
       "    <tr>\n",
       "      <td>12053</td>\n",
       "      <td>1993.0</td>\n",
       "      <td>Dracula Rising</td>\n",
       "    </tr>\n",
       "    <tr>\n",
       "      <td>16279</td>\n",
       "      <td>2002.0</td>\n",
       "      <td>Vampires: Los Muertos</td>\n",
       "    </tr>\n",
       "    <tr>\n",
       "      <td>4667</td>\n",
       "      <td>1996.0</td>\n",
       "      <td>Vampirella</td>\n",
       "    </tr>\n",
       "    <tr>\n",
       "      <td>1900</td>\n",
       "      <td>1997.0</td>\n",
       "      <td>Club Vampire</td>\n",
       "    </tr>\n",
       "    <tr>\n",
       "      <td>13873</td>\n",
       "      <td>2001.0</td>\n",
       "      <td>The Breed</td>\n",
       "    </tr>\n",
       "    <tr>\n",
       "      <td>15867</td>\n",
       "      <td>2003.0</td>\n",
       "      <td>Dracula II: Ascension</td>\n",
       "    </tr>\n",
       "  </tbody>\n",
       "</table>\n",
       "</div>"
      ],
      "text/plain": [
       "          year_of_release                     title\n",
       "movie_id                                           \n",
       "323                1999.0           Modern Vampires\n",
       "4044               1998.0  Subspecies 4: Bloodstorm\n",
       "1688               1993.0   To Sleep With a Vampire\n",
       "13962              2001.0  Dracula: The Dark Prince\n",
       "12053              1993.0            Dracula Rising\n",
       "16279              2002.0     Vampires: Los Muertos\n",
       "4667               1996.0                Vampirella\n",
       "1900               1997.0              Club Vampire\n",
       "13873              2001.0                 The Breed\n",
       "15867              2003.0     Dracula II: Ascension"
      ]
     },
     "execution_count": 58,
     "metadata": {},
     "output_type": "execute_result"
    }
   ],
   "source": [
    "movie_titles.loc[sim_indices[:10]]"
   ]
  },
  {
   "cell_type": "markdown",
   "metadata": {
    "colab_type": "text",
    "id": "PCrwVIzexrp-"
   },
   "source": [
    " "
   ]
  },
  {
   "cell_type": "markdown",
   "metadata": {
    "colab_type": "text",
    "id": "PnfBBmdgxrp_"
   },
   "source": [
    " > Similarly, we can ___find similar users___ and compare how similar they are. "
   ]
  },
  {
   "cell_type": "markdown",
   "metadata": {
    "colab_type": "text",
    "id": "5W-89x3Hxrp_"
   },
   "source": [
    " "
   ]
  },
  {
   "cell_type": "markdown",
   "metadata": {
    "colab_type": "text",
    "id": "eBDg55WVxrqA"
   },
   "source": [
    " "
   ]
  },
  {
   "cell_type": "markdown",
   "metadata": {
    "colab_type": "text",
    "id": "4Tro44QZxrqB"
   },
   "source": [
    " <h1> 4.  Machine Learning Models </h1>"
   ]
  },
  {
   "cell_type": "code",
   "execution_count": 59,
   "metadata": {
    "colab": {},
    "colab_type": "code",
    "id": "oBOQj4nmxrqD"
   },
   "outputs": [],
   "source": [
    "def get_sample_sparse_matrix(sparse_matrix, no_users, no_movies, path, verbose = True):\n",
    "    \"\"\"\n",
    "        It will get it from the ''path'' if it is present  or It will create \n",
    "        and store the sampled sparse matrix in the path specified.\n",
    "    \"\"\"\n",
    "\n",
    "    row_ind, col_ind, ratings = sparse.find(sparse_matrix)\n",
    "    users = np.unique(row_ind)\n",
    "    movies = np.unique(col_ind)\n",
    "\n",
    "    print(\"Original Matrix : (users, movies) -- ({} {})\".format(len(users), len(movies)))\n",
    "    print(\"Original Matrix : Ratings -- {}\\n\".format(len(ratings)))\n",
    "    \n",
    "    np.random.seed(15)\n",
    "    sample_users = np.random.choice(users, no_users, replace=False)\n",
    "    sample_movies = np.random.choice(movies, no_movies, replace=False)\n",
    "\n",
    "    mask = np.logical_and( np.isin(row_ind, sample_users),\n",
    "                      np.isin(col_ind, sample_movies) )\n",
    "    \n",
    "    sample_sparse_matrix = sparse.csr_matrix((ratings[mask], (row_ind[mask], col_ind[mask])),\n",
    "                                             shape=(max(sample_users)+1, max(sample_movies)+1))\n",
    "\n",
    "    if verbose:\n",
    "        print(\"Sampled Matrix : (users, movies) -- ({} {})\".format(len(sample_users), len(sample_movies)))\n",
    "        print(\"Sampled Matrix : Ratings --\", format(ratings[mask].shape[0]))\n",
    "\n",
    "    print('Saving it into disk for furthur usage..')\n",
    "\n",
    "    sparse.save_npz(path, sample_sparse_matrix)\n",
    "    if verbose:\n",
    "            print('Done..\\n')\n",
    "    \n",
    "    return sample_sparse_matrix"
   ]
  },
  {
   "cell_type": "markdown",
   "metadata": {
    "colab_type": "text",
    "id": "qKFfQ0bgxrqF"
   },
   "source": [
    "<h2> 4.1 Sampling Data </h2>"
   ]
  },
  {
   "cell_type": "markdown",
   "metadata": {
    "colab_type": "text",
    "id": "0jLFR-p1xrqG"
   },
   "source": [
    "<h3>4.1.1 Build sample train data from the train data</h3>"
   ]
  },
  {
   "cell_type": "code",
   "execution_count": 60,
   "metadata": {
    "colab": {},
    "colab_type": "code",
    "id": "l5dJ4yzVxrqH",
    "outputId": "acd9a972-167a-43d3-b5b5-59da9ee954b8"
   },
   "outputs": [
    {
     "name": "stdout",
     "output_type": "stream",
     "text": [
      "It is present in your pwd, getting it from disk....\n",
      "DONE..\n",
      "0:00:00.041849\n"
     ]
    }
   ],
   "source": [
    "start = datetime.now()\n",
    "path = \"sample_train_sparse_matrix.npz\"\n",
    "if os.path.isfile(path):\n",
    "    print(\"It is present in your pwd, getting it from disk....\")\n",
    "\n",
    "    sample_train_sparse_matrix = sparse.load_npz(path)\n",
    "    print(\"DONE..\")\n",
    "else: \n",
    "\n",
    "    sample_train_sparse_matrix = get_sample_sparse_matrix(train_sparse_matrix, no_users=10000, no_movies=1000,\n",
    "                                             path = path)\n",
    "\n",
    "print(datetime.now() - start)"
   ]
  },
  {
   "cell_type": "markdown",
   "metadata": {
    "colab_type": "text",
    "id": "fQJ8BE0IxrqJ"
   },
   "source": [
    "<h3>4.1.2 Build sample test data from the test data</h3>"
   ]
  },
  {
   "cell_type": "code",
   "execution_count": 61,
   "metadata": {
    "colab": {},
    "colab_type": "code",
    "id": "8tPszXJ1xrqJ",
    "outputId": "1bba0063-64bc-4393-d14b-2eb0ddfccf7e"
   },
   "outputs": [
    {
     "name": "stdout",
     "output_type": "stream",
     "text": [
      "It is present in your pwd, getting it from disk....\n",
      "DONE..\n",
      "0:00:00.031079\n"
     ]
    }
   ],
   "source": [
    "start = datetime.now()\n",
    "\n",
    "path = \"sample_test_sparse_matrix.npz\"\n",
    "if os.path.isfile(path):\n",
    "    print(\"It is present in your pwd, getting it from disk....\")\n",
    "\n",
    "    sample_test_sparse_matrix = sparse.load_npz(path)\n",
    "    print(\"DONE..\")\n",
    "else:\n",
    "    \n",
    "    sample_test_sparse_matrix = get_sample_sparse_matrix(test_sparse_matrix, no_users=5000, no_movies=500,\n",
    "                                                 path = \"sample/small/sample_test_sparse_matrix.npz\")\n",
    "print(datetime.now() - start)"
   ]
  },
  {
   "cell_type": "markdown",
   "metadata": {
    "colab_type": "text",
    "id": "tzF6Hwx0xrqL"
   },
   "source": [
    " "
   ]
  },
  {
   "cell_type": "markdown",
   "metadata": {
    "colab_type": "text",
    "id": "BgTx-m-cxrqM"
   },
   "source": [
    "<h2>4.2 Finding Global Average of all movie ratings, Average rating per User, and Average rating per Movie (from sampled train)</h2>"
   ]
  },
  {
   "cell_type": "code",
   "execution_count": 62,
   "metadata": {
    "colab": {},
    "colab_type": "code",
    "id": "Af8rljDExrqN"
   },
   "outputs": [],
   "source": [
    "sample_train_averages = dict()"
   ]
  },
  {
   "cell_type": "markdown",
   "metadata": {
    "colab_type": "text",
    "id": "ZNMVuqWHxrqP"
   },
   "source": [
    "<h3>4.2.1 Finding Global Average of all movie ratings</h3>"
   ]
  },
  {
   "cell_type": "code",
   "execution_count": 63,
   "metadata": {
    "colab": {},
    "colab_type": "code",
    "id": "eJN92jujxrqQ",
    "outputId": "bfce9a93-dfa0-4c96-fbf4-fb597a2e336d"
   },
   "outputs": [
    {
     "data": {
      "text/plain": [
       "{'global': 3.581679377504138}"
      ]
     },
     "execution_count": 63,
     "metadata": {},
     "output_type": "execute_result"
    }
   ],
   "source": [
    "global_average = sample_train_sparse_matrix.sum()/sample_train_sparse_matrix.count_nonzero()\n",
    "sample_train_averages['global'] = global_average\n",
    "sample_train_averages"
   ]
  },
  {
   "cell_type": "markdown",
   "metadata": {
    "colab_type": "text",
    "id": "A3ldVasnxrqS"
   },
   "source": [
    "<h3>4.2.2 Finding Average rating per User</h3>"
   ]
  },
  {
   "cell_type": "code",
   "execution_count": 64,
   "metadata": {
    "colab": {},
    "colab_type": "code",
    "id": "iLBPu2ObxrqT",
    "outputId": "85af4594-80f1-4dc9-9588-6372e62db396",
    "scrolled": true
   },
   "outputs": [
    {
     "name": "stdout",
     "output_type": "stream",
     "text": [
      "\n",
      "Average rating of user 1515220 : 3.9655172413793105\n"
     ]
    }
   ],
   "source": [
    "sample_train_averages['user'] = get_average_ratings(sample_train_sparse_matrix, of_users=True)\n",
    "print('\\nAverage rating of user 1515220 :',sample_train_averages['user'][1515220])"
   ]
  },
  {
   "cell_type": "markdown",
   "metadata": {
    "colab_type": "text",
    "id": "qiVaPz6AxrqV"
   },
   "source": [
    "<h3>4.2.3 Finding Average rating per Movie</h3>"
   ]
  },
  {
   "cell_type": "code",
   "execution_count": 65,
   "metadata": {
    "colab": {},
    "colab_type": "code",
    "id": "q8QD09k4xrqV",
    "outputId": "2b01a6e0-6a5e-4c90-d7f3-98c75cf14c3b",
    "scrolled": true
   },
   "outputs": [
    {
     "name": "stdout",
     "output_type": "stream",
     "text": [
      "\n",
      " AVerage rating of movie 15153 : 2.6458333333333335\n"
     ]
    }
   ],
   "source": [
    "sample_train_averages['movie'] =  get_average_ratings(sample_train_sparse_matrix, of_users=False)\n",
    "print('\\n AVerage rating of movie 15153 :',sample_train_averages['movie'][15153])"
   ]
  },
  {
   "cell_type": "markdown",
   "metadata": {
    "colab_type": "text",
    "id": "JLZervrkxrqZ"
   },
   "source": [
    " "
   ]
  },
  {
   "cell_type": "markdown",
   "metadata": {
    "colab_type": "text",
    "id": "xVwLprg-xrqZ"
   },
   "source": [
    "<h2> 4.3 Featurizing data </h2>"
   ]
  },
  {
   "cell_type": "code",
   "execution_count": 66,
   "metadata": {
    "colab": {},
    "colab_type": "code",
    "id": "E85auQgixrqZ",
    "outputId": "c4644c9c-1397-46ea-ddea-59641694ca9e"
   },
   "outputs": [
    {
     "name": "stdout",
     "output_type": "stream",
     "text": [
      "\n",
      " No of ratings in Our Sampled train matrix is : 129286\n",
      "\n",
      "\n",
      " No of ratings in Our Sampled test  matrix is : 7333\n",
      "\n"
     ]
    }
   ],
   "source": [
    "print('\\n No of ratings in Our Sampled train matrix is : {}\\n'.format(sample_train_sparse_matrix.count_nonzero()))\n",
    "print('\\n No of ratings in Our Sampled test  matrix is : {}\\n'.format(sample_test_sparse_matrix.count_nonzero()))"
   ]
  },
  {
   "cell_type": "markdown",
   "metadata": {
    "colab_type": "text",
    "id": "GZ7FYSibxrqc"
   },
   "source": [
    "<h3> 4.3.1 Featurizing data for regression problem </h3>"
   ]
  },
  {
   "cell_type": "markdown",
   "metadata": {
    "colab_type": "text",
    "id": "7ZMRQApaxrqc"
   },
   "source": [
    "<h4> 4.3.1.1 Featurizing train data </h4>"
   ]
  },
  {
   "cell_type": "code",
   "execution_count": 67,
   "metadata": {
    "colab": {},
    "colab_type": "code",
    "id": "jMTXqVR3xrqd"
   },
   "outputs": [],
   "source": [
    "sample_train_users, sample_train_movies, sample_train_ratings = sparse.find(sample_train_sparse_matrix)"
   ]
  },
  {
   "cell_type": "code",
   "execution_count": 68,
   "metadata": {
    "colab": {},
    "colab_type": "code",
    "id": "Hr_gXr0ixrqh",
    "outputId": "51abb095-433c-4404-be97-bbe8311b02f4",
    "scrolled": true
   },
   "outputs": [
    {
     "name": "stdout",
     "output_type": "stream",
     "text": [
      "File already exists you don't have to prepare again...\n",
      "0:00:00.000885\n"
     ]
    }
   ],
   "source": [
    "start = datetime.now()\n",
    "if os.path.isfile('reg_train.csv'):\n",
    "    print(\"File already exists you don't have to prepare again...\" )\n",
    "else:\n",
    "    print('preparing {} tuples for the dataset..\\n'.format(len(sample_train_ratings)))\n",
    "    with open('sample/small/reg_train.csv', mode='w') as reg_data_file:\n",
    "        count = 0\n",
    "        for (user, movie, rating)  in zip(sample_train_users, sample_train_movies, sample_train_ratings):\n",
    "            st = datetime.now()\n",
    "             \n",
    "            user_sim = cosine_similarity(sample_train_sparse_matrix[user], sample_train_sparse_matrix).ravel()\n",
    "            top_sim_users = user_sim.argsort()[::-1][1:] \n",
    "            \n",
    "            top_ratings = sample_train_sparse_matrix[top_sim_users, movie].toarray().ravel()\n",
    "   \n",
    "            top_sim_users_ratings = list(top_ratings[top_ratings != 0][:5])\n",
    "            top_sim_users_ratings.extend([sample_train_averages['movie'][movie]]*(5 - len(top_sim_users_ratings)))\n",
    "               \n",
    "            movie_sim = cosine_similarity(sample_train_sparse_matrix[:,movie].T, sample_train_sparse_matrix.T).ravel()\n",
    "            top_sim_movies = movie_sim.argsort()[::-1][1:] \n",
    "            \n",
    "            top_ratings = sample_train_sparse_matrix[user, top_sim_movies].toarray().ravel()\n",
    "            \n",
    "            top_sim_movies_ratings = list(top_ratings[top_ratings != 0][:5])\n",
    "            top_sim_movies_ratings.extend([sample_train_averages['user'][user]]*(5-len(top_sim_movies_ratings))) \n",
    "        \n",
    "            row = list()\n",
    "            row.append(user)\n",
    "            row.append(movie)\n",
    "            \n",
    "            row.append(sample_train_averages['global']) \n",
    "            \n",
    "            row.extend(top_sim_users_ratings)\n",
    "            \n",
    "            row.extend(top_sim_movies_ratings)\n",
    "            # Avg_user rating\n",
    "            row.append(sample_train_averages['user'][user])\n",
    "            # Avg_movie rating\n",
    "            row.append(sample_train_averages['movie'][movie])\n",
    "\n",
    "            # The actual Rating of this user-movie pair...\n",
    "            row.append(rating)\n",
    "            count = count + 1\n",
    "\n",
    "            reg_data_file.write(','.join(map(str, row)))\n",
    "            reg_data_file.write('\\n')        \n",
    "            if (count)%10000 == 0:\n",
    "\n",
    "                print(\"Done for {} rows----- {}\".format(count, datetime.now() - start))\n",
    "\n",
    "\n",
    "print(datetime.now() - start)"
   ]
  },
  {
   "cell_type": "markdown",
   "metadata": {
    "colab_type": "text",
    "id": "k3xJ8aWyxrqj"
   },
   "source": [
    "__Reading from the file to make a Train_dataframe__"
   ]
  },
  {
   "cell_type": "code",
   "execution_count": 69,
   "metadata": {
    "colab": {},
    "colab_type": "code",
    "id": "oUs6s6AZxrqj",
    "outputId": "b19997be-2750-4ab7-bd92-8cd23ea2a64e"
   },
   "outputs": [
    {
     "data": {
      "text/html": [
       "<div>\n",
       "<style scoped>\n",
       "    .dataframe tbody tr th:only-of-type {\n",
       "        vertical-align: middle;\n",
       "    }\n",
       "\n",
       "    .dataframe tbody tr th {\n",
       "        vertical-align: top;\n",
       "    }\n",
       "\n",
       "    .dataframe thead th {\n",
       "        text-align: right;\n",
       "    }\n",
       "</style>\n",
       "<table border=\"1\" class=\"dataframe\">\n",
       "  <thead>\n",
       "    <tr style=\"text-align: right;\">\n",
       "      <th></th>\n",
       "      <th>user</th>\n",
       "      <th>movie</th>\n",
       "      <th>GAvg</th>\n",
       "      <th>sur1</th>\n",
       "      <th>sur2</th>\n",
       "      <th>sur3</th>\n",
       "      <th>sur4</th>\n",
       "      <th>sur5</th>\n",
       "      <th>smr1</th>\n",
       "      <th>smr2</th>\n",
       "      <th>smr3</th>\n",
       "      <th>smr4</th>\n",
       "      <th>smr5</th>\n",
       "      <th>UAvg</th>\n",
       "      <th>MAvg</th>\n",
       "      <th>rating</th>\n",
       "    </tr>\n",
       "  </thead>\n",
       "  <tbody>\n",
       "    <tr>\n",
       "      <td>0</td>\n",
       "      <td>53406</td>\n",
       "      <td>33</td>\n",
       "      <td>3.581679</td>\n",
       "      <td>4.0</td>\n",
       "      <td>5.0</td>\n",
       "      <td>5.0</td>\n",
       "      <td>4.0</td>\n",
       "      <td>1.0</td>\n",
       "      <td>5.0</td>\n",
       "      <td>2.0</td>\n",
       "      <td>5.0</td>\n",
       "      <td>3.0</td>\n",
       "      <td>1.0</td>\n",
       "      <td>3.370370</td>\n",
       "      <td>4.092437</td>\n",
       "      <td>4</td>\n",
       "    </tr>\n",
       "    <tr>\n",
       "      <td>1</td>\n",
       "      <td>99540</td>\n",
       "      <td>33</td>\n",
       "      <td>3.581679</td>\n",
       "      <td>5.0</td>\n",
       "      <td>5.0</td>\n",
       "      <td>5.0</td>\n",
       "      <td>4.0</td>\n",
       "      <td>5.0</td>\n",
       "      <td>3.0</td>\n",
       "      <td>4.0</td>\n",
       "      <td>4.0</td>\n",
       "      <td>3.0</td>\n",
       "      <td>5.0</td>\n",
       "      <td>3.555556</td>\n",
       "      <td>4.092437</td>\n",
       "      <td>3</td>\n",
       "    </tr>\n",
       "    <tr>\n",
       "      <td>2</td>\n",
       "      <td>99865</td>\n",
       "      <td>33</td>\n",
       "      <td>3.581679</td>\n",
       "      <td>5.0</td>\n",
       "      <td>5.0</td>\n",
       "      <td>4.0</td>\n",
       "      <td>5.0</td>\n",
       "      <td>3.0</td>\n",
       "      <td>5.0</td>\n",
       "      <td>4.0</td>\n",
       "      <td>4.0</td>\n",
       "      <td>5.0</td>\n",
       "      <td>4.0</td>\n",
       "      <td>3.714286</td>\n",
       "      <td>4.092437</td>\n",
       "      <td>5</td>\n",
       "    </tr>\n",
       "    <tr>\n",
       "      <td>3</td>\n",
       "      <td>101620</td>\n",
       "      <td>33</td>\n",
       "      <td>3.581679</td>\n",
       "      <td>2.0</td>\n",
       "      <td>3.0</td>\n",
       "      <td>5.0</td>\n",
       "      <td>5.0</td>\n",
       "      <td>4.0</td>\n",
       "      <td>4.0</td>\n",
       "      <td>3.0</td>\n",
       "      <td>3.0</td>\n",
       "      <td>4.0</td>\n",
       "      <td>5.0</td>\n",
       "      <td>3.584416</td>\n",
       "      <td>4.092437</td>\n",
       "      <td>5</td>\n",
       "    </tr>\n",
       "    <tr>\n",
       "      <td>4</td>\n",
       "      <td>112974</td>\n",
       "      <td>33</td>\n",
       "      <td>3.581679</td>\n",
       "      <td>5.0</td>\n",
       "      <td>5.0</td>\n",
       "      <td>5.0</td>\n",
       "      <td>5.0</td>\n",
       "      <td>5.0</td>\n",
       "      <td>3.0</td>\n",
       "      <td>5.0</td>\n",
       "      <td>5.0</td>\n",
       "      <td>5.0</td>\n",
       "      <td>3.0</td>\n",
       "      <td>3.750000</td>\n",
       "      <td>4.092437</td>\n",
       "      <td>5</td>\n",
       "    </tr>\n",
       "  </tbody>\n",
       "</table>\n",
       "</div>"
      ],
      "text/plain": [
       "     user  movie      GAvg  sur1  sur2  sur3  sur4  sur5  smr1  smr2  smr3  \\\n",
       "0   53406     33  3.581679   4.0   5.0   5.0   4.0   1.0   5.0   2.0   5.0   \n",
       "1   99540     33  3.581679   5.0   5.0   5.0   4.0   5.0   3.0   4.0   4.0   \n",
       "2   99865     33  3.581679   5.0   5.0   4.0   5.0   3.0   5.0   4.0   4.0   \n",
       "3  101620     33  3.581679   2.0   3.0   5.0   5.0   4.0   4.0   3.0   3.0   \n",
       "4  112974     33  3.581679   5.0   5.0   5.0   5.0   5.0   3.0   5.0   5.0   \n",
       "\n",
       "   smr4  smr5      UAvg      MAvg  rating  \n",
       "0   3.0   1.0  3.370370  4.092437       4  \n",
       "1   3.0   5.0  3.555556  4.092437       3  \n",
       "2   5.0   4.0  3.714286  4.092437       5  \n",
       "3   4.0   5.0  3.584416  4.092437       5  \n",
       "4   5.0   3.0  3.750000  4.092437       5  "
      ]
     },
     "execution_count": 69,
     "metadata": {},
     "output_type": "execute_result"
    }
   ],
   "source": [
    "reg_train = pd.read_csv('reg_train.csv', names = ['user', 'movie', 'GAvg', 'sur1', 'sur2', 'sur3', 'sur4', 'sur5','smr1', 'smr2', 'smr3', 'smr4', 'smr5', 'UAvg', 'MAvg', 'rating'], header=None)\n",
    "reg_train.head()"
   ]
  },
  {
   "cell_type": "markdown",
   "metadata": {
    "colab_type": "text",
    "id": "e90d1zMCxrql"
   },
   "source": [
    "-----------------------\n",
    "\n",
    "- __GAvg__ : Average rating of all the ratings \n",
    "\n",
    "\n",
    "- __Similar users rating of this movie__:\n",
    "    - sur1, sur2, sur3, sur4, sur5 ( top 5 similar users who rated that movie.. )\n",
    "    \n",
    "\n",
    "\n",
    "- __Similar movies rated by this user__:\n",
    "    - smr1, smr2, smr3, smr4, smr5 ( top 5 similar movies rated by this movie.. )\n",
    "\n",
    "\n",
    "- __UAvg__ : User's Average rating\n",
    "\n",
    "\n",
    "- __MAvg__ : Average rating of this movie\n",
    "\n",
    "\n",
    "- __rating__ : Rating of this movie by this user.\n",
    "\n",
    "-----------------------"
   ]
  },
  {
   "cell_type": "markdown",
   "metadata": {
    "colab_type": "text",
    "id": "kW-WflXTxrqm"
   },
   "source": [
    " "
   ]
  },
  {
   "cell_type": "markdown",
   "metadata": {
    "colab_type": "text",
    "id": "r9vMR-Edxrqm"
   },
   "source": [
    "<h4> 4.3.1.2 Featurizing test data </h4>"
   ]
  },
  {
   "cell_type": "code",
   "execution_count": 70,
   "metadata": {
    "colab": {},
    "colab_type": "code",
    "id": "M2QBhCcMxrqm"
   },
   "outputs": [],
   "source": [
    "sample_test_users, sample_test_movies, sample_test_ratings = sparse.find(sample_test_sparse_matrix)"
   ]
  },
  {
   "cell_type": "code",
   "execution_count": 71,
   "metadata": {
    "colab": {},
    "colab_type": "code",
    "id": "nDL4-uKcxrqo",
    "outputId": "bcb3bc92-eaee-4d85-a547-56a6de5ae9fd",
    "scrolled": true
   },
   "outputs": [
    {
     "data": {
      "text/plain": [
       "3.581679377504138"
      ]
     },
     "execution_count": 71,
     "metadata": {},
     "output_type": "execute_result"
    }
   ],
   "source": [
    "sample_train_averages['global']"
   ]
  },
  {
   "cell_type": "code",
   "execution_count": 79,
   "metadata": {
    "colab": {},
    "colab_type": "code",
    "id": "CLVejZA3xrqs",
    "outputId": "767f43c5-ad21-43db-c636-4bc220000fa2"
   },
   "outputs": [
    {
     "name": "stdout",
     "output_type": "stream",
     "text": [
      "It is already created...\n"
     ]
    }
   ],
   "source": [
    "start = datetime.now()\n",
    "\n",
    "if os.path.isfile('reg_test.csv'):\n",
    "    print(\"It is already created...\")\n",
    "else:\n",
    "\n",
    "    print('preparing {} tuples for the dataset..\\n'.format(len(sample_test_ratings)))\n",
    "    with open('reg_test.csv', mode='w') as reg_data_file:\n",
    "        count = 0 \n",
    "        for (user, movie, rating)  in zip(sample_test_users, sample_test_movies, sample_test_ratings):\n",
    "            st = datetime.now()\n",
    "\n",
    "        #--------------------- Ratings of \"movie\" by similar users of \"user\" ---------------------\n",
    "            try:\n",
    "                 \n",
    "                user_sim = cosine_similarity(sample_train_sparse_matrix[user], sample_train_sparse_matrix).ravel()\n",
    "                top_sim_users = user_sim.argsort()[::-1][1:] \n",
    "                \n",
    "                top_ratings = sample_train_sparse_matrix[top_sim_users, movie].toarray().ravel()\n",
    "                \n",
    "                top_sim_users_ratings = list(top_ratings[top_ratings != 0][:5])\n",
    "                top_sim_users_ratings.extend([sample_train_averages['movie'][movie]]*(5 - len(top_sim_users_ratings)))\n",
    "\n",
    "            except (IndexError, KeyError):\n",
    "                \n",
    "                top_sim_users_ratings.extend([sample_train_averages['global']]*(5 - len(top_sim_users_ratings)))\n",
    "                \n",
    "            except:\n",
    "                print(user, movie)\n",
    "                raise\n",
    "\n",
    "\n",
    "\n",
    "            #--------------------- Ratings by \"user\"  to similar movies of \"movie\" ---------------------\n",
    "            try:\n",
    "                movie_sim = cosine_similarity(sample_train_sparse_matrix[:,movie].T, sample_train_sparse_matrix.T).ravel()\n",
    "                top_sim_movies = movie_sim.argsort()[::-1][1:] \n",
    "                top_ratings = sample_train_sparse_matrix[user, top_sim_movies].toarray().ravel()\n",
    "                top_sim_movies_ratings = list(top_ratings[top_ratings != 0][:5])\n",
    "                top_sim_movies_ratings.extend([sample_train_averages['user'][user]]*(5-len(top_sim_movies_ratings))) \n",
    "                \n",
    "                \n",
    "            except (IndexError, KeyError):\n",
    "\n",
    "                top_sim_movies_ratings.extend([sample_train_averages['global']]*(5-len(top_sim_movies_ratings)))\n",
    "                \n",
    "            except :\n",
    "                raise\n",
    "\n",
    "            #-----------------prepare the row to be stores in a file-----------------#\n",
    "            row = list()\n",
    "\n",
    "            row.append(user)\n",
    "            row.append(movie)\n",
    "            row.append(sample_train_averages['global']) # first feature\n",
    "            \n",
    "            row.extend(top_sim_users_ratings)\n",
    "            \n",
    "            row.extend(top_sim_movies_ratings)\n",
    "            \n",
    "            try:\n",
    "                row.append(sample_train_averages['user'][user])\n",
    "            except KeyError:\n",
    "                row.append(sample_train_averages['global'])\n",
    "            except:\n",
    "                raise\n",
    "            \n",
    "            try:\n",
    "                row.append(sample_train_averages['movie'][movie])\n",
    "            except KeyError:\n",
    "                row.append(sample_train_averages['global'])\n",
    "            except:\n",
    "                raise\n",
    "            \n",
    "            row.append(rating)\n",
    "           \n",
    "            count = count + 1\n",
    "\n",
    "            \n",
    "            reg_data_file.write(','.join(map(str, row)))\n",
    "            \n",
    "            reg_data_file.write('\\n')        \n",
    "            if (count)%1000 == 0:\n",
    "                print(\"Done for {} rows----- {}\".format(count, datetime.now() - start))\n",
    "    print(\"\",datetime.now() - start)"
   ]
  },
  {
   "cell_type": "markdown",
   "metadata": {
    "colab_type": "text",
    "id": "RgiFyKukxrqu"
   },
   "source": [
    "__Reading from the file to make a test dataframe __"
   ]
  },
  {
   "cell_type": "code",
   "execution_count": 80,
   "metadata": {
    "colab": {},
    "colab_type": "code",
    "id": "7mhv5Rztxrqv",
    "outputId": "21381d8c-b5da-499d-a1b2-9052b78f2549"
   },
   "outputs": [
    {
     "data": {
      "text/html": [
       "<div>\n",
       "<style scoped>\n",
       "    .dataframe tbody tr th:only-of-type {\n",
       "        vertical-align: middle;\n",
       "    }\n",
       "\n",
       "    .dataframe tbody tr th {\n",
       "        vertical-align: top;\n",
       "    }\n",
       "\n",
       "    .dataframe thead th {\n",
       "        text-align: right;\n",
       "    }\n",
       "</style>\n",
       "<table border=\"1\" class=\"dataframe\">\n",
       "  <thead>\n",
       "    <tr style=\"text-align: right;\">\n",
       "      <th></th>\n",
       "      <th>user</th>\n",
       "      <th>movie</th>\n",
       "      <th>GAvg</th>\n",
       "      <th>sur1</th>\n",
       "      <th>sur2</th>\n",
       "      <th>sur3</th>\n",
       "      <th>sur4</th>\n",
       "      <th>sur5</th>\n",
       "      <th>smr1</th>\n",
       "      <th>smr2</th>\n",
       "      <th>smr3</th>\n",
       "      <th>smr4</th>\n",
       "      <th>smr5</th>\n",
       "      <th>UAvg</th>\n",
       "      <th>MAvg</th>\n",
       "      <th>rating</th>\n",
       "    </tr>\n",
       "  </thead>\n",
       "  <tbody>\n",
       "    <tr>\n",
       "      <td>0</td>\n",
       "      <td>808635</td>\n",
       "      <td>71</td>\n",
       "      <td>3.581679</td>\n",
       "      <td>3.581679</td>\n",
       "      <td>3.581679</td>\n",
       "      <td>3.581679</td>\n",
       "      <td>3.581679</td>\n",
       "      <td>3.581679</td>\n",
       "      <td>3.581679</td>\n",
       "      <td>3.581679</td>\n",
       "      <td>3.581679</td>\n",
       "      <td>3.581679</td>\n",
       "      <td>3.581679</td>\n",
       "      <td>3.581679</td>\n",
       "      <td>3.581679</td>\n",
       "      <td>5</td>\n",
       "    </tr>\n",
       "    <tr>\n",
       "      <td>1</td>\n",
       "      <td>941866</td>\n",
       "      <td>71</td>\n",
       "      <td>3.581679</td>\n",
       "      <td>3.581679</td>\n",
       "      <td>3.581679</td>\n",
       "      <td>3.581679</td>\n",
       "      <td>3.581679</td>\n",
       "      <td>3.581679</td>\n",
       "      <td>3.581679</td>\n",
       "      <td>3.581679</td>\n",
       "      <td>3.581679</td>\n",
       "      <td>3.581679</td>\n",
       "      <td>3.581679</td>\n",
       "      <td>3.581679</td>\n",
       "      <td>3.581679</td>\n",
       "      <td>4</td>\n",
       "    </tr>\n",
       "    <tr>\n",
       "      <td>2</td>\n",
       "      <td>1737912</td>\n",
       "      <td>71</td>\n",
       "      <td>3.581679</td>\n",
       "      <td>3.581679</td>\n",
       "      <td>3.581679</td>\n",
       "      <td>3.581679</td>\n",
       "      <td>3.581679</td>\n",
       "      <td>3.581679</td>\n",
       "      <td>3.581679</td>\n",
       "      <td>3.581679</td>\n",
       "      <td>3.581679</td>\n",
       "      <td>3.581679</td>\n",
       "      <td>3.581679</td>\n",
       "      <td>3.581679</td>\n",
       "      <td>3.581679</td>\n",
       "      <td>3</td>\n",
       "    </tr>\n",
       "    <tr>\n",
       "      <td>3</td>\n",
       "      <td>1849204</td>\n",
       "      <td>71</td>\n",
       "      <td>3.581679</td>\n",
       "      <td>3.581679</td>\n",
       "      <td>3.581679</td>\n",
       "      <td>3.581679</td>\n",
       "      <td>3.581679</td>\n",
       "      <td>3.581679</td>\n",
       "      <td>3.581679</td>\n",
       "      <td>3.581679</td>\n",
       "      <td>3.581679</td>\n",
       "      <td>3.581679</td>\n",
       "      <td>3.581679</td>\n",
       "      <td>3.581679</td>\n",
       "      <td>3.581679</td>\n",
       "      <td>4</td>\n",
       "    </tr>\n",
       "  </tbody>\n",
       "</table>\n",
       "</div>"
      ],
      "text/plain": [
       "      user  movie      GAvg      sur1      sur2      sur3      sur4      sur5  \\\n",
       "0   808635     71  3.581679  3.581679  3.581679  3.581679  3.581679  3.581679   \n",
       "1   941866     71  3.581679  3.581679  3.581679  3.581679  3.581679  3.581679   \n",
       "2  1737912     71  3.581679  3.581679  3.581679  3.581679  3.581679  3.581679   \n",
       "3  1849204     71  3.581679  3.581679  3.581679  3.581679  3.581679  3.581679   \n",
       "\n",
       "       smr1      smr2      smr3      smr4      smr5      UAvg      MAvg  \\\n",
       "0  3.581679  3.581679  3.581679  3.581679  3.581679  3.581679  3.581679   \n",
       "1  3.581679  3.581679  3.581679  3.581679  3.581679  3.581679  3.581679   \n",
       "2  3.581679  3.581679  3.581679  3.581679  3.581679  3.581679  3.581679   \n",
       "3  3.581679  3.581679  3.581679  3.581679  3.581679  3.581679  3.581679   \n",
       "\n",
       "   rating  \n",
       "0       5  \n",
       "1       4  \n",
       "2       3  \n",
       "3       4  "
      ]
     },
     "execution_count": 80,
     "metadata": {},
     "output_type": "execute_result"
    }
   ],
   "source": [
    "reg_test_df = pd.read_csv('reg_test.csv', names = ['user', 'movie', 'GAvg', 'sur1', 'sur2', 'sur3', 'sur4', 'sur5',\n",
    "                                                          'smr1', 'smr2', 'smr3', 'smr4', 'smr5',\n",
    "                                                          'UAvg', 'MAvg', 'rating'], header=None)\n",
    "reg_test_df.head(4)"
   ]
  },
  {
   "cell_type": "markdown",
   "metadata": {
    "colab_type": "text",
    "id": "_vWmzUruxrqx"
   },
   "source": [
    "-----------------------\n",
    "\n",
    "- __GAvg__ : Average rating of all the ratings \n",
    "\n",
    "\n",
    "- __Similar users rating of this movie__:\n",
    "    - sur1, sur2, sur3, sur4, sur5 ( top 5 simiular users who rated that movie.. )\n",
    "    \n",
    "\n",
    "\n",
    "- __Similar movies rated by this user__:\n",
    "    - smr1, smr2, smr3, smr4, smr5 ( top 5 simiular movies rated by this movie.. )\n",
    "\n",
    "\n",
    "- __UAvg__ : User AVerage rating\n",
    "\n",
    "\n",
    "- __MAvg__ : Average rating of this movie\n",
    "\n",
    "\n",
    "- __rating__ : Rating of this movie by this user.\n",
    "\n",
    "-----------------------"
   ]
  },
  {
   "cell_type": "markdown",
   "metadata": {
    "colab_type": "text",
    "id": "QM1iX_xyxrqx"
   },
   "source": [
    " "
   ]
  },
  {
   "cell_type": "markdown",
   "metadata": {
    "colab_type": "text",
    "id": "tLaiV_tZxrqy"
   },
   "source": [
    "<h3> 4.3.2 Transforming data for Surprise models</h3>"
   ]
  },
  {
   "cell_type": "code",
   "execution_count": 81,
   "metadata": {
    "colab": {},
    "colab_type": "code",
    "id": "2d2vQJ5lxrqy"
   },
   "outputs": [],
   "source": [
    "from surprise import Reader, Dataset"
   ]
  },
  {
   "cell_type": "markdown",
   "metadata": {
    "colab_type": "text",
    "id": "YzeK0zA9xrq0"
   },
   "source": [
    "<h4> 4.3.2.1 Transforming train data </h4>"
   ]
  },
  {
   "cell_type": "markdown",
   "metadata": {
    "colab_type": "text",
    "id": "0l0rgL1qxrq1"
   },
   "source": [
    "- We can't give raw data (movie, user, rating) to train the model in Surprise library.\n",
    "\n",
    "\n",
    "- They have a saperate format for TRAIN and TEST data, which will be useful for training the models like SVD, KNNBaseLineOnly....etc..,in Surprise.\n",
    "\n",
    "\n",
    "- We can form the trainset from a file, or from a Pandas  DataFrame. \n",
    "http://surprise.readthedocs.io/en/stable/getting_started.html#load-dom-dataframe-py "
   ]
  },
  {
   "cell_type": "code",
   "execution_count": 82,
   "metadata": {
    "colab": {},
    "colab_type": "code",
    "id": "z9TA98dwxrq1"
   },
   "outputs": [],
   "source": [
    "reader = Reader(rating_scale=(1,5))\n",
    "\n",
    "train_data = Dataset.load_from_df(reg_train[['user', 'movie', 'rating']], reader)\n",
    "\n",
    "trainset = train_data.build_full_trainset() "
   ]
  },
  {
   "cell_type": "markdown",
   "metadata": {
    "colab_type": "text",
    "id": "6OTXxLz-xrq2"
   },
   "source": [
    "<h4> 4.3.2.2 Transforming test data </h4>"
   ]
  },
  {
   "cell_type": "markdown",
   "metadata": {
    "colab_type": "text",
    "id": "iwKbEi_uxrq2"
   },
   "source": [
    "- Testset is just a list of (user, movie, rating) tuples. (Order in the tuple is impotant) "
   ]
  },
  {
   "cell_type": "code",
   "execution_count": 83,
   "metadata": {
    "colab": {},
    "colab_type": "code",
    "id": "v3jqrt6lxrq2",
    "outputId": "49c6a44b-919e-4463-fd98-51d67647da44"
   },
   "outputs": [
    {
     "data": {
      "text/plain": [
       "[(808635, 71, 5), (941866, 71, 4), (1737912, 71, 3)]"
      ]
     },
     "execution_count": 83,
     "metadata": {},
     "output_type": "execute_result"
    }
   ],
   "source": [
    "testset = list(zip(reg_test_df.user.values, reg_test_df.movie.values, reg_test_df.rating.values))\n",
    "testset[:3]"
   ]
  },
  {
   "cell_type": "markdown",
   "metadata": {
    "colab_type": "text",
    "id": "ZzgDaBL_xrq8"
   },
   "source": [
    "<h2> 4.4 Applying Machine Learning models </h2>"
   ]
  },
  {
   "cell_type": "markdown",
   "metadata": {
    "colab_type": "text",
    "id": "gbgKluZ8xrq9"
   },
   "source": [
    " "
   ]
  },
  {
   "cell_type": "markdown",
   "metadata": {
    "colab_type": "text",
    "id": "YRL_TP7axrq9"
   },
   "source": [
    "-  Global dictionary that stores rmse and mape for all the models....\n",
    "\n",
    "    - It stores the metrics in a dictionary of dictionaries\n",
    "\n",
    "    > __keys__ : model names(string)\n",
    "\n",
    "    > __value__: dict(__key__ : metric, __value__ : value ) "
   ]
  },
  {
   "cell_type": "code",
   "execution_count": 84,
   "metadata": {
    "colab": {},
    "colab_type": "code",
    "id": "9sKjPQMExrq9",
    "outputId": "4813287c-b810-4f5e-87b2-8917d75c28ca"
   },
   "outputs": [
    {
     "data": {
      "text/plain": [
       "({}, {})"
      ]
     },
     "execution_count": 84,
     "metadata": {},
     "output_type": "execute_result"
    }
   ],
   "source": [
    "models_evaluation_train = dict()\n",
    "models_evaluation_test = dict()\n",
    "\n",
    "models_evaluation_train, models_evaluation_test"
   ]
  },
  {
   "cell_type": "markdown",
   "metadata": {
    "colab_type": "text",
    "id": "Ca6rt6ZixrrA"
   },
   "source": [
    " "
   ]
  },
  {
   "cell_type": "markdown",
   "metadata": {
    "colab_type": "text",
    "id": "Cg4ii0eRxrrB"
   },
   "source": [
    " > __Utility functions for running regression models__"
   ]
  },
  {
   "cell_type": "code",
   "execution_count": 85,
   "metadata": {
    "colab": {},
    "colab_type": "code",
    "id": "6h_z36v6xrrE"
   },
   "outputs": [],
   "source": [
    "def get_error_metrics(y_true, y_pred):\n",
    "    rmse = np.sqrt(np.mean([ (y_true[i] - y_pred[i])**2 for i in range(len(y_pred)) ]))\n",
    "    mape = np.mean(np.abs( (y_true - y_pred)/y_true )) * 100\n",
    "    return rmse, mape\n",
    "\n",
    "def run_xgboost(algo,  x_train, y_train, x_test, y_test, verbose=True):\n",
    "    \"\"\"\n",
    "    It will return train_results and test_results\n",
    "    \"\"\"\n",
    "    \n",
    "    train_results = dict()\n",
    "    test_results = dict()\n",
    "    \n",
    "\n",
    "    print('Training the model..')\n",
    "    start =datetime.now()\n",
    "    algo.fit(x_train, y_train, eval_metric = 'rmse')\n",
    "    print('Done. Time taken : {}\\n'.format(datetime.now()-start))\n",
    "    print('Done \\n')\n",
    "\n",
    "    print('Evaluating the model with TRAIN data...')\n",
    "    start =datetime.now()\n",
    "    y_train_pred = algo.predict(x_train)\n",
    "    \n",
    "    rmse_train, mape_train = get_error_metrics(y_train.values, y_train_pred)\n",
    "    \n",
    "    train_results = {'rmse': rmse_train,\n",
    "                    'mape' : mape_train,\n",
    "                    'predictions' : y_train_pred}\n",
    "    \n",
    "    \n",
    "    print('Evaluating Test data')\n",
    "    y_test_pred = algo.predict(x_test) \n",
    "    rmse_test, mape_test = get_error_metrics(y_true=y_test.values, y_pred=y_test_pred)\n",
    "    \n",
    "    test_results = {'rmse': rmse_test,\n",
    "                    'mape' : mape_test,\n",
    "                    'predictions':y_test_pred}\n",
    "    if verbose:\n",
    "        print('\\nTEST DATA')\n",
    "        print('-'*30)\n",
    "        print('RMSE : ', rmse_test)\n",
    "        print('MAPE : ', mape_test)\n",
    "        \n",
    "    return train_results, test_results\n",
    "    "
   ]
  },
  {
   "cell_type": "markdown",
   "metadata": {
    "colab_type": "text",
    "id": "eABdBWP_xrrF"
   },
   "source": [
    "> __Utility functions for Surprise modes__"
   ]
  },
  {
   "cell_type": "code",
   "execution_count": 86,
   "metadata": {
    "colab": {},
    "colab_type": "code",
    "id": "b9B1gLPvxrrG"
   },
   "outputs": [],
   "source": [
    "my_seed = 15\n",
    "random.seed(my_seed)\n",
    "np.random.seed(my_seed)\n",
    "\n",
    "def get_ratings(predictions):\n",
    "    actual = np.array([pred.r_ui for pred in predictions])\n",
    "    pred = np.array([pred.est for pred in predictions])\n",
    "    \n",
    "    return actual, pred\n",
    "\n",
    "def get_errors(predictions, print_them=False):\n",
    "\n",
    "    actual, pred = get_ratings(predictions)\n",
    "    rmse = np.sqrt(np.mean((pred - actual)**2))\n",
    "    mape = np.mean(np.abs(pred - actual)/actual)\n",
    "\n",
    "    return rmse, mape*100\n",
    "\n",
    "def run_surprise(algo, trainset, testset, verbose=True): \n",
    "    '''\n",
    "        return train_dict, test_dict\n",
    "    \n",
    "        It returns two dictionaries, one for train and the other is for test\n",
    "        Each of them have 3 key-value pairs, which specify ''rmse'', ''mape'', and ''predicted ratings''.\n",
    "    '''\n",
    "    start = datetime.now()\n",
    "    \n",
    "    train = dict()\n",
    "    test = dict()\n",
    "    \n",
    "    st = datetime.now()\n",
    "    print('Training the model...')\n",
    "    algo.fit(trainset)\n",
    "    print('Done. time taken : {} \\n'.format(datetime.now()-st))\n",
    "    \n",
    "    # ---------------- Evaluating train data--------------------#\n",
    "    st = datetime.now()\n",
    "    print('Evaluating the model with train data..')\n",
    "    \n",
    "    train_preds = algo.test(trainset.build_testset())\n",
    "    \n",
    "    train_actual_ratings, train_pred_ratings = get_ratings(train_preds)\n",
    "    \n",
    "    train_rmse, train_mape = get_errors(train_preds)\n",
    "    print('time taken : {}'.format(datetime.now()-st))\n",
    "    \n",
    "    if verbose:\n",
    "        print('-'*15)\n",
    "        print('Train Data')\n",
    "        print('-'*15)\n",
    "        print(\"RMSE : {}\\n\\nMAPE : {}\\n\".format(train_rmse, train_mape))\n",
    "    \n",
    "    \n",
    "    if verbose:\n",
    "        print('adding train results in the dictionary..')\n",
    "    train['rmse'] = train_rmse\n",
    "    train['mape'] = train_mape\n",
    "    train['predictions'] = train_pred_ratings\n",
    "    \n",
    "    #------------ Evaluating Test data---------------#\n",
    "    st = datetime.now()\n",
    "    print('\\nEvaluating for test data...')\n",
    "    \n",
    "    test_preds = algo.test(testset)\n",
    "    \n",
    "    test_actual_ratings, test_pred_ratings = get_ratings(test_preds)\n",
    "    \n",
    "    test_rmse, test_mape = get_errors(test_preds)\n",
    "    print('time taken : {}'.format(datetime.now()-st))\n",
    "    \n",
    "    if verbose:\n",
    "        print('-'*15)\n",
    "        print('Test Data')\n",
    "        print('-'*15)\n",
    "        print(\"RMSE : {}\\n\\nMAPE : {}\\n\".format(test_rmse, test_mape))\n",
    "    \n",
    "    if verbose:\n",
    "        print('storing the test results in test dictionary...')\n",
    "    test['rmse'] = test_rmse\n",
    "    test['mape'] = test_mape\n",
    "    test['predictions'] = test_pred_ratings\n",
    "    \n",
    "    print('\\n'+'-'*45)\n",
    "    print('Total time taken to run this algorithm :', datetime.now() - start)\n",
    "    \n",
    "    return train, test"
   ]
  },
  {
   "cell_type": "markdown",
   "metadata": {
    "colab_type": "text",
    "id": "vlx884YTxrrI"
   },
   "source": [
    " "
   ]
  },
  {
   "cell_type": "markdown",
   "metadata": {
    "colab_type": "text",
    "id": "Jh6CNDb1xrrI"
   },
   "source": [
    "<h3> 4.4.1 XGBoost with initial 13 features </h3>"
   ]
  },
  {
   "cell_type": "code",
   "execution_count": 87,
   "metadata": {
    "colab": {},
    "colab_type": "code",
    "id": "GDMZ35MNxrrJ"
   },
   "outputs": [],
   "source": [
    "import xgboost as xgb\n",
    "from scipy.stats import randint as sp_randint\n",
    "from scipy import stats\n",
    "from sklearn.model_selection import RandomizedSearchCV\n",
    "\n",
    "\n",
    "# prepare Train data\n",
    "x_train = reg_train.drop(['user','movie','rating'], axis=1)\n",
    "y_train = reg_train['rating']\n",
    "\n",
    "# Prepare Test data\n",
    "x_test = reg_test_df.drop(['user','movie','rating'], axis=1)\n",
    "y_test = reg_test_df['rating']"
   ]
  },
  {
   "cell_type": "code",
   "execution_count": 88,
   "metadata": {
    "colab": {},
    "colab_type": "code",
    "id": "DoxUdAnFxrrK",
    "outputId": "e2dc745d-84d8-4468-cba2-6417fc5e6277"
   },
   "outputs": [
    {
     "name": "stdout",
     "output_type": "stream",
     "text": [
      "Tuning parameters: \n",
      "\n",
      "Time taken to tune:0:01:39.270680\n",
      "\n"
     ]
    }
   ],
   "source": [
    "# Hyperparameter tuning \n",
    "params = {'learning_rate' :stats.uniform(0.01,0.2),\n",
    "             'n_estimators':sp_randint(100,1000),\n",
    "             'max_depth':sp_randint(1,10),\n",
    "             'min_child_weight':sp_randint(1,8),\n",
    "             'gamma':stats.uniform(0,0.02),\n",
    "             'subsample':stats.uniform(0.6,0.4),\n",
    "             'reg_alpha':sp_randint(0,200),\n",
    "             'reg_lambda':stats.uniform(0,200),\n",
    "             'colsample_bytree':stats.uniform(0.6,0.3)}\n",
    "\n",
    "# initialize Our first XGBoost model...\n",
    "xgbreg = xgb.XGBRegressor(silent=True, n_jobs= -1, random_state=15)\n",
    "start =datetime.now()\n",
    "print('Tuning parameters: \\n')\n",
    "xgb_best = RandomizedSearchCV(xgbreg, param_distributions= params,refit=False, scoring = \"neg_mean_squared_error\",\n",
    "                              cv =3,n_jobs = -1)\n",
    "xgb_best.fit(x_train, y_train)\n",
    "best_para = xgb_best.best_params_\n",
    "first_xgb = xgbreg.set_params(**best_para)\n",
    "print('Time taken to tune:{}\\n'.format(datetime.now()-start))"
   ]
  },
  {
   "cell_type": "code",
   "execution_count": 129,
   "metadata": {
    "colab": {},
    "colab_type": "code",
    "id": "U1_oPYweE4iY",
    "outputId": "6a7b49bd-b51f-47e0-ecc4-77fa26b6b1f8"
   },
   "outputs": [
    {
     "name": "stdout",
     "output_type": "stream",
     "text": [
      "Training the model..\n",
      "Done. Time taken : 0:00:33.818352\n",
      "\n",
      "Done \n",
      "\n",
      "Evaluating the model with TRAIN data...\n",
      "Evaluating Test data\n",
      "\n",
      "TEST DATA\n",
      "------------------------------\n",
      "RMSE :  1.080197591968646\n",
      "MAPE :  34.52337629491944\n"
     ]
    },
    {
     "data": {
      "image/png": "[encoded data removed]",
      "text/plain": [
       "<Figure size 432x288 with 1 Axes>"
      ]
     },
     "metadata": {
      "needs_background": "light"
     },
     "output_type": "display_data"
    }
   ],
   "source": [
    "train_results, test_results = run_xgboost(first_xgb, x_train, y_train, x_test, y_test)\n",
    "\n",
    "models_evaluation_train['first_algo'] = train_results\n",
    "models_evaluation_test['first_algo'] = test_results\n",
    "\n",
    "xgb.plot_importance(first_xgb)\n",
    "plt.show()"
   ]
  },
  {
   "cell_type": "markdown",
   "metadata": {
    "colab_type": "text",
    "id": "DWm7knFrxrrO"
   },
   "source": [
    " "
   ]
  },
  {
   "cell_type": "markdown",
   "metadata": {
    "colab_type": "text",
    "id": "FUG-CnKpxrrP"
   },
   "source": [
    "<h3> 4.4.2 Suprise BaselineModel </h3>\n",
    "    \n"
   ]
  },
  {
   "cell_type": "code",
   "execution_count": 90,
   "metadata": {
    "colab": {},
    "colab_type": "code",
    "id": "UpX853XsxrrQ"
   },
   "outputs": [],
   "source": [
    "from surprise import BaselineOnly "
   ]
  },
  {
   "cell_type": "markdown",
   "metadata": {
    "colab_type": "text",
    "id": "B9FkmEuTxrrR"
   },
   "source": [
    "__Predicted_rating : ( baseline prediction ) __\n",
    "\n",
    "    -  http://surprise.readthedocs.io/en/stable/basic_algorithms.html#surprise.prediction_algorithms.baseline_only.BaselineOnly \n",
    " >$   \\large {\\hat{r}_{ui} = b_{ui} =\\mu + b_u + b_i} $\n",
    "\n",
    "\n",
    "- $\\pmb \\mu $ : Average of all trainings in training data.\n",
    "- $\\pmb b_u$ : User bias\n",
    "- $\\pmb b_i$ : Item bias (movie biases) "
   ]
  },
  {
   "cell_type": "markdown",
   "metadata": {
    "colab_type": "text",
    "id": "ITW64wCDxrrR"
   },
   "source": [
    "__Optimization function ( Least Squares Problem ) __\n",
    "\n",
    "    - http://surprise.readthedocs.io/en/stable/prediction_algorithms.html#baselines-estimates-configuration \n",
    "\n",
    "> $ \\large \\sum_{r_{ui} \\in R_{train}} \\left(r_{ui} - (\\mu + b_u + b_i)\\right)^2 +\n",
    "\\lambda \\left(b_u^2 + b_i^2 \\right).\\text {        [mimimize } {b_u, b_i]}$ "
   ]
  },
  {
   "cell_type": "code",
   "execution_count": 91,
   "metadata": {
    "colab": {},
    "colab_type": "code",
    "id": "Hxg5585nxrrS",
    "outputId": "118c4d00-a202-460b-dd78-a89e664d5570"
   },
   "outputs": [
    {
     "name": "stdout",
     "output_type": "stream",
     "text": [
      "Training the model...\n",
      "Estimating biases using sgd...\n",
      "Done. time taken : 0:00:00.702261 \n",
      "\n",
      "Evaluating the model with train data..\n",
      "time taken : 0:00:01.405979\n",
      "---------------\n",
      "Train Data\n",
      "---------------\n",
      "RMSE : 0.9347153928678286\n",
      "\n",
      "MAPE : 29.389572652358183\n",
      "\n",
      "adding train results in the dictionary..\n",
      "\n",
      "Evaluating for test data...\n",
      "time taken : 0:00:00.129258\n",
      "---------------\n",
      "Test Data\n",
      "---------------\n",
      "RMSE : 1.0730330260516174\n",
      "\n",
      "MAPE : 35.04995544572911\n",
      "\n",
      "storing the test results in test dictionary...\n",
      "\n",
      "---------------------------------------------\n",
      "Total time taken to run this algorithm : 0:00:02.238474\n"
     ]
    }
   ],
   "source": [
    "bsl_options = {'method': 'sgd',\n",
    "               'learning_rate': .001\n",
    "               }\n",
    "bsl_algo = BaselineOnly(bsl_options=bsl_options)\n",
    "\n",
    "bsl_train_results, bsl_test_results = run_surprise(bsl_algo, trainset, testset, verbose=True)\n",
    "\n",
    "models_evaluation_train['bsl_algo'] = bsl_train_results \n",
    "models_evaluation_test['bsl_algo'] = bsl_test_results"
   ]
  },
  {
   "cell_type": "markdown",
   "metadata": {
    "colab_type": "text",
    "id": "64PX9U4FxrrT"
   },
   "source": [
    " "
   ]
  },
  {
   "cell_type": "markdown",
   "metadata": {
    "colab_type": "text",
    "id": "AX3Zrio7xrrU"
   },
   "source": [
    "<h3> 4.4.3 XGBoost with initial 13 features + Surprise Baseline predictor </h3>"
   ]
  },
  {
   "cell_type": "markdown",
   "metadata": {
    "colab_type": "text",
    "id": "ab0DLIymxrrV"
   },
   "source": [
    "__Updating Train Data__"
   ]
  },
  {
   "cell_type": "code",
   "execution_count": 92,
   "metadata": {
    "colab": {},
    "colab_type": "code",
    "id": "eU92pNacxrrV",
    "outputId": "ad5d0309-054c-406d-dc87-c8384a5fbf12"
   },
   "outputs": [
    {
     "data": {
      "text/html": [
       "<div>\n",
       "<style scoped>\n",
       "    .dataframe tbody tr th:only-of-type {\n",
       "        vertical-align: middle;\n",
       "    }\n",
       "\n",
       "    .dataframe tbody tr th {\n",
       "        vertical-align: top;\n",
       "    }\n",
       "\n",
       "    .dataframe thead th {\n",
       "        text-align: right;\n",
       "    }\n",
       "</style>\n",
       "<table border=\"1\" class=\"dataframe\">\n",
       "  <thead>\n",
       "    <tr style=\"text-align: right;\">\n",
       "      <th></th>\n",
       "      <th>user</th>\n",
       "      <th>movie</th>\n",
       "      <th>GAvg</th>\n",
       "      <th>sur1</th>\n",
       "      <th>sur2</th>\n",
       "      <th>sur3</th>\n",
       "      <th>sur4</th>\n",
       "      <th>sur5</th>\n",
       "      <th>smr1</th>\n",
       "      <th>smr2</th>\n",
       "      <th>smr3</th>\n",
       "      <th>smr4</th>\n",
       "      <th>smr5</th>\n",
       "      <th>UAvg</th>\n",
       "      <th>MAvg</th>\n",
       "      <th>rating</th>\n",
       "      <th>bslpr</th>\n",
       "    </tr>\n",
       "  </thead>\n",
       "  <tbody>\n",
       "    <tr>\n",
       "      <td>0</td>\n",
       "      <td>53406</td>\n",
       "      <td>33</td>\n",
       "      <td>3.581679</td>\n",
       "      <td>4.0</td>\n",
       "      <td>5.0</td>\n",
       "      <td>5.0</td>\n",
       "      <td>4.0</td>\n",
       "      <td>1.0</td>\n",
       "      <td>5.0</td>\n",
       "      <td>2.0</td>\n",
       "      <td>5.0</td>\n",
       "      <td>3.0</td>\n",
       "      <td>1.0</td>\n",
       "      <td>3.370370</td>\n",
       "      <td>4.092437</td>\n",
       "      <td>4</td>\n",
       "      <td>3.898982</td>\n",
       "    </tr>\n",
       "    <tr>\n",
       "      <td>1</td>\n",
       "      <td>99540</td>\n",
       "      <td>33</td>\n",
       "      <td>3.581679</td>\n",
       "      <td>5.0</td>\n",
       "      <td>5.0</td>\n",
       "      <td>5.0</td>\n",
       "      <td>4.0</td>\n",
       "      <td>5.0</td>\n",
       "      <td>3.0</td>\n",
       "      <td>4.0</td>\n",
       "      <td>4.0</td>\n",
       "      <td>3.0</td>\n",
       "      <td>5.0</td>\n",
       "      <td>3.555556</td>\n",
       "      <td>4.092437</td>\n",
       "      <td>3</td>\n",
       "      <td>3.371403</td>\n",
       "    </tr>\n",
       "  </tbody>\n",
       "</table>\n",
       "</div>"
      ],
      "text/plain": [
       "    user  movie      GAvg  sur1  sur2  sur3  sur4  sur5  smr1  smr2  smr3  \\\n",
       "0  53406     33  3.581679   4.0   5.0   5.0   4.0   1.0   5.0   2.0   5.0   \n",
       "1  99540     33  3.581679   5.0   5.0   5.0   4.0   5.0   3.0   4.0   4.0   \n",
       "\n",
       "   smr4  smr5      UAvg      MAvg  rating     bslpr  \n",
       "0   3.0   1.0  3.370370  4.092437       4  3.898982  \n",
       "1   3.0   5.0  3.555556  4.092437       3  3.371403  "
      ]
     },
     "execution_count": 92,
     "metadata": {},
     "output_type": "execute_result"
    }
   ],
   "source": [
    "reg_train['bslpr'] = models_evaluation_train['bsl_algo']['predictions']\n",
    "reg_train.head(2) "
   ]
  },
  {
   "cell_type": "markdown",
   "metadata": {
    "colab_type": "text",
    "id": "ZhhIJM6ExrrW"
   },
   "source": [
    "__Updating Test Data__"
   ]
  },
  {
   "cell_type": "code",
   "execution_count": 93,
   "metadata": {
    "colab": {},
    "colab_type": "code",
    "id": "yKTq0QZrxrrW",
    "outputId": "194d8d7f-a65a-4b67-f2a8-fd80daf2c5f4"
   },
   "outputs": [
    {
     "data": {
      "text/html": [
       "<div>\n",
       "<style scoped>\n",
       "    .dataframe tbody tr th:only-of-type {\n",
       "        vertical-align: middle;\n",
       "    }\n",
       "\n",
       "    .dataframe tbody tr th {\n",
       "        vertical-align: top;\n",
       "    }\n",
       "\n",
       "    .dataframe thead th {\n",
       "        text-align: right;\n",
       "    }\n",
       "</style>\n",
       "<table border=\"1\" class=\"dataframe\">\n",
       "  <thead>\n",
       "    <tr style=\"text-align: right;\">\n",
       "      <th></th>\n",
       "      <th>user</th>\n",
       "      <th>movie</th>\n",
       "      <th>GAvg</th>\n",
       "      <th>sur1</th>\n",
       "      <th>sur2</th>\n",
       "      <th>sur3</th>\n",
       "      <th>sur4</th>\n",
       "      <th>sur5</th>\n",
       "      <th>smr1</th>\n",
       "      <th>smr2</th>\n",
       "      <th>smr3</th>\n",
       "      <th>smr4</th>\n",
       "      <th>smr5</th>\n",
       "      <th>UAvg</th>\n",
       "      <th>MAvg</th>\n",
       "      <th>rating</th>\n",
       "      <th>bslpr</th>\n",
       "    </tr>\n",
       "  </thead>\n",
       "  <tbody>\n",
       "    <tr>\n",
       "      <td>0</td>\n",
       "      <td>808635</td>\n",
       "      <td>71</td>\n",
       "      <td>3.581679</td>\n",
       "      <td>3.581679</td>\n",
       "      <td>3.581679</td>\n",
       "      <td>3.581679</td>\n",
       "      <td>3.581679</td>\n",
       "      <td>3.581679</td>\n",
       "      <td>3.581679</td>\n",
       "      <td>3.581679</td>\n",
       "      <td>3.581679</td>\n",
       "      <td>3.581679</td>\n",
       "      <td>3.581679</td>\n",
       "      <td>3.581679</td>\n",
       "      <td>3.581679</td>\n",
       "      <td>5</td>\n",
       "      <td>3.581679</td>\n",
       "    </tr>\n",
       "    <tr>\n",
       "      <td>1</td>\n",
       "      <td>941866</td>\n",
       "      <td>71</td>\n",
       "      <td>3.581679</td>\n",
       "      <td>3.581679</td>\n",
       "      <td>3.581679</td>\n",
       "      <td>3.581679</td>\n",
       "      <td>3.581679</td>\n",
       "      <td>3.581679</td>\n",
       "      <td>3.581679</td>\n",
       "      <td>3.581679</td>\n",
       "      <td>3.581679</td>\n",
       "      <td>3.581679</td>\n",
       "      <td>3.581679</td>\n",
       "      <td>3.581679</td>\n",
       "      <td>3.581679</td>\n",
       "      <td>4</td>\n",
       "      <td>3.581679</td>\n",
       "    </tr>\n",
       "  </tbody>\n",
       "</table>\n",
       "</div>"
      ],
      "text/plain": [
       "     user  movie      GAvg      sur1      sur2      sur3      sur4      sur5  \\\n",
       "0  808635     71  3.581679  3.581679  3.581679  3.581679  3.581679  3.581679   \n",
       "1  941866     71  3.581679  3.581679  3.581679  3.581679  3.581679  3.581679   \n",
       "\n",
       "       smr1      smr2      smr3      smr4      smr5      UAvg      MAvg  \\\n",
       "0  3.581679  3.581679  3.581679  3.581679  3.581679  3.581679  3.581679   \n",
       "1  3.581679  3.581679  3.581679  3.581679  3.581679  3.581679  3.581679   \n",
       "\n",
       "   rating     bslpr  \n",
       "0       5  3.581679  \n",
       "1       4  3.581679  "
      ]
     },
     "execution_count": 93,
     "metadata": {},
     "output_type": "execute_result"
    }
   ],
   "source": [
    "reg_test_df['bslpr']  = models_evaluation_test['bsl_algo']['predictions']\n",
    "\n",
    "reg_test_df.head(2)"
   ]
  },
  {
   "cell_type": "code",
   "execution_count": 94,
   "metadata": {
    "colab": {},
    "colab_type": "code",
    "id": "ZaKJPuH6E4iw"
   },
   "outputs": [],
   "source": [
    "# prepare train data\n",
    "x_train = reg_train.drop(['user', 'movie','rating'], axis=1)\n",
    "y_train = reg_train['rating']\n",
    "\n",
    "# Prepare Test data\n",
    "x_test = reg_test_df.drop(['user','movie','rating'], axis=1)\n",
    "y_test = reg_test_df['rating']"
   ]
  },
  {
   "cell_type": "code",
   "execution_count": 95,
   "metadata": {
    "colab": {},
    "colab_type": "code",
    "id": "0z23w_HHxrra",
    "outputId": "e51e11b3-f92e-4af9-dc65-f981eabab9c7",
    "scrolled": false
   },
   "outputs": [
    {
     "name": "stdout",
     "output_type": "stream",
     "text": [
      "Tuning parameters: \n",
      "\n"
     ]
    }
   ],
   "source": [
    "params = {'learning_rate' :stats.uniform(0.01,0.2),\n",
    "             'n_estimators':sp_randint(100,1000),\n",
    "             'max_depth':sp_randint(1,10),\n",
    "             'min_child_weight':sp_randint(1,8),\n",
    "             'gamma':stats.uniform(0,0.02),\n",
    "             'subsample':stats.uniform(0.6,0.4),\n",
    "             'reg_alpha':sp_randint(0,200),\n",
    "             'reg_lambda':stats.uniform(0,200),\n",
    "             'colsample_bytree':stats.uniform(0.6,0.3)}\n",
    "\n",
    "\n",
    "# initialize XGBoost model...\n",
    "xgbreg = xgb.XGBRegressor(silent=True, n_jobs=-1, random_state=15)\n",
    "start =datetime.now()\n",
    "print('Tuning parameters: \\n')\n",
    "xgb_best = RandomizedSearchCV(xgbreg, param_distributions= params,refit=False, n_jobs=-1,scoring = \"neg_mean_squared_error\",\n",
    "                              cv = 3)\n",
    "xgb_best.fit(x_train, y_train)\n",
    "best_para = xgb_best.best_params_\n",
    "\n",
    "\n"
   ]
  },
  {
   "cell_type": "code",
   "execution_count": 96,
   "metadata": {
    "colab": {},
    "colab_type": "code",
    "id": "-MKrcwrUE4i2",
    "outputId": "9b9b472a-36b3-4af3-edc7-e9423944159b"
   },
   "outputs": [
    {
     "name": "stdout",
     "output_type": "stream",
     "text": [
      "Time taken to tune:0:02:58.295175\n",
      "\n",
      "Training the model..\n",
      "Done. Time taken : 0:00:39.090933\n",
      "\n",
      "Done \n",
      "\n",
      "Evaluating the model with TRAIN data...\n",
      "Evaluating Test data\n",
      "\n",
      "TEST DATA\n",
      "------------------------------\n",
      "RMSE :  1.102262457204713\n",
      "MAPE :  33.33930328957758\n"
     ]
    }
   ],
   "source": [
    "xgb_bsl = xgbreg.set_params(**best_para)\n",
    "print('Time taken to tune:{}\\n'.format(datetime.now()-start))\n",
    "\n",
    "train_results, test_results = run_xgboost(xgb_bsl, x_train, y_train, x_test, y_test)\n",
    "\n",
    "# store the results in models_evaluations dictionaries\n",
    "models_evaluation_train['xgb_bsl'] = train_results\n",
    "models_evaluation_test['xgb_bsl'] = test_results\n",
    "\n",
    "xgb.plot_importance(xgb_bsl)\n",
    "plt.show()"
   ]
  },
  {
   "cell_type": "markdown",
   "metadata": {
    "colab_type": "text",
    "id": "xiJEJeiyxrrc"
   },
   "source": [
    " "
   ]
  },
  {
   "cell_type": "markdown",
   "metadata": {
    "colab_type": "text",
    "id": "1g0yVadzxrrh"
   },
   "source": [
    " "
   ]
  },
  {
   "cell_type": "markdown",
   "metadata": {
    "colab_type": "text",
    "id": "2w39xJPlxrrh"
   },
   "source": [
    "<h3> 4.4.4 Surprise KNNBaseline predictor </h3>"
   ]
  },
  {
   "cell_type": "code",
   "execution_count": 97,
   "metadata": {
    "colab": {},
    "colab_type": "code",
    "id": "QaJlXYiKxrrh"
   },
   "outputs": [],
   "source": [
    "from surprise import KNNBaseline"
   ]
  },
  {
   "cell_type": "markdown",
   "metadata": {
    "colab_type": "text",
    "id": "6cdn8nTgxrrj"
   },
   "source": [
    "- KNN BASELINE\n",
    "    - http://surprise.readthedocs.io/en/stable/knn_inspired.html#surprise.prediction_algorithms.knns.KNNBaseline "
   ]
  },
  {
   "cell_type": "markdown",
   "metadata": {
    "colab_type": "text",
    "id": "2PpzK19dxrrj"
   },
   "source": [
    "- PEARSON_BASELINE SIMILARITY\n",
    "    - http://surprise.readthedocs.io/en/stable/similarities.html#surprise.similarities.pearson_baseline "
   ]
  },
  {
   "cell_type": "markdown",
   "metadata": {
    "colab_type": "text",
    "id": "s7uOgHb7xrrk"
   },
   "source": [
    "- SHRINKAGE\n",
    "    - _2.2 Neighborhood Models_ in http://courses.ischool.berkeley.edu/i290-dm/s11/SECURE/a1-koren.pdf "
   ]
  },
  {
   "cell_type": "markdown",
   "metadata": {
    "colab_type": "text",
    "id": "QFn0o57Lxrrk"
   },
   "source": [
    "- __predicted Rating__ : ( ___ based on User-User similarity ___ )\n",
    "\n",
    "\\begin{align} \\hat{r}_{ui} = b_{ui} + \\frac{ \\sum\\limits_{v \\in N^k_i(u)}\n",
    "\\text{sim}(u, v) \\cdot (r_{vi} - b_{vi})} {\\sum\\limits_{v \\in\n",
    "N^k_i(u)} \\text{sim}(u, v)} \\end{align}\n",
    "\n",
    "- $\\pmb{b_{ui}}$ -  _Baseline prediction_ of (user,movie) rating\n",
    "\n",
    "- $ \\pmb {N_i^k (u)}$ - Set of __K similar__ users (neighbours) of __user (u)__ who rated __movie(i)__  \n",
    "\n",
    "- _sim (u, v)_ - __Similarity__ between users __u and v__  \n",
    "    - Generally, it will be cosine similarity or Pearson correlation coefficient. \n",
    "    - But we use __shrunk Pearson-baseline correlation coefficient__, which is based on the pearsonBaseline similarity ( we take base line predictions instead of mean rating of user/item)\n",
    "       "
   ]
  },
  {
   "cell_type": "markdown",
   "metadata": {
    "colab_type": "text",
    "id": "G1o_o66Cxrrk"
   },
   "source": [
    " "
   ]
  },
  {
   "cell_type": "markdown",
   "metadata": {
    "colab_type": "text",
    "id": "1QCM5rlkxrrl"
   },
   "source": [
    "- __ Predicted rating __ ( based on Item Item similarity ):\n",
    " \\begin{align} \\hat{r}_{ui} = b_{ui} + \\frac{ \\sum\\limits_{j \\in N^k_u(i)}\\text{sim}(i, j) \\cdot (r_{uj} - b_{uj})} {\\sum\\limits_{j \\in N^k_u(j)} \\text{sim}(i, j)} \\end{align}\n",
    "\n",
    "    -  ___Notations follows same as above (user user based predicted rating ) ___"
   ]
  },
  {
   "cell_type": "markdown",
   "metadata": {
    "colab_type": "text",
    "id": "VCI_ZO0uxrrm"
   },
   "source": [
    "  <h4> 4.4.4.1 Surprise KNNBaseline with user user similarities</h4>"
   ]
  },
  {
   "cell_type": "code",
   "execution_count": 98,
   "metadata": {
    "colab": {},
    "colab_type": "code",
    "id": "wzIDc0Z9xrrm",
    "outputId": "3b216a14-66a1-41be-ccdd-586d890a0efd",
    "scrolled": false
   },
   "outputs": [
    {
     "name": "stdout",
     "output_type": "stream",
     "text": [
      "Training the model...\n",
      "Estimating biases using sgd...\n",
      "Computing the pearson_baseline similarity matrix...\n",
      "Done computing similarity matrix.\n",
      "Done. time taken : 0:00:40.148953 \n",
      "\n",
      "Evaluating the model with train data..\n",
      "time taken : 0:01:47.210471\n",
      "---------------\n",
      "Train Data\n",
      "---------------\n",
      "RMSE : 0.33642097416508826\n",
      "\n",
      "MAPE : 9.145093375416348\n",
      "\n",
      "adding train results in the dictionary..\n",
      "\n",
      "Evaluating for test data...\n",
      "time taken : 0:00:00.125455\n",
      "---------------\n",
      "Test Data\n",
      "---------------\n",
      "RMSE : 1.0726493739667242\n",
      "\n",
      "MAPE : 35.02094499698424\n",
      "\n",
      "storing the test results in test dictionary...\n",
      "\n",
      "---------------------------------------------\n",
      "Total time taken to run this algorithm : 0:02:27.485310\n"
     ]
    }
   ],
   "source": [
    "sim_options = {'user_based' : True,\n",
    "               'name': 'pearson_baseline',\n",
    "               'shrinkage': 100,\n",
    "               'min_support': 2\n",
    "              } \n",
    "\n",
    "bsl_options = {'method': 'sgd'} \n",
    "\n",
    "knn_bsl_u = KNNBaseline(k=40, sim_options = sim_options, bsl_options = bsl_options)\n",
    "knn_bsl_u_train_results, knn_bsl_u_test_results = run_surprise(knn_bsl_u, trainset, testset, verbose=True)\n",
    "\n",
    "models_evaluation_train['knn_bsl_u'] = knn_bsl_u_train_results \n",
    "models_evaluation_test['knn_bsl_u'] = knn_bsl_u_test_results\n"
   ]
  },
  {
   "cell_type": "markdown",
   "metadata": {
    "colab_type": "text",
    "id": "Kd9yvmiLxrro"
   },
   "source": [
    "<h4> 4.4.4.2 Surprise KNNBaseline with movie movie similarities</h4>"
   ]
  },
  {
   "cell_type": "code",
   "execution_count": 99,
   "metadata": {
    "colab": {},
    "colab_type": "code",
    "id": "XGv1yjv9xrro",
    "outputId": "6e1164ed-6151-49d1-d55a-b6c8e109cf23"
   },
   "outputs": [
    {
     "name": "stdout",
     "output_type": "stream",
     "text": [
      "Training the model...\n",
      "Estimating biases using sgd...\n",
      "Computing the pearson_baseline similarity matrix...\n",
      "Done computing similarity matrix.\n",
      "Done. time taken : 0:00:01.106865 \n",
      "\n",
      "Evaluating the model with train data..\n",
      "time taken : 0:00:10.825471\n",
      "---------------\n",
      "Train Data\n",
      "---------------\n",
      "RMSE : 0.32584796251610554\n",
      "\n",
      "MAPE : 8.447062581998374\n",
      "\n",
      "adding train results in the dictionary..\n",
      "\n",
      "Evaluating for test data...\n",
      "time taken : 0:00:00.231413\n",
      "---------------\n",
      "Test Data\n",
      "---------------\n",
      "RMSE : 1.072758832653683\n",
      "\n",
      "MAPE : 35.02269653015042\n",
      "\n",
      "storing the test results in test dictionary...\n",
      "\n",
      "---------------------------------------------\n",
      "Total time taken to run this algorithm : 0:00:12.164181\n"
     ]
    }
   ],
   "source": [
    "sim_options = {'user_based' : False,\n",
    "               'name': 'pearson_baseline',\n",
    "               'shrinkage': 100,\n",
    "               'min_support': 2\n",
    "              } \n",
    "\n",
    "bsl_options = {'method': 'sgd'}\n",
    "\n",
    "\n",
    "knn_bsl_m = KNNBaseline(k=40, sim_options = sim_options, bsl_options = bsl_options)\n",
    "\n",
    "knn_bsl_m_train_results, knn_bsl_m_test_results = run_surprise(knn_bsl_m, trainset, testset, verbose=True)\n",
    "\n",
    "models_evaluation_train['knn_bsl_m'] = knn_bsl_m_train_results \n",
    "models_evaluation_test['knn_bsl_m'] = knn_bsl_m_test_results\n"
   ]
  },
  {
   "cell_type": "markdown",
   "metadata": {
    "colab_type": "text",
    "id": "4fSwE4hxxrrr"
   },
   "source": [
    " "
   ]
  },
  {
   "cell_type": "markdown",
   "metadata": {
    "colab_type": "text",
    "id": "BFN8SP06xrrr"
   },
   "source": [
    "<h3> 4.4.5 XGBoost with initial 13 features + Surprise Baseline predictor + KNNBaseline predictor </h3>"
   ]
  },
  {
   "cell_type": "markdown",
   "metadata": {
    "colab_type": "text",
    "id": "9-S5MhTjxrrr"
   },
   "source": [
    "- - - First we will run XGBoost with predictions from both KNN's ( that uses User\\_User and Item\\_Item similarities along with our previous features.\n",
    "\n",
    " \n",
    "- - - Then we will run XGBoost with just predictions form both knn models and preditions from our baseline model. "
   ]
  },
  {
   "cell_type": "markdown",
   "metadata": {
    "colab_type": "text",
    "id": "DNs8hRmfxrrr"
   },
   "source": [
    "__Preparing Train data __"
   ]
  },
  {
   "cell_type": "code",
   "execution_count": 100,
   "metadata": {
    "colab": {},
    "colab_type": "code",
    "id": "fz7NsHUHxrrr",
    "outputId": "e3025e82-1136-4f0a-8b79-524498c5b46f"
   },
   "outputs": [
    {
     "data": {
      "text/html": [
       "<div>\n",
       "<style scoped>\n",
       "    .dataframe tbody tr th:only-of-type {\n",
       "        vertical-align: middle;\n",
       "    }\n",
       "\n",
       "    .dataframe tbody tr th {\n",
       "        vertical-align: top;\n",
       "    }\n",
       "\n",
       "    .dataframe thead th {\n",
       "        text-align: right;\n",
       "    }\n",
       "</style>\n",
       "<table border=\"1\" class=\"dataframe\">\n",
       "  <thead>\n",
       "    <tr style=\"text-align: right;\">\n",
       "      <th></th>\n",
       "      <th>user</th>\n",
       "      <th>movie</th>\n",
       "      <th>GAvg</th>\n",
       "      <th>sur1</th>\n",
       "      <th>sur2</th>\n",
       "      <th>sur3</th>\n",
       "      <th>sur4</th>\n",
       "      <th>sur5</th>\n",
       "      <th>smr1</th>\n",
       "      <th>smr2</th>\n",
       "      <th>smr3</th>\n",
       "      <th>smr4</th>\n",
       "      <th>smr5</th>\n",
       "      <th>UAvg</th>\n",
       "      <th>MAvg</th>\n",
       "      <th>rating</th>\n",
       "      <th>bslpr</th>\n",
       "      <th>knn_bsl_u</th>\n",
       "      <th>knn_bsl_m</th>\n",
       "    </tr>\n",
       "  </thead>\n",
       "  <tbody>\n",
       "    <tr>\n",
       "      <td>0</td>\n",
       "      <td>53406</td>\n",
       "      <td>33</td>\n",
       "      <td>3.581679</td>\n",
       "      <td>4.0</td>\n",
       "      <td>5.0</td>\n",
       "      <td>5.0</td>\n",
       "      <td>4.0</td>\n",
       "      <td>1.0</td>\n",
       "      <td>5.0</td>\n",
       "      <td>2.0</td>\n",
       "      <td>5.0</td>\n",
       "      <td>3.0</td>\n",
       "      <td>1.0</td>\n",
       "      <td>3.370370</td>\n",
       "      <td>4.092437</td>\n",
       "      <td>4</td>\n",
       "      <td>3.898982</td>\n",
       "      <td>3.93002</td>\n",
       "      <td>3.867958</td>\n",
       "    </tr>\n",
       "    <tr>\n",
       "      <td>1</td>\n",
       "      <td>99540</td>\n",
       "      <td>33</td>\n",
       "      <td>3.581679</td>\n",
       "      <td>5.0</td>\n",
       "      <td>5.0</td>\n",
       "      <td>5.0</td>\n",
       "      <td>4.0</td>\n",
       "      <td>5.0</td>\n",
       "      <td>3.0</td>\n",
       "      <td>4.0</td>\n",
       "      <td>4.0</td>\n",
       "      <td>3.0</td>\n",
       "      <td>5.0</td>\n",
       "      <td>3.555556</td>\n",
       "      <td>4.092437</td>\n",
       "      <td>3</td>\n",
       "      <td>3.371403</td>\n",
       "      <td>3.17733</td>\n",
       "      <td>3.076302</td>\n",
       "    </tr>\n",
       "  </tbody>\n",
       "</table>\n",
       "</div>"
      ],
      "text/plain": [
       "    user  movie      GAvg  sur1  sur2  sur3  sur4  sur5  smr1  smr2  smr3  \\\n",
       "0  53406     33  3.581679   4.0   5.0   5.0   4.0   1.0   5.0   2.0   5.0   \n",
       "1  99540     33  3.581679   5.0   5.0   5.0   4.0   5.0   3.0   4.0   4.0   \n",
       "\n",
       "   smr4  smr5      UAvg      MAvg  rating     bslpr  knn_bsl_u  knn_bsl_m  \n",
       "0   3.0   1.0  3.370370  4.092437       4  3.898982    3.93002   3.867958  \n",
       "1   3.0   5.0  3.555556  4.092437       3  3.371403    3.17733   3.076302  "
      ]
     },
     "execution_count": 100,
     "metadata": {},
     "output_type": "execute_result"
    }
   ],
   "source": [
    "# add the predicted values from both knns to this dataframe\n",
    "reg_train['knn_bsl_u'] = models_evaluation_train['knn_bsl_u']['predictions']\n",
    "reg_train['knn_bsl_m'] = models_evaluation_train['knn_bsl_m']['predictions']\n",
    "\n",
    "reg_train.head(2)"
   ]
  },
  {
   "cell_type": "markdown",
   "metadata": {
    "colab_type": "text",
    "id": "v_Hz6_buxrrw"
   },
   "source": [
    "__Preparing Test data  __"
   ]
  },
  {
   "cell_type": "code",
   "execution_count": 101,
   "metadata": {
    "colab": {},
    "colab_type": "code",
    "id": "BQCT1Vaexrrx",
    "outputId": "7137cabd-a1cb-46a6-b64f-937a1d7e407f"
   },
   "outputs": [
    {
     "data": {
      "text/html": [
       "<div>\n",
       "<style scoped>\n",
       "    .dataframe tbody tr th:only-of-type {\n",
       "        vertical-align: middle;\n",
       "    }\n",
       "\n",
       "    .dataframe tbody tr th {\n",
       "        vertical-align: top;\n",
       "    }\n",
       "\n",
       "    .dataframe thead th {\n",
       "        text-align: right;\n",
       "    }\n",
       "</style>\n",
       "<table border=\"1\" class=\"dataframe\">\n",
       "  <thead>\n",
       "    <tr style=\"text-align: right;\">\n",
       "      <th></th>\n",
       "      <th>user</th>\n",
       "      <th>movie</th>\n",
       "      <th>GAvg</th>\n",
       "      <th>sur1</th>\n",
       "      <th>sur2</th>\n",
       "      <th>sur3</th>\n",
       "      <th>sur4</th>\n",
       "      <th>sur5</th>\n",
       "      <th>smr1</th>\n",
       "      <th>smr2</th>\n",
       "      <th>smr3</th>\n",
       "      <th>smr4</th>\n",
       "      <th>smr5</th>\n",
       "      <th>UAvg</th>\n",
       "      <th>MAvg</th>\n",
       "      <th>rating</th>\n",
       "      <th>bslpr</th>\n",
       "      <th>knn_bsl_u</th>\n",
       "      <th>knn_bsl_m</th>\n",
       "    </tr>\n",
       "  </thead>\n",
       "  <tbody>\n",
       "    <tr>\n",
       "      <td>0</td>\n",
       "      <td>808635</td>\n",
       "      <td>71</td>\n",
       "      <td>3.581679</td>\n",
       "      <td>3.581679</td>\n",
       "      <td>3.581679</td>\n",
       "      <td>3.581679</td>\n",
       "      <td>3.581679</td>\n",
       "      <td>3.581679</td>\n",
       "      <td>3.581679</td>\n",
       "      <td>3.581679</td>\n",
       "      <td>3.581679</td>\n",
       "      <td>3.581679</td>\n",
       "      <td>3.581679</td>\n",
       "      <td>3.581679</td>\n",
       "      <td>3.581679</td>\n",
       "      <td>5</td>\n",
       "      <td>3.581679</td>\n",
       "      <td>3.581679</td>\n",
       "      <td>3.581679</td>\n",
       "    </tr>\n",
       "    <tr>\n",
       "      <td>1</td>\n",
       "      <td>941866</td>\n",
       "      <td>71</td>\n",
       "      <td>3.581679</td>\n",
       "      <td>3.581679</td>\n",
       "      <td>3.581679</td>\n",
       "      <td>3.581679</td>\n",
       "      <td>3.581679</td>\n",
       "      <td>3.581679</td>\n",
       "      <td>3.581679</td>\n",
       "      <td>3.581679</td>\n",
       "      <td>3.581679</td>\n",
       "      <td>3.581679</td>\n",
       "      <td>3.581679</td>\n",
       "      <td>3.581679</td>\n",
       "      <td>3.581679</td>\n",
       "      <td>4</td>\n",
       "      <td>3.581679</td>\n",
       "      <td>3.581679</td>\n",
       "      <td>3.581679</td>\n",
       "    </tr>\n",
       "  </tbody>\n",
       "</table>\n",
       "</div>"
      ],
      "text/plain": [
       "     user  movie      GAvg      sur1      sur2      sur3      sur4      sur5  \\\n",
       "0  808635     71  3.581679  3.581679  3.581679  3.581679  3.581679  3.581679   \n",
       "1  941866     71  3.581679  3.581679  3.581679  3.581679  3.581679  3.581679   \n",
       "\n",
       "       smr1      smr2      smr3      smr4      smr5      UAvg      MAvg  \\\n",
       "0  3.581679  3.581679  3.581679  3.581679  3.581679  3.581679  3.581679   \n",
       "1  3.581679  3.581679  3.581679  3.581679  3.581679  3.581679  3.581679   \n",
       "\n",
       "   rating     bslpr  knn_bsl_u  knn_bsl_m  \n",
       "0       5  3.581679   3.581679   3.581679  \n",
       "1       4  3.581679   3.581679   3.581679  "
      ]
     },
     "execution_count": 101,
     "metadata": {},
     "output_type": "execute_result"
    }
   ],
   "source": [
    "reg_test_df['knn_bsl_u'] = models_evaluation_test['knn_bsl_u']['predictions']\n",
    "reg_test_df['knn_bsl_m'] = models_evaluation_test['knn_bsl_m']['predictions']\n",
    "\n",
    "reg_test_df.head(2)"
   ]
  },
  {
   "cell_type": "code",
   "execution_count": 102,
   "metadata": {
    "colab": {},
    "colab_type": "code",
    "id": "6UitNMTyE4jr"
   },
   "outputs": [],
   "source": [
    "# prepare the train data....\n",
    "x_train = reg_train.drop(['user', 'movie', 'rating'], axis=1)\n",
    "y_train = reg_train['rating']\n",
    "\n",
    "# prepare the train data....\n",
    "x_test = reg_test_df.drop(['user','movie','rating'], axis=1)\n",
    "y_test = reg_test_df['rating']"
   ]
  },
  {
   "cell_type": "code",
   "execution_count": 103,
   "metadata": {
    "colab": {},
    "colab_type": "code",
    "id": "wZ2khR0Oxrrz",
    "outputId": "fc95b5f1-6eaf-4398-8015-729096e3629c"
   },
   "outputs": [
    {
     "name": "stdout",
     "output_type": "stream",
     "text": [
      "Tuning parameters: \n",
      "\n",
      "Time taken to tune:0:03:30.185592\n",
      "\n"
     ]
    }
   ],
   "source": [
    "\n",
    "params = {'learning_rate' :stats.uniform(0.01,0.2),\n",
    "             'n_estimators':sp_randint(100,1000),\n",
    "             'max_depth':sp_randint(1,10),\n",
    "             'min_child_weight':sp_randint(1,8),\n",
    "             'gamma':stats.uniform(0,0.02),\n",
    "             'subsample':stats.uniform(0.6,0.4),\n",
    "             'reg_alpha':sp_randint(0,200),\n",
    "             'reg_lambda':stats.uniform(0,200),\n",
    "             'colsample_bytree':stats.uniform(0.6,0.3)}\n",
    "\n",
    "\n",
    "# declare the model\n",
    "xgbreg = xgb.XGBRegressor(n_jobs=-1, random_state=15,silent=True)\n",
    "start =datetime.now()\n",
    "print('Tuning parameters: \\n')\n",
    "xgb_best = RandomizedSearchCV(xgbreg,param_distributions=params,refit=False, scoring =\"neg_mean_squared_error\",n_jobs=-1,cv = 3)\n",
    "xgb_best.fit(x_train, y_train)\n",
    "best_para = xgb_best.best_params_\n",
    "\n",
    "xgb_knn_bsl = xgbreg.set_params(**best_para)\n",
    "print('Time taken to tune:{}\\n'.format(datetime.now()-start))\n",
    "\n"
   ]
  },
  {
   "cell_type": "code",
   "execution_count": 130,
   "metadata": {
    "colab": {},
    "colab_type": "code",
    "id": "4VV8UacmE4jv",
    "outputId": "32bf7611-6bbd-4bff-b43c-a8494f043857"
   },
   "outputs": [
    {
     "name": "stdout",
     "output_type": "stream",
     "text": [
      "Training the model..\n",
      "Done. Time taken : 0:00:17.286745\n",
      "\n",
      "Done \n",
      "\n",
      "Evaluating the model with TRAIN data...\n",
      "Evaluating Test data\n",
      "\n",
      "TEST DATA\n",
      "------------------------------\n",
      "RMSE :  1.078218221196105\n",
      "MAPE :  34.67923077638975\n"
     ]
    },
    {
     "data": {
      "image/png": "[encoded data removed]",
      "text/plain": [
       "<Figure size 432x288 with 1 Axes>"
      ]
     },
     "metadata": {
      "needs_background": "light"
     },
     "output_type": "display_data"
    }
   ],
   "source": [
    "train_results, test_results = run_xgboost(xgb_knn_bsl, x_train, y_train, x_test, y_test)\n",
    "\n",
    "# store the results in models_evaluations dictionaries\n",
    "models_evaluation_train['xgb_knn_bsl'] = train_results\n",
    "models_evaluation_test['xgb_knn_bsl'] = test_results\n",
    "\n",
    "xgb.plot_importance(xgb_knn_bsl)\n",
    "plt.show()"
   ]
  },
  {
   "cell_type": "markdown",
   "metadata": {
    "colab_type": "text",
    "id": "kOZ62nT7xrr0"
   },
   "source": [
    "<h3> 4.4.6 Matrix Factorization Techniques </h3>"
   ]
  },
  {
   "cell_type": "markdown",
   "metadata": {
    "colab_type": "text",
    "id": "l8TKj6Ggxrr1"
   },
   "source": [
    "<h4> 4.4.6.1 SVD Matrix Factorization User Movie intractions </h4>"
   ]
  },
  {
   "cell_type": "code",
   "execution_count": 105,
   "metadata": {
    "colab": {},
    "colab_type": "code",
    "id": "PVKeXrzLxrr1"
   },
   "outputs": [],
   "source": [
    "from surprise import SVD"
   ]
  },
  {
   "cell_type": "markdown",
   "metadata": {
    "colab_type": "text",
    "id": "yMjw1PJyxrr3"
   },
   "source": [
    "http://surprise.readthedocs.io/en/stable/matrix_factorization.html#surprise.prediction_algorithms.matrix_factorization.SVD "
   ]
  },
  {
   "cell_type": "markdown",
   "metadata": {
    "colab_type": "text",
    "id": "bQia_R3Lxrr3"
   },
   "source": [
    "- __ Predicted Rating : __\n",
    "    - \n",
    "    - $ \\large  \\hat r_{ui} = \\mu + b_u + b_i + q_i^Tp_u $\n",
    "    \n",
    "        - $\\pmb q_i$ - Representation of item(movie) in latent factor space\n",
    "        \n",
    "        - $\\pmb p_u$ - Representation of user in new latent factor space\n",
    "        \n"
   ]
  },
  {
   "cell_type": "markdown",
   "metadata": {
    "colab_type": "text",
    "id": "C9iP5Kvyxrr3"
   },
   "source": [
    "- A BASIC MATRIX FACTORIZATION MODEL in  https://datajobs.com/data-science-repo/Recommender-Systems-[Netflix].pdf"
   ]
  },
  {
   "cell_type": "markdown",
   "metadata": {
    "colab_type": "text",
    "id": "N4djzeu0xrr3"
   },
   "source": [
    "- __Optimization problem with user item interactions and regularization (to avoid overfitting)__\n",
    "    - \n",
    "    - $\\large \\sum_{r_{ui} \\in R_{train}} \\left(r_{ui} - \\hat{r}_{ui} \\right)^2 +\n",
    "\\lambda\\left(b_i^2 + b_u^2 + ||q_i||^2 + ||p_u||^2\\right) $"
   ]
  },
  {
   "cell_type": "code",
   "execution_count": 106,
   "metadata": {
    "colab": {},
    "colab_type": "code",
    "id": "SDCetsu-xrr3",
    "outputId": "26accf59-7e7b-4973-9e3f-6a47d2a7c32d",
    "scrolled": false
   },
   "outputs": [
    {
     "name": "stdout",
     "output_type": "stream",
     "text": [
      "Training the model...\n",
      "Processing epoch 0\n",
      "Processing epoch 1\n",
      "Processing epoch 2\n",
      "Processing epoch 3\n",
      "Processing epoch 4\n",
      "Processing epoch 5\n",
      "Processing epoch 6\n",
      "Processing epoch 7\n",
      "Processing epoch 8\n",
      "Processing epoch 9\n",
      "Processing epoch 10\n",
      "Processing epoch 11\n",
      "Processing epoch 12\n",
      "Processing epoch 13\n",
      "Processing epoch 14\n",
      "Processing epoch 15\n",
      "Processing epoch 16\n",
      "Processing epoch 17\n",
      "Processing epoch 18\n",
      "Processing epoch 19\n",
      "Done. time taken : 0:00:08.822743 \n",
      "\n",
      "Evaluating the model with train data..\n",
      "time taken : 0:00:01.750050\n",
      "---------------\n",
      "Train Data\n",
      "---------------\n",
      "RMSE : 0.6574721240954099\n",
      "\n",
      "MAPE : 19.704901088660478\n",
      "\n",
      "adding train results in the dictionary..\n",
      "\n",
      "Evaluating for test data...\n",
      "time taken : 0:00:00.118848\n",
      "---------------\n",
      "Test Data\n",
      "---------------\n",
      "RMSE : 1.0726046873826458\n",
      "\n",
      "MAPE : 35.01953535988152\n",
      "\n",
      "storing the test results in test dictionary...\n",
      "\n",
      "---------------------------------------------\n",
      "Total time taken to run this algorithm : 0:00:10.692130\n"
     ]
    }
   ],
   "source": [
    "# initiallize the model\n",
    "svd = SVD(n_factors=100, biased=True, random_state=15, verbose=True)\n",
    "svd_train_results, svd_test_results = run_surprise(svd, trainset, testset, verbose=True)\n",
    "\n",
    "# Just store these error metrics in our models_evaluation datastructure\n",
    "models_evaluation_train['svd'] = svd_train_results \n",
    "models_evaluation_test['svd'] = svd_test_results"
   ]
  },
  {
   "cell_type": "markdown",
   "metadata": {
    "colab_type": "text",
    "id": "ZUujRuPYxrr5"
   },
   "source": [
    " "
   ]
  },
  {
   "cell_type": "markdown",
   "metadata": {
    "colab_type": "text",
    "id": "jmi0We7exrr6"
   },
   "source": [
    "  <h4> 4.4.6.2 SVD Matrix Factorization with implicit feedback from user ( user rated movies ) </h4>"
   ]
  },
  {
   "cell_type": "code",
   "execution_count": 107,
   "metadata": {
    "colab": {},
    "colab_type": "code",
    "id": "-V4gpAlPxrr6"
   },
   "outputs": [],
   "source": [
    "from surprise import SVDpp"
   ]
  },
  {
   "cell_type": "markdown",
   "metadata": {
    "colab_type": "text",
    "id": "SJll_qYrxrr9"
   },
   "source": [
    "- ----->  2.5 Implicit Feedback in http://courses.ischool.berkeley.edu/i290-dm/s11/SECURE/a1-koren.pdf"
   ]
  },
  {
   "cell_type": "markdown",
   "metadata": {
    "colab_type": "text",
    "id": "mbgkdFWUxrr-"
   },
   "source": [
    "- __ Predicted Rating : __\n",
    "    - \n",
    "    - $ \\large \\hat{r}_{ui} = \\mu + b_u + b_i + q_i^T\\left(p_u +\n",
    "    |I_u|^{-\\frac{1}{2}} \\sum_{j \\in I_u}y_j\\right) $ "
   ]
  },
  {
   "cell_type": "markdown",
   "metadata": {
    "colab_type": "text",
    "id": "ACwlEGXixrr-"
   },
   "source": [
    " - $ \\pmb{I_u}$ --- the set of all items rated by user u\n",
    "\n",
    "- $\\pmb{y_j}$ --- Our new set of item factors that capture implicit ratings.  "
   ]
  },
  {
   "cell_type": "markdown",
   "metadata": {
    "colab_type": "text",
    "id": "FCAxmVdfxrr_"
   },
   "source": [
    "- __Optimization problem with user item interactions and regularization (to avoid overfitting)__\n",
    "    - \n",
    "    - $ \\large \\sum_{r_{ui} \\in R_{train}} \\left(r_{ui} - \\hat{r}_{ui} \\right)^2 +\n",
    "\\lambda\\left(b_i^2 + b_u^2 + ||q_i||^2 + ||p_u||^2 + ||y_j||^2\\right) $ "
   ]
  },
  {
   "cell_type": "code",
   "execution_count": 108,
   "metadata": {
    "colab": {},
    "colab_type": "code",
    "id": "Ajw3SQdZxrr_",
    "outputId": "d4a9169f-e5da-4c71-9394-2de56687bad3",
    "scrolled": false
   },
   "outputs": [
    {
     "name": "stdout",
     "output_type": "stream",
     "text": [
      "Training the model...\n",
      " processing epoch 0\n",
      " processing epoch 1\n",
      " processing epoch 2\n",
      " processing epoch 3\n",
      " processing epoch 4\n",
      " processing epoch 5\n",
      " processing epoch 6\n",
      " processing epoch 7\n",
      " processing epoch 8\n",
      " processing epoch 9\n",
      " processing epoch 10\n",
      " processing epoch 11\n",
      " processing epoch 12\n",
      " processing epoch 13\n",
      " processing epoch 14\n",
      " processing epoch 15\n",
      " processing epoch 16\n",
      " processing epoch 17\n",
      " processing epoch 18\n",
      " processing epoch 19\n",
      "Done. time taken : 0:02:30.315329 \n",
      "\n",
      "Evaluating the model with train data..\n",
      "time taken : 0:00:11.243539\n",
      "---------------\n",
      "Train Data\n",
      "---------------\n",
      "RMSE : 0.6032438403305899\n",
      "\n",
      "MAPE : 17.49285063490268\n",
      "\n",
      "adding train results in the dictionary..\n",
      "\n",
      "Evaluating for test data...\n",
      "time taken : 0:00:00.123653\n",
      "---------------\n",
      "Test Data\n",
      "---------------\n",
      "RMSE : 1.0728491944183447\n",
      "\n",
      "MAPE : 35.03817913919887\n",
      "\n",
      "storing the test results in test dictionary...\n",
      "\n",
      "---------------------------------------------\n",
      "Total time taken to run this algorithm : 0:02:41.683214\n"
     ]
    }
   ],
   "source": [
    "# initiallize the model\n",
    "svdpp = SVDpp(n_factors=50, random_state=15, verbose=True)\n",
    "svdpp_train_results, svdpp_test_results = run_surprise(svdpp, trainset, testset, verbose=True)\n",
    "\n",
    "# Just store these error metrics in our models_evaluation datastructure\n",
    "models_evaluation_train['svdpp'] = svdpp_train_results \n",
    "models_evaluation_test['svdpp'] = svdpp_test_results\n"
   ]
  },
  {
   "cell_type": "markdown",
   "metadata": {
    "colab_type": "text",
    "id": "olxsWgLNxrsB"
   },
   "source": [
    " "
   ]
  },
  {
   "cell_type": "markdown",
   "metadata": {
    "colab_type": "text",
    "id": "1Ho6vTM4xrsB"
   },
   "source": [
    " "
   ]
  },
  {
   "cell_type": "markdown",
   "metadata": {
    "colab_type": "text",
    "id": "zAlGZGj_xrsB"
   },
   "source": [
    "<h3> 4.4.7 XgBoost with 13 features + Surprise Baseline + Surprise KNNbaseline + MF Techniques </h3>"
   ]
  },
  {
   "cell_type": "markdown",
   "metadata": {
    "colab_type": "text",
    "id": "woIqb160xrsC"
   },
   "source": [
    "__Preparing Train data__"
   ]
  },
  {
   "cell_type": "code",
   "execution_count": 109,
   "metadata": {
    "colab": {},
    "colab_type": "code",
    "id": "JrQkQ3u3xrsD",
    "outputId": "c33595e6-d05e-4807-e813-1ecd42da5e38",
    "scrolled": false
   },
   "outputs": [
    {
     "data": {
      "text/html": [
       "<div>\n",
       "<style scoped>\n",
       "    .dataframe tbody tr th:only-of-type {\n",
       "        vertical-align: middle;\n",
       "    }\n",
       "\n",
       "    .dataframe tbody tr th {\n",
       "        vertical-align: top;\n",
       "    }\n",
       "\n",
       "    .dataframe thead th {\n",
       "        text-align: right;\n",
       "    }\n",
       "</style>\n",
       "<table border=\"1\" class=\"dataframe\">\n",
       "  <thead>\n",
       "    <tr style=\"text-align: right;\">\n",
       "      <th></th>\n",
       "      <th>user</th>\n",
       "      <th>movie</th>\n",
       "      <th>GAvg</th>\n",
       "      <th>sur1</th>\n",
       "      <th>sur2</th>\n",
       "      <th>sur3</th>\n",
       "      <th>sur4</th>\n",
       "      <th>sur5</th>\n",
       "      <th>smr1</th>\n",
       "      <th>smr2</th>\n",
       "      <th>...</th>\n",
       "      <th>smr4</th>\n",
       "      <th>smr5</th>\n",
       "      <th>UAvg</th>\n",
       "      <th>MAvg</th>\n",
       "      <th>rating</th>\n",
       "      <th>bslpr</th>\n",
       "      <th>knn_bsl_u</th>\n",
       "      <th>knn_bsl_m</th>\n",
       "      <th>svd</th>\n",
       "      <th>svdpp</th>\n",
       "    </tr>\n",
       "  </thead>\n",
       "  <tbody>\n",
       "    <tr>\n",
       "      <td>0</td>\n",
       "      <td>53406</td>\n",
       "      <td>33</td>\n",
       "      <td>3.581679</td>\n",
       "      <td>4.0</td>\n",
       "      <td>5.0</td>\n",
       "      <td>5.0</td>\n",
       "      <td>4.0</td>\n",
       "      <td>1.0</td>\n",
       "      <td>5.0</td>\n",
       "      <td>2.0</td>\n",
       "      <td>...</td>\n",
       "      <td>3.0</td>\n",
       "      <td>1.0</td>\n",
       "      <td>3.370370</td>\n",
       "      <td>4.092437</td>\n",
       "      <td>4</td>\n",
       "      <td>3.898982</td>\n",
       "      <td>3.93002</td>\n",
       "      <td>3.867958</td>\n",
       "      <td>4.303764</td>\n",
       "      <td>3.621664</td>\n",
       "    </tr>\n",
       "    <tr>\n",
       "      <td>1</td>\n",
       "      <td>99540</td>\n",
       "      <td>33</td>\n",
       "      <td>3.581679</td>\n",
       "      <td>5.0</td>\n",
       "      <td>5.0</td>\n",
       "      <td>5.0</td>\n",
       "      <td>4.0</td>\n",
       "      <td>5.0</td>\n",
       "      <td>3.0</td>\n",
       "      <td>4.0</td>\n",
       "      <td>...</td>\n",
       "      <td>3.0</td>\n",
       "      <td>5.0</td>\n",
       "      <td>3.555556</td>\n",
       "      <td>4.092437</td>\n",
       "      <td>3</td>\n",
       "      <td>3.371403</td>\n",
       "      <td>3.17733</td>\n",
       "      <td>3.076302</td>\n",
       "      <td>3.278967</td>\n",
       "      <td>3.538247</td>\n",
       "    </tr>\n",
       "  </tbody>\n",
       "</table>\n",
       "<p>2 rows × 21 columns</p>\n",
       "</div>"
      ],
      "text/plain": [
       "    user  movie      GAvg  sur1  sur2  sur3  sur4  sur5  smr1  smr2  ...  \\\n",
       "0  53406     33  3.581679   4.0   5.0   5.0   4.0   1.0   5.0   2.0  ...   \n",
       "1  99540     33  3.581679   5.0   5.0   5.0   4.0   5.0   3.0   4.0  ...   \n",
       "\n",
       "   smr4  smr5      UAvg      MAvg  rating     bslpr  knn_bsl_u  knn_bsl_m  \\\n",
       "0   3.0   1.0  3.370370  4.092437       4  3.898982    3.93002   3.867958   \n",
       "1   3.0   5.0  3.555556  4.092437       3  3.371403    3.17733   3.076302   \n",
       "\n",
       "        svd     svdpp  \n",
       "0  4.303764  3.621664  \n",
       "1  3.278967  3.538247  \n",
       "\n",
       "[2 rows x 21 columns]"
      ]
     },
     "execution_count": 109,
     "metadata": {},
     "output_type": "execute_result"
    }
   ],
   "source": [
    "# add the predicted values from both knns to this dataframe\n",
    "reg_train['svd'] = models_evaluation_train['svd']['predictions']\n",
    "reg_train['svdpp'] = models_evaluation_train['svdpp']['predictions']\n",
    "\n",
    "reg_train.head(2) "
   ]
  },
  {
   "cell_type": "markdown",
   "metadata": {
    "colab_type": "text",
    "id": "T87HaSHExrsE"
   },
   "source": [
    "__Preparing Test data  __"
   ]
  },
  {
   "cell_type": "code",
   "execution_count": 110,
   "metadata": {
    "colab": {},
    "colab_type": "code",
    "id": "5YFZJ6sqxrsE",
    "outputId": "39997a27-2a18-46b8-8b1f-f43f5b502151"
   },
   "outputs": [
    {
     "data": {
      "text/html": [
       "<div>\n",
       "<style scoped>\n",
       "    .dataframe tbody tr th:only-of-type {\n",
       "        vertical-align: middle;\n",
       "    }\n",
       "\n",
       "    .dataframe tbody tr th {\n",
       "        vertical-align: top;\n",
       "    }\n",
       "\n",
       "    .dataframe thead th {\n",
       "        text-align: right;\n",
       "    }\n",
       "</style>\n",
       "<table border=\"1\" class=\"dataframe\">\n",
       "  <thead>\n",
       "    <tr style=\"text-align: right;\">\n",
       "      <th></th>\n",
       "      <th>user</th>\n",
       "      <th>movie</th>\n",
       "      <th>GAvg</th>\n",
       "      <th>sur1</th>\n",
       "      <th>sur2</th>\n",
       "      <th>sur3</th>\n",
       "      <th>sur4</th>\n",
       "      <th>sur5</th>\n",
       "      <th>smr1</th>\n",
       "      <th>smr2</th>\n",
       "      <th>...</th>\n",
       "      <th>smr4</th>\n",
       "      <th>smr5</th>\n",
       "      <th>UAvg</th>\n",
       "      <th>MAvg</th>\n",
       "      <th>rating</th>\n",
       "      <th>bslpr</th>\n",
       "      <th>knn_bsl_u</th>\n",
       "      <th>knn_bsl_m</th>\n",
       "      <th>svd</th>\n",
       "      <th>svdpp</th>\n",
       "    </tr>\n",
       "  </thead>\n",
       "  <tbody>\n",
       "    <tr>\n",
       "      <td>0</td>\n",
       "      <td>808635</td>\n",
       "      <td>71</td>\n",
       "      <td>3.581679</td>\n",
       "      <td>3.581679</td>\n",
       "      <td>3.581679</td>\n",
       "      <td>3.581679</td>\n",
       "      <td>3.581679</td>\n",
       "      <td>3.581679</td>\n",
       "      <td>3.581679</td>\n",
       "      <td>3.581679</td>\n",
       "      <td>...</td>\n",
       "      <td>3.581679</td>\n",
       "      <td>3.581679</td>\n",
       "      <td>3.581679</td>\n",
       "      <td>3.581679</td>\n",
       "      <td>5</td>\n",
       "      <td>3.581679</td>\n",
       "      <td>3.581679</td>\n",
       "      <td>3.581679</td>\n",
       "      <td>3.581679</td>\n",
       "      <td>3.581679</td>\n",
       "    </tr>\n",
       "    <tr>\n",
       "      <td>1</td>\n",
       "      <td>941866</td>\n",
       "      <td>71</td>\n",
       "      <td>3.581679</td>\n",
       "      <td>3.581679</td>\n",
       "      <td>3.581679</td>\n",
       "      <td>3.581679</td>\n",
       "      <td>3.581679</td>\n",
       "      <td>3.581679</td>\n",
       "      <td>3.581679</td>\n",
       "      <td>3.581679</td>\n",
       "      <td>...</td>\n",
       "      <td>3.581679</td>\n",
       "      <td>3.581679</td>\n",
       "      <td>3.581679</td>\n",
       "      <td>3.581679</td>\n",
       "      <td>4</td>\n",
       "      <td>3.581679</td>\n",
       "      <td>3.581679</td>\n",
       "      <td>3.581679</td>\n",
       "      <td>3.581679</td>\n",
       "      <td>3.581679</td>\n",
       "    </tr>\n",
       "  </tbody>\n",
       "</table>\n",
       "<p>2 rows × 21 columns</p>\n",
       "</div>"
      ],
      "text/plain": [
       "     user  movie      GAvg      sur1      sur2      sur3      sur4      sur5  \\\n",
       "0  808635     71  3.581679  3.581679  3.581679  3.581679  3.581679  3.581679   \n",
       "1  941866     71  3.581679  3.581679  3.581679  3.581679  3.581679  3.581679   \n",
       "\n",
       "       smr1      smr2  ...      smr4      smr5      UAvg      MAvg  rating  \\\n",
       "0  3.581679  3.581679  ...  3.581679  3.581679  3.581679  3.581679       5   \n",
       "1  3.581679  3.581679  ...  3.581679  3.581679  3.581679  3.581679       4   \n",
       "\n",
       "      bslpr  knn_bsl_u  knn_bsl_m       svd     svdpp  \n",
       "0  3.581679   3.581679   3.581679  3.581679  3.581679  \n",
       "1  3.581679   3.581679   3.581679  3.581679  3.581679  \n",
       "\n",
       "[2 rows x 21 columns]"
      ]
     },
     "execution_count": 110,
     "metadata": {},
     "output_type": "execute_result"
    }
   ],
   "source": [
    "reg_test_df['svd'] = models_evaluation_test['svd']['predictions']\n",
    "reg_test_df['svdpp'] = models_evaluation_test['svdpp']['predictions']\n",
    "\n",
    "reg_test_df.head(2) "
   ]
  },
  {
   "cell_type": "markdown",
   "metadata": {
    "colab_type": "text",
    "id": "t7zUJRT3xrsG"
   },
   "source": [
    " "
   ]
  },
  {
   "cell_type": "code",
   "execution_count": 139,
   "metadata": {
    "colab": {},
    "colab_type": "code",
    "id": "HI3dkgNqE4kN"
   },
   "outputs": [],
   "source": [
    "# prepare x_train and y_train\n",
    "x_train = reg_train.drop(['user', 'movie', 'rating',], axis=1)\n",
    "y_train = reg_train['rating']\n",
    "\n",
    "# prepare test data\n",
    "x_test = reg_test_df.drop(['user', 'movie', 'rating'], axis=1)\n",
    "y_test = reg_test_df['rating']"
   ]
  },
  {
   "cell_type": "code",
   "execution_count": 140,
   "metadata": {
    "colab": {},
    "colab_type": "code",
    "id": "8txfT1mCxrsG",
    "outputId": "83ccbda0-527a-4e09-c9cf-ae86ac1cd7c1",
    "scrolled": false
   },
   "outputs": [
    {
     "name": "stdout",
     "output_type": "stream",
     "text": [
      "Tuning parameters: \n",
      "\n",
      "Time taken to tune:0:04:08.130257\n",
      "\n",
      "Training the model..\n",
      "Done. Time taken : 0:00:02.877652\n",
      "\n",
      "Done \n",
      "\n",
      "Evaluating the model with TRAIN data...\n",
      "Evaluating Test data\n",
      "\n",
      "TEST DATA\n",
      "------------------------------\n",
      "RMSE :  1.0769599573828592\n",
      "MAPE :  34.431788329400995\n"
     ]
    }
   ],
   "source": [
    "params = {'learning_rate' :stats.uniform(0.01,0.2),\n",
    "             'n_estimators':sp_randint(100,1000),\n",
    "             'max_depth':sp_randint(1,10),\n",
    "             'min_child_weight':sp_randint(1,8),\n",
    "             'gamma':stats.uniform(0,0.02),\n",
    "             'subsample':stats.uniform(0.6,0.4),\n",
    "             'reg_alpha':sp_randint(0,200),\n",
    "             'reg_lambda':stats.uniform(0,200),\n",
    "             'colsample_bytree':stats.uniform(0.6,0.3)}\n",
    "\n",
    "\n",
    "xgbreg = xgb.XGBRegressor(silent=True, n_jobs=-1, random_state=15)\n",
    "start =datetime.now()\n",
    "print('Tuning parameters: \\n')\n",
    "xgb_best = RandomizedSearchCV(xgbreg, param_distributions= params,refit=False, scoring = \"neg_mean_squared_error\",n_jobs=-1,\n",
    "                              cv = 3)\n",
    "xgb_best.fit(x_train, y_train)\n",
    "best_para = xgb_best.best_params_\n",
    "xgb_final = xgbreg.set_params(**best_para)\n",
    "print('Time taken to tune:{}\\n'.format(datetime.now()-start))\n",
    "\n",
    "train_results, test_results = run_xgboost(xgb_final, x_train, y_train, x_test, y_test)\n",
    "\n",
    "# store the results in models_evaluations dictionaries\n",
    "models_evaluation_train['xgb_final'] = train_results\n",
    "models_evaluation_test['xgb_final'] = test_results\n",
    "\n",
    "xgb.plot_importance(xgb_final)\n",
    "%matplotlib inline \n",
    "plt.show()\n"
   ]
  },
  {
   "cell_type": "markdown",
   "metadata": {
    "colab_type": "text",
    "id": "NN-0BKnXxrsI"
   },
   "source": [
    "<h3> 4.4.8 XgBoost with Surprise Baseline + Surprise KNNbaseline + MF Techniques </h3>"
   ]
  },
  {
   "cell_type": "code",
   "execution_count": 114,
   "metadata": {
    "colab": {},
    "colab_type": "code",
    "id": "d0UtwKiME4kV"
   },
   "outputs": [],
   "source": [
    "# prepare train data\n",
    "x_train = reg_train[['knn_bsl_u', 'knn_bsl_m', 'svd', 'svdpp']]\n",
    "y_train = reg_train['rating']\n",
    "\n",
    "# test data\n",
    "x_test = reg_test_df[['knn_bsl_u', 'knn_bsl_m', 'svd', 'svdpp']]\n",
    "y_test = reg_test_df['rating']"
   ]
  },
  {
   "cell_type": "code",
   "execution_count": 142,
   "metadata": {
    "colab": {},
    "colab_type": "code",
    "id": "dDhtaW-jE4kY",
    "outputId": "519b6ec2-5b82-421f-b5e1-e7303f0a6e6c"
   },
   "outputs": [
    {
     "name": "stdout",
     "output_type": "stream",
     "text": [
      "Tuning parameters: \n",
      "\n",
      "Time taken to tune:0:03:37.045916\n",
      "\n",
      "Training the model..\n",
      "Done. Time taken : 0:00:43.968665\n",
      "\n",
      "Done \n",
      "\n",
      "Evaluating the model with TRAIN data...\n",
      "Evaluating Test data\n",
      "\n",
      "TEST DATA\n",
      "------------------------------\n",
      "RMSE :  1.0852313091511783\n",
      "MAPE :  33.93522108320247\n"
     ]
    },
    {
     "data": {
      "image/png": "[encoded data removed]",
      "text/plain": [
       "<Figure size 432x288 with 1 Axes>"
      ]
     },
     "metadata": {
      "needs_background": "light"
     },
     "output_type": "display_data"
    }
   ],
   "source": [
    "params = {'learning_rate' :stats.uniform(0.01,0.2),\n",
    "             'n_estimators':sp_randint(100,1000),\n",
    "             'max_depth':sp_randint(1,10),\n",
    "             'min_child_weight':sp_randint(1,8),\n",
    "             'gamma':stats.uniform(0,0.02),\n",
    "             'subsample':stats.uniform(0.6,0.4),\n",
    "             'reg_alpha':sp_randint(0,200),\n",
    "             'reg_lambda':stats.uniform(0,200),\n",
    "             'colsample_bytree':stats.uniform(0.6,0.3)}\n",
    "\n",
    "\n",
    "# Declare  XGBoost model...\n",
    "xgbreg = xgb.XGBRegressor(silent=True, n_jobs=-1, random_state=15)\n",
    "start =datetime.now()\n",
    "print('Tuning parameters: \\n')\n",
    "xgb_best = RandomizedSearchCV(xgbreg, param_distributions= params,refit=False, scoring = \"neg_mean_squared_error\",n_jobs=-1,\n",
    "                              cv = 3)\n",
    "xgb_best.fit(x_train, y_train)\n",
    "best_para = xgb_best.best_params_\n",
    "xgb_all_models = xgbreg.set_params(**best_para)\n",
    "print('Time taken to tune:{}\\n'.format(datetime.now()-start))\n",
    "\n",
    "train_results, test_results = run_xgboost(xgb_all_models, x_train, y_train, x_test, y_test)\n",
    "\n",
    "# store the results in models_evaluations dictionaries\n",
    "models_evaluation_train['xgb_all_models'] = train_results\n",
    "models_evaluation_test['xgb_all_models'] = test_results\n",
    "\n",
    "xgb.plot_importance(xgb_all_models)\n",
    "plt.show()"
   ]
  },
  {
   "cell_type": "markdown",
   "metadata": {
    "colab_type": "text",
    "id": "Yd0ye7O1xrsR"
   },
   "source": [
    "<h2> 4.5 Comparision between all models </h2>"
   ]
  },
  {
   "cell_type": "code",
   "execution_count": 117,
   "metadata": {
    "colab": {},
    "colab_type": "code",
    "id": "DxsS3JKnxrsS",
    "outputId": "9124baa4-ff9f-4ab4-c9f4-4d4af70f46f7",
    "scrolled": false
   },
   "outputs": [
    {
     "data": {
      "text/plain": [
       "svd               1.0726046873826458\n",
       "knn_bsl_u         1.0726493739667242\n",
       "knn_bsl_m          1.072758832653683\n",
       "svdpp             1.0728491944183447\n",
       "bsl_algo          1.0730330260516174\n",
       "xgb_all_models    1.0752437472043015\n",
       "xgb_final         1.0771592382781046\n",
       "xgb_bsl            1.102262457204713\n",
       "xgb_knn_bsl       1.1406059492924692\n",
       "first_algo        1.2170483232478921\n",
       "Name: rmse, dtype: object"
      ]
     },
     "execution_count": 117,
     "metadata": {},
     "output_type": "execute_result"
    }
   ],
   "source": [
    "# Saving our TEST_RESULTS into a dataframe so that you don't have to run it again\n",
    "pd.DataFrame(models_evaluation_test).to_csv('tuned__results.csv')\n",
    "models = pd.read_csv('tuned__results.csv', index_col=0)\n",
    "models.loc['rmse'].sort_values()"
   ]
  },
  {
   "cell_type": "markdown",
   "metadata": {
    "colab_type": "text",
    "id": "qYeiZUxxE4kl"
   },
   "source": [
    "# Ploting the RMSE of tunned model performance"
   ]
  },
  {
   "cell_type": "code",
   "execution_count": 118,
   "metadata": {
    "colab": {},
    "colab_type": "code",
    "id": "wTN6YRp3E4km",
    "outputId": "6bb43ab9-7425-45a7-9b5b-a51128337c35"
   },
   "outputs": [
    {
     "data": {
      "image/png": "[encoded data removed]",
      "text/plain": [
       "<Figure size 432x288 with 1 Axes>"
      ]
     },
     "metadata": {
      "needs_background": "light"
     },
     "output_type": "display_data"
    }
   ],
   "source": [
    "train_performance = pd.DataFrame(models_evaluation_train)\n",
    "test_performance = pd.DataFrame(models_evaluation_test)\n",
    "performance_dataframe = pd.DataFrame({'Train':train_performance.loc[\"rmse\"],'Test':test_performance.loc[\"rmse\"]})\n",
    "performance_dataframe.plot(kind = \"bar\",grid = True)\n",
    "plt.title(\"Train and Test RMSE of all Models\")\n",
    "plt.ylabel(\"Error Values\")\n",
    "plt.show()"
   ]
  },
  {
   "cell_type": "markdown",
   "metadata": {
    "colab_type": "text",
    "id": "31NeJ69ME4ko"
   },
   "source": [
    "Obseravation:\n",
    "    \n",
    "    it has been seen that UAv is always most important feature among all\n",
    "    \n",
    "    Mavg, Uavg ,svd are amongst most important feature\n",
    "    \n",
    "    some of the model are Overfit based on the RMSE like baseline user(bsl_u), baseline movie(bsl_m) and svdpp\n",
    "    \n",
    "    overall RMSE value of all models have almost same train and test RMSE value. "
   ]
  },
  {
   "cell_type": "markdown",
   "metadata": {
    "colab_type": "text",
    "id": "NXNT_fUrxrsX"
   },
   "source": [
    " "
   ]
  },
  {
   "cell_type": "code",
   "execution_count": null,
   "metadata": {
    "colab": {},
    "colab_type": "code",
    "id": "DgllQbkfxrsX",
    "outputId": "530dd853-d632-4187-b1f8-be58f60b5e28",
    "scrolled": true
   },
   "outputs": [],
   "source": []
  },
  {
   "cell_type": "code",
   "execution_count": null,
   "metadata": {},
   "outputs": [],
   "source": []
  }
 ],
 "metadata": {
  "colab": {
   "name": "Netflix_Movie_RS.ipynb",
   "provenance": [],
   "version": "0.3.2"
  },
  "kernelspec": {
   "display_name": "Python 3",
   "language": "python",
   "name": "python3"
  },
  "language_info": {
   "codemirror_mode": {
    "name": "ipython",
    "version": 3
   },
   "file_extension": ".py",
   "mimetype": "text/x-python",
   "name": "python",
   "nbconvert_exporter": "python",
   "pygments_lexer": "ipython3",
   "version": "3.7.1"
  }
 },
 "nbformat": 4,
 "nbformat_minor": 1
}
